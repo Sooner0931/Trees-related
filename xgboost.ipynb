{
  "nbformat": 4,
  "nbformat_minor": 0,
  "metadata": {
    "colab": {
      "name": "xgboost.ipynb",
      "provenance": [],
      "collapsed_sections": [],
      "toc_visible": true
    },
    "kernelspec": {
      "name": "python3",
      "display_name": "Python 3"
    }
  },
  "cells": [
    {
      "cell_type": "code",
      "metadata": {
        "id": "MG6NayOyaBX9",
        "colab_type": "code",
        "colab": {
          "base_uri": "https://localhost:8080/",
          "height": 578
        },
        "outputId": "13baa6e2-f1b8-4b78-ad7a-1f232816ba3f"
      },
      "source": [
        "!pip3 install comet_ml"
      ],
      "execution_count": 1,
      "outputs": [
        {
          "output_type": "stream",
          "text": [
            "Collecting comet_ml\n",
            "\u001b[?25l  Downloading https://files.pythonhosted.org/packages/7e/52/6b67e507158d7a1a1019b76074d1cfc90e431461cc8be385e3df0d2e7096/comet_ml-3.1.17-py2.py3-none-any.whl (217kB)\n",
            "\r\u001b[K     |█▌                              | 10kB 19.0MB/s eta 0:00:01\r\u001b[K     |███                             | 20kB 2.6MB/s eta 0:00:01\r\u001b[K     |████▌                           | 30kB 3.5MB/s eta 0:00:01\r\u001b[K     |██████                          | 40kB 3.8MB/s eta 0:00:01\r\u001b[K     |███████▌                        | 51kB 3.6MB/s eta 0:00:01\r\u001b[K     |█████████                       | 61kB 3.8MB/s eta 0:00:01\r\u001b[K     |██████████▌                     | 71kB 4.1MB/s eta 0:00:01\r\u001b[K     |████████████                    | 81kB 4.4MB/s eta 0:00:01\r\u001b[K     |█████████████▌                  | 92kB 4.3MB/s eta 0:00:01\r\u001b[K     |███████████████                 | 102kB 4.5MB/s eta 0:00:01\r\u001b[K     |████████████████▌               | 112kB 4.5MB/s eta 0:00:01\r\u001b[K     |██████████████████              | 122kB 4.5MB/s eta 0:00:01\r\u001b[K     |███████████████████▋            | 133kB 4.5MB/s eta 0:00:01\r\u001b[K     |█████████████████████           | 143kB 4.5MB/s eta 0:00:01\r\u001b[K     |██████████████████████▋         | 153kB 4.5MB/s eta 0:00:01\r\u001b[K     |████████████████████████        | 163kB 4.5MB/s eta 0:00:01\r\u001b[K     |█████████████████████████▋      | 174kB 4.5MB/s eta 0:00:01\r\u001b[K     |███████████████████████████     | 184kB 4.5MB/s eta 0:00:01\r\u001b[K     |████████████████████████████▋   | 194kB 4.5MB/s eta 0:00:01\r\u001b[K     |██████████████████████████████  | 204kB 4.5MB/s eta 0:00:01\r\u001b[K     |███████████████████████████████▋| 215kB 4.5MB/s eta 0:00:01\r\u001b[K     |████████████████████████████████| 225kB 4.5MB/s \n",
            "\u001b[?25hRequirement already satisfied: requests>=2.18.4 in /usr/local/lib/python3.6/dist-packages (from comet_ml) (2.23.0)\n",
            "Collecting websocket-client>=0.55.0\n",
            "\u001b[?25l  Downloading https://files.pythonhosted.org/packages/4c/5f/f61b420143ed1c8dc69f9eaec5ff1ac36109d52c80de49d66e0c36c3dfdf/websocket_client-0.57.0-py2.py3-none-any.whl (200kB)\n",
            "\u001b[K     |████████████████████████████████| 204kB 8.5MB/s \n",
            "\u001b[?25hRequirement already satisfied: wrapt>=1.11.2 in /usr/local/lib/python3.6/dist-packages (from comet_ml) (1.12.1)\n",
            "Collecting netifaces>=0.10.7\n",
            "  Downloading https://files.pythonhosted.org/packages/0c/9b/c4c7eb09189548d45939a3d3a6b3d53979c67d124459b27a094c365c347f/netifaces-0.10.9-cp36-cp36m-manylinux1_x86_64.whl\n",
            "Collecting everett[ini]>=1.0.1; python_version >= \"3.0\"\n",
            "  Downloading https://files.pythonhosted.org/packages/12/34/de70a3d913411e40ce84966f085b5da0c6df741e28c86721114dd290aaa0/everett-1.0.2-py2.py3-none-any.whl\n",
            "Requirement already satisfied: nvidia-ml-py3>=7.352.0 in /usr/local/lib/python3.6/dist-packages (from comet_ml) (7.352.0)\n",
            "Requirement already satisfied: jsonschema!=3.1.0,>=2.6.0 in /usr/local/lib/python3.6/dist-packages (from comet_ml) (2.6.0)\n",
            "Collecting comet-git-pure>=0.19.16\n",
            "\u001b[?25l  Downloading https://files.pythonhosted.org/packages/72/7a/483413046e48908986a0f9a1d8a917e1da46ae58e6ba16b2ac71b3adf8d7/comet_git_pure-0.19.16-py3-none-any.whl (409kB)\n",
            "\u001b[K     |████████████████████████████████| 419kB 9.2MB/s \n",
            "\u001b[?25hCollecting wurlitzer>=1.0.2\n",
            "  Downloading https://files.pythonhosted.org/packages/0c/1e/52f4effa64a447c4ec0fb71222799e2ac32c55b4b6c1725fccdf6123146e/wurlitzer-2.0.1-py2.py3-none-any.whl\n",
            "Requirement already satisfied: six in /usr/local/lib/python3.6/dist-packages (from comet_ml) (1.15.0)\n",
            "Requirement already satisfied: chardet<4,>=3.0.2 in /usr/local/lib/python3.6/dist-packages (from requests>=2.18.4->comet_ml) (3.0.4)\n",
            "Requirement already satisfied: urllib3!=1.25.0,!=1.25.1,<1.26,>=1.21.1 in /usr/local/lib/python3.6/dist-packages (from requests>=2.18.4->comet_ml) (1.24.3)\n",
            "Requirement already satisfied: idna<3,>=2.5 in /usr/local/lib/python3.6/dist-packages (from requests>=2.18.4->comet_ml) (2.10)\n",
            "Requirement already satisfied: certifi>=2017.4.17 in /usr/local/lib/python3.6/dist-packages (from requests>=2.18.4->comet_ml) (2020.6.20)\n",
            "Collecting configobj; extra == \"ini\"\n",
            "  Downloading https://files.pythonhosted.org/packages/64/61/079eb60459c44929e684fa7d9e2fdca403f67d64dd9dbac27296be2e0fab/configobj-5.0.6.tar.gz\n",
            "Building wheels for collected packages: configobj\n",
            "  Building wheel for configobj (setup.py) ... \u001b[?25l\u001b[?25hdone\n",
            "  Created wheel for configobj: filename=configobj-5.0.6-cp36-none-any.whl size=34546 sha256=840f4706a2ef0697aa808ff73040840df2c6050b0e200a4f1995b196b2db836c\n",
            "  Stored in directory: /root/.cache/pip/wheels/f1/e4/16/4981ca97c2d65106b49861e0b35e2660695be7219a2d351ee0\n",
            "Successfully built configobj\n",
            "Installing collected packages: websocket-client, netifaces, configobj, everett, comet-git-pure, wurlitzer, comet-ml\n",
            "Successfully installed comet-git-pure-0.19.16 comet-ml-3.1.17 configobj-5.0.6 everett-1.0.2 netifaces-0.10.9 websocket-client-0.57.0 wurlitzer-2.0.1\n"
          ],
          "name": "stdout"
        }
      ]
    },
    {
      "cell_type": "code",
      "metadata": {
        "id": "eDgQZzbHnJtO",
        "colab_type": "code",
        "colab": {}
      },
      "source": [
        "from comet_ml import Experiment"
      ],
      "execution_count": 2,
      "outputs": []
    },
    {
      "cell_type": "code",
      "metadata": {
        "id": "l50ArRSonS9k",
        "colab_type": "code",
        "colab": {
          "base_uri": "https://localhost:8080/",
          "height": 51
        },
        "outputId": "3f9f5292-5d8a-4926-8bec-7f982368b2b3"
      },
      "source": [
        "experiment = Experiment(api_key=\"BZppyirjvBwWdPwtOmPAwWYkp\",\n",
        "                        project_name=\"xgboost\", workspace=\"sooner0931\",\n",
        "                        log_env_details=True, log_code=True)"
      ],
      "execution_count": 3,
      "outputs": [
        {
          "output_type": "stream",
          "text": [
            "COMET INFO: Experiment is live on comet.ml https://www.comet.ml/sooner0931/xgboost/5fc52cc0a47a4087898685d2122b8f4e\n",
            "\n"
          ],
          "name": "stderr"
        }
      ]
    },
    {
      "cell_type": "code",
      "metadata": {
        "id": "L-OOkqcVYfuw",
        "colab_type": "code",
        "colab": {
          "base_uri": "https://localhost:8080/",
          "height": 306
        },
        "outputId": "604dd9fa-5340-4b43-9d02-7d2633451de2"
      },
      "source": [
        "!pip install watermark"
      ],
      "execution_count": 4,
      "outputs": [
        {
          "output_type": "stream",
          "text": [
            "Collecting watermark\n",
            "  Downloading https://files.pythonhosted.org/packages/60/fe/3ed83b6122e70dce6fe269dfd763103c333f168bf91037add73ea4fe81c2/watermark-2.0.2-py2.py3-none-any.whl\n",
            "Requirement already satisfied: ipython in /usr/local/lib/python3.6/dist-packages (from watermark) (5.5.0)\n",
            "Requirement already satisfied: prompt-toolkit<2.0.0,>=1.0.4 in /usr/local/lib/python3.6/dist-packages (from ipython->watermark) (1.0.18)\n",
            "Requirement already satisfied: traitlets>=4.2 in /usr/local/lib/python3.6/dist-packages (from ipython->watermark) (4.3.3)\n",
            "Requirement already satisfied: setuptools>=18.5 in /usr/local/lib/python3.6/dist-packages (from ipython->watermark) (49.2.0)\n",
            "Requirement already satisfied: pygments in /usr/local/lib/python3.6/dist-packages (from ipython->watermark) (2.1.3)\n",
            "Requirement already satisfied: pexpect; sys_platform != \"win32\" in /usr/local/lib/python3.6/dist-packages (from ipython->watermark) (4.8.0)\n",
            "Requirement already satisfied: decorator in /usr/local/lib/python3.6/dist-packages (from ipython->watermark) (4.4.2)\n",
            "Requirement already satisfied: pickleshare in /usr/local/lib/python3.6/dist-packages (from ipython->watermark) (0.7.5)\n",
            "Requirement already satisfied: simplegeneric>0.8 in /usr/local/lib/python3.6/dist-packages (from ipython->watermark) (0.8.1)\n",
            "Requirement already satisfied: six>=1.9.0 in /usr/local/lib/python3.6/dist-packages (from prompt-toolkit<2.0.0,>=1.0.4->ipython->watermark) (1.15.0)\n",
            "Requirement already satisfied: wcwidth in /usr/local/lib/python3.6/dist-packages (from prompt-toolkit<2.0.0,>=1.0.4->ipython->watermark) (0.2.5)\n",
            "Requirement already satisfied: ipython-genutils in /usr/local/lib/python3.6/dist-packages (from traitlets>=4.2->ipython->watermark) (0.2.0)\n",
            "Requirement already satisfied: ptyprocess>=0.5 in /usr/local/lib/python3.6/dist-packages (from pexpect; sys_platform != \"win32\"->ipython->watermark) (0.6.0)\n",
            "Installing collected packages: watermark\n",
            "Successfully installed watermark-2.0.2\n"
          ],
          "name": "stdout"
        }
      ]
    },
    {
      "cell_type": "code",
      "metadata": {
        "id": "QCseSbwEXIU7",
        "colab_type": "code",
        "colab": {}
      },
      "source": [
        "import numpy as np\n",
        "import pandas as pd\n",
        "\n",
        "from sklearn.model_selection import train_test_split, GridSearchCV\n",
        "from sklearn.metrics import balanced_accuracy_score, roc_auc_score, make_scorer\n",
        "from sklearn.metrics import confusion_matrix, plot_confusion_matrix, plot_roc_curve\n",
        "\n",
        "import xgboost as xgb"
      ],
      "execution_count": 5,
      "outputs": []
    },
    {
      "cell_type": "code",
      "metadata": {
        "id": "gP86F6haXLqE",
        "colab_type": "code",
        "colab": {
          "base_uri": "https://localhost:8080/",
          "height": 51
        },
        "outputId": "b366e728-0c8d-4f6b-c373-745f66d0567a"
      },
      "source": [
        "import graphviz\n",
        "import missingno\n",
        "\n",
        "import matplotlib.pyplot as plt\n",
        "\n",
        "%matplotlib inline"
      ],
      "execution_count": 6,
      "outputs": [
        {
          "output_type": "stream",
          "text": [
            "/usr/local/lib/python3.6/dist-packages/statsmodels/tools/_testing.py:19: FutureWarning: pandas.util.testing is deprecated. Use the functions in the public API at pandas.testing instead.\n",
            "  import pandas.util.testing as tm\n"
          ],
          "name": "stderr"
        }
      ]
    },
    {
      "cell_type": "code",
      "metadata": {
        "id": "Rsq9Gs70XS9W",
        "colab_type": "code",
        "colab": {
          "base_uri": "https://localhost:8080/",
          "height": 119
        },
        "outputId": "bdee70e1-b8f2-4df6-82b2-175a31ffccc2"
      },
      "source": [
        "%load_ext watermark\n",
        "%watermark --iversions"
      ],
      "execution_count": 7,
      "outputs": [
        {
          "output_type": "stream",
          "text": [
            "missingno 0.4.2\n",
            "xgboost   0.90\n",
            "graphviz  0.10.1\n",
            "numpy     1.18.5\n",
            "pandas    1.0.5\n",
            "\n"
          ],
          "name": "stdout"
        }
      ]
    },
    {
      "cell_type": "code",
      "metadata": {
        "id": "ut_sHIrGZKiM",
        "colab_type": "code",
        "colab": {}
      },
      "source": [
        ""
      ],
      "execution_count": null,
      "outputs": []
    },
    {
      "cell_type": "code",
      "metadata": {
        "id": "a4Cbj4NLZKkh",
        "colab_type": "code",
        "colab": {}
      },
      "source": [
        ""
      ],
      "execution_count": null,
      "outputs": []
    },
    {
      "cell_type": "code",
      "metadata": {
        "id": "QvdpD_YKb5m9",
        "colab_type": "code",
        "colab": {
          "base_uri": "https://localhost:8080/",
          "height": 122
        },
        "outputId": "d04ddbb1-7487-4fa2-cdc2-44631c75d025"
      },
      "source": [
        "from google.colab import drive \n",
        "drive.mount('/content/gdrive')"
      ],
      "execution_count": 8,
      "outputs": [
        {
          "output_type": "stream",
          "text": [
            "Go to this URL in a browser: https://accounts.google.com/o/oauth2/auth?client_id=947318989803-6bn6qk8qdgf4n4g3pfee6491hc0brc4i.apps.googleusercontent.com&redirect_uri=urn%3aietf%3awg%3aoauth%3a2.0%3aoob&scope=email%20https%3a%2f%2fwww.googleapis.com%2fauth%2fdocs.test%20https%3a%2f%2fwww.googleapis.com%2fauth%2fdrive%20https%3a%2f%2fwww.googleapis.com%2fauth%2fdrive.photos.readonly%20https%3a%2f%2fwww.googleapis.com%2fauth%2fpeopleapi.readonly&response_type=code\n",
            "\n",
            "Enter your authorization code:\n",
            "··········\n",
            "Mounted at /content/gdrive\n"
          ],
          "name": "stdout"
        }
      ]
    },
    {
      "cell_type": "code",
      "metadata": {
        "id": "BArWb9MPgDOE",
        "colab_type": "code",
        "colab": {}
      },
      "source": [
        "df = pd.read_csv('gdrive/My Drive/Telco_customer_churn.csv')"
      ],
      "execution_count": 9,
      "outputs": []
    },
    {
      "cell_type": "code",
      "metadata": {
        "id": "TpLHz2jFgytF",
        "colab_type": "code",
        "colab": {
          "base_uri": "https://localhost:8080/",
          "height": 595
        },
        "outputId": "6f170c4e-527d-457f-9670-c64f36969c20"
      },
      "source": [
        "df.dtypes"
      ],
      "execution_count": 10,
      "outputs": [
        {
          "output_type": "execute_result",
          "data": {
            "text/plain": [
              "CustomerID            object\n",
              "Count                  int64\n",
              "Country               object\n",
              "State                 object\n",
              "City                  object\n",
              "Zip Code               int64\n",
              "Lat Long              object\n",
              "Latitude             float64\n",
              "Longitude            float64\n",
              "Gender                object\n",
              "Senior Citizen        object\n",
              "Partner               object\n",
              "Dependents            object\n",
              "Tenure Months          int64\n",
              "Phone Service         object\n",
              "Multiple Lines        object\n",
              "Internet Service      object\n",
              "Online Security       object\n",
              "Online Backup         object\n",
              "Device Protection     object\n",
              "Tech Support          object\n",
              "Streaming TV          object\n",
              "Streaming Movies      object\n",
              "Contract              object\n",
              "Paperless Billing     object\n",
              "Payment Method        object\n",
              "Monthly Charges      float64\n",
              "Total Charges         object\n",
              "Churn Label           object\n",
              "Churn Value            int64\n",
              "Churn Score            int64\n",
              "CLTV                   int64\n",
              "Churn Reason          object\n",
              "dtype: object"
            ]
          },
          "metadata": {
            "tags": []
          },
          "execution_count": 10
        }
      ]
    },
    {
      "cell_type": "code",
      "metadata": {
        "id": "uozRR_5shOZR",
        "colab_type": "code",
        "colab": {
          "base_uri": "https://localhost:8080/",
          "height": 34
        },
        "outputId": "7a3775ab-5fb8-47ff-aee8-a27b2ef614de"
      },
      "source": [
        "df['Churn Label'].unique()"
      ],
      "execution_count": 11,
      "outputs": [
        {
          "output_type": "execute_result",
          "data": {
            "text/plain": [
              "array(['Yes', 'No'], dtype=object)"
            ]
          },
          "metadata": {
            "tags": []
          },
          "execution_count": 11
        }
      ]
    },
    {
      "cell_type": "code",
      "metadata": {
        "id": "75uYBShfhTDd",
        "colab_type": "code",
        "colab": {
          "base_uri": "https://localhost:8080/",
          "height": 170
        },
        "outputId": "1ebc7a1c-17b2-4bbf-bb7d-3c0d44d740cf"
      },
      "source": [
        "df.columns"
      ],
      "execution_count": 12,
      "outputs": [
        {
          "output_type": "execute_result",
          "data": {
            "text/plain": [
              "Index(['CustomerID', 'Count', 'Country', 'State', 'City', 'Zip Code',\n",
              "       'Lat Long', 'Latitude', 'Longitude', 'Gender', 'Senior Citizen',\n",
              "       'Partner', 'Dependents', 'Tenure Months', 'Phone Service',\n",
              "       'Multiple Lines', 'Internet Service', 'Online Security',\n",
              "       'Online Backup', 'Device Protection', 'Tech Support', 'Streaming TV',\n",
              "       'Streaming Movies', 'Contract', 'Paperless Billing', 'Payment Method',\n",
              "       'Monthly Charges', 'Total Charges', 'Churn Label', 'Churn Value',\n",
              "       'Churn Score', 'CLTV', 'Churn Reason'],\n",
              "      dtype='object')"
            ]
          },
          "metadata": {
            "tags": []
          },
          "execution_count": 12
        }
      ]
    },
    {
      "cell_type": "code",
      "metadata": {
        "id": "nO-wx7aPhuck",
        "colab_type": "code",
        "colab": {
          "base_uri": "https://localhost:8080/",
          "height": 34
        },
        "outputId": "9a415311-4fc1-4dab-8d02-dab8942393a2"
      },
      "source": [
        "df.shape"
      ],
      "execution_count": 13,
      "outputs": [
        {
          "output_type": "execute_result",
          "data": {
            "text/plain": [
              "(7043, 33)"
            ]
          },
          "metadata": {
            "tags": []
          },
          "execution_count": 13
        }
      ]
    },
    {
      "cell_type": "code",
      "metadata": {
        "id": "70o2NYL2lB69",
        "colab_type": "code",
        "colab": {
          "base_uri": "https://localhost:8080/",
          "height": 247
        },
        "outputId": "bfebef5f-fb70-45d3-bce3-c088ba140044"
      },
      "source": [
        "df.head(3)"
      ],
      "execution_count": 14,
      "outputs": [
        {
          "output_type": "execute_result",
          "data": {
            "text/html": [
              "<div>\n",
              "<style scoped>\n",
              "    .dataframe tbody tr th:only-of-type {\n",
              "        vertical-align: middle;\n",
              "    }\n",
              "\n",
              "    .dataframe tbody tr th {\n",
              "        vertical-align: top;\n",
              "    }\n",
              "\n",
              "    .dataframe thead th {\n",
              "        text-align: right;\n",
              "    }\n",
              "</style>\n",
              "<table border=\"1\" class=\"dataframe\">\n",
              "  <thead>\n",
              "    <tr style=\"text-align: right;\">\n",
              "      <th></th>\n",
              "      <th>CustomerID</th>\n",
              "      <th>Count</th>\n",
              "      <th>Country</th>\n",
              "      <th>State</th>\n",
              "      <th>City</th>\n",
              "      <th>Zip Code</th>\n",
              "      <th>Lat Long</th>\n",
              "      <th>Latitude</th>\n",
              "      <th>Longitude</th>\n",
              "      <th>Gender</th>\n",
              "      <th>Senior Citizen</th>\n",
              "      <th>Partner</th>\n",
              "      <th>Dependents</th>\n",
              "      <th>Tenure Months</th>\n",
              "      <th>Phone Service</th>\n",
              "      <th>Multiple Lines</th>\n",
              "      <th>Internet Service</th>\n",
              "      <th>Online Security</th>\n",
              "      <th>Online Backup</th>\n",
              "      <th>Device Protection</th>\n",
              "      <th>Tech Support</th>\n",
              "      <th>Streaming TV</th>\n",
              "      <th>Streaming Movies</th>\n",
              "      <th>Contract</th>\n",
              "      <th>Paperless Billing</th>\n",
              "      <th>Payment Method</th>\n",
              "      <th>Monthly Charges</th>\n",
              "      <th>Total Charges</th>\n",
              "      <th>Churn Label</th>\n",
              "      <th>Churn Value</th>\n",
              "      <th>Churn Score</th>\n",
              "      <th>CLTV</th>\n",
              "      <th>Churn Reason</th>\n",
              "    </tr>\n",
              "  </thead>\n",
              "  <tbody>\n",
              "    <tr>\n",
              "      <th>0</th>\n",
              "      <td>3668-QPYBK</td>\n",
              "      <td>1</td>\n",
              "      <td>United States</td>\n",
              "      <td>California</td>\n",
              "      <td>Los Angeles</td>\n",
              "      <td>90003</td>\n",
              "      <td>33.964131, -118.272783</td>\n",
              "      <td>33.964131</td>\n",
              "      <td>-118.272783</td>\n",
              "      <td>Male</td>\n",
              "      <td>No</td>\n",
              "      <td>No</td>\n",
              "      <td>No</td>\n",
              "      <td>2</td>\n",
              "      <td>Yes</td>\n",
              "      <td>No</td>\n",
              "      <td>DSL</td>\n",
              "      <td>Yes</td>\n",
              "      <td>Yes</td>\n",
              "      <td>No</td>\n",
              "      <td>No</td>\n",
              "      <td>No</td>\n",
              "      <td>No</td>\n",
              "      <td>Month-to-month</td>\n",
              "      <td>Yes</td>\n",
              "      <td>Mailed check</td>\n",
              "      <td>53.85</td>\n",
              "      <td>108.15</td>\n",
              "      <td>Yes</td>\n",
              "      <td>1</td>\n",
              "      <td>86</td>\n",
              "      <td>3239</td>\n",
              "      <td>Competitor made better offer</td>\n",
              "    </tr>\n",
              "    <tr>\n",
              "      <th>1</th>\n",
              "      <td>9237-HQITU</td>\n",
              "      <td>1</td>\n",
              "      <td>United States</td>\n",
              "      <td>California</td>\n",
              "      <td>Los Angeles</td>\n",
              "      <td>90005</td>\n",
              "      <td>34.059281, -118.30742</td>\n",
              "      <td>34.059281</td>\n",
              "      <td>-118.307420</td>\n",
              "      <td>Female</td>\n",
              "      <td>No</td>\n",
              "      <td>No</td>\n",
              "      <td>Yes</td>\n",
              "      <td>2</td>\n",
              "      <td>Yes</td>\n",
              "      <td>No</td>\n",
              "      <td>Fiber optic</td>\n",
              "      <td>No</td>\n",
              "      <td>No</td>\n",
              "      <td>No</td>\n",
              "      <td>No</td>\n",
              "      <td>No</td>\n",
              "      <td>No</td>\n",
              "      <td>Month-to-month</td>\n",
              "      <td>Yes</td>\n",
              "      <td>Electronic check</td>\n",
              "      <td>70.70</td>\n",
              "      <td>151.65</td>\n",
              "      <td>Yes</td>\n",
              "      <td>1</td>\n",
              "      <td>67</td>\n",
              "      <td>2701</td>\n",
              "      <td>Moved</td>\n",
              "    </tr>\n",
              "    <tr>\n",
              "      <th>2</th>\n",
              "      <td>9305-CDSKC</td>\n",
              "      <td>1</td>\n",
              "      <td>United States</td>\n",
              "      <td>California</td>\n",
              "      <td>Los Angeles</td>\n",
              "      <td>90006</td>\n",
              "      <td>34.048013, -118.293953</td>\n",
              "      <td>34.048013</td>\n",
              "      <td>-118.293953</td>\n",
              "      <td>Female</td>\n",
              "      <td>No</td>\n",
              "      <td>No</td>\n",
              "      <td>Yes</td>\n",
              "      <td>8</td>\n",
              "      <td>Yes</td>\n",
              "      <td>Yes</td>\n",
              "      <td>Fiber optic</td>\n",
              "      <td>No</td>\n",
              "      <td>No</td>\n",
              "      <td>Yes</td>\n",
              "      <td>No</td>\n",
              "      <td>Yes</td>\n",
              "      <td>Yes</td>\n",
              "      <td>Month-to-month</td>\n",
              "      <td>Yes</td>\n",
              "      <td>Electronic check</td>\n",
              "      <td>99.65</td>\n",
              "      <td>820.5</td>\n",
              "      <td>Yes</td>\n",
              "      <td>1</td>\n",
              "      <td>86</td>\n",
              "      <td>5372</td>\n",
              "      <td>Moved</td>\n",
              "    </tr>\n",
              "  </tbody>\n",
              "</table>\n",
              "</div>"
            ],
            "text/plain": [
              "   CustomerID  Count  ...  CLTV                  Churn Reason\n",
              "0  3668-QPYBK      1  ...  3239  Competitor made better offer\n",
              "1  9237-HQITU      1  ...  2701                         Moved\n",
              "2  9305-CDSKC      1  ...  5372                         Moved\n",
              "\n",
              "[3 rows x 33 columns]"
            ]
          },
          "metadata": {
            "tags": []
          },
          "execution_count": 14
        }
      ]
    },
    {
      "cell_type": "code",
      "metadata": {
        "id": "igO4aQu6l95x",
        "colab_type": "code",
        "colab": {}
      },
      "source": [
        ""
      ],
      "execution_count": null,
      "outputs": []
    },
    {
      "cell_type": "code",
      "metadata": {
        "id": "aYfQuCGSmEe9",
        "colab_type": "code",
        "colab": {}
      },
      "source": [
        ""
      ],
      "execution_count": null,
      "outputs": []
    },
    {
      "cell_type": "code",
      "metadata": {
        "id": "TS09n_jLmYbv",
        "colab_type": "code",
        "colab": {
          "base_uri": "https://localhost:8080/",
          "height": 1000
        },
        "outputId": "488790fa-a09d-4a1e-8753-649408262e76"
      },
      "source": [
        "for i in df.columns:\n",
        "  print(f\"For '{i}' \\nthe unique values listed :\\n{df[i].unique()}\")\n",
        "  print()"
      ],
      "execution_count": 15,
      "outputs": [
        {
          "output_type": "stream",
          "text": [
            "For 'CustomerID' \n",
            "the unique values listed :\n",
            "['3668-QPYBK' '9237-HQITU' '9305-CDSKC' ... '2234-XADUH' '4801-JZAZL'\n",
            " '3186-AJIEK']\n",
            "\n",
            "For 'Count' \n",
            "the unique values listed :\n",
            "[1]\n",
            "\n",
            "For 'Country' \n",
            "the unique values listed :\n",
            "['United States']\n",
            "\n",
            "For 'State' \n",
            "the unique values listed :\n",
            "['California']\n",
            "\n",
            "For 'City' \n",
            "the unique values listed :\n",
            "['Los Angeles' 'Beverly Hills' 'Huntington Park' ... 'Standish' 'Tulelake'\n",
            " 'Olympic Valley']\n",
            "\n",
            "For 'Zip Code' \n",
            "the unique values listed :\n",
            "[90003 90005 90006 ... 96128 96134 96146]\n",
            "\n",
            "For 'Lat Long' \n",
            "the unique values listed :\n",
            "['33.964131, -118.272783' '34.059281, -118.30742' '34.048013, -118.293953'\n",
            " ... '40.346634, -120.386422' '41.813521, -121.492666'\n",
            " '39.191797, -120.212401']\n",
            "\n",
            "For 'Latitude' \n",
            "the unique values listed :\n",
            "[33.964131 34.059281 34.048013 ... 40.346634 41.813521 39.191797]\n",
            "\n",
            "For 'Longitude' \n",
            "the unique values listed :\n",
            "[-118.272783 -118.30742  -118.293953 ... -120.386422 -121.492666\n",
            " -120.212401]\n",
            "\n",
            "For 'Gender' \n",
            "the unique values listed :\n",
            "['Male' 'Female']\n",
            "\n",
            "For 'Senior Citizen' \n",
            "the unique values listed :\n",
            "['No' 'Yes']\n",
            "\n",
            "For 'Partner' \n",
            "the unique values listed :\n",
            "['No' 'Yes']\n",
            "\n",
            "For 'Dependents' \n",
            "the unique values listed :\n",
            "['No' 'Yes']\n",
            "\n",
            "For 'Tenure Months' \n",
            "the unique values listed :\n",
            "[ 2  8 28 49 10  1 47 17  5 34 11 15 18  9  7 12 25 68 55 37  3 27 20  4\n",
            " 58 53 13  6 19 59 16 52 24 32 38 54 43 63 21 69 22 61 60 48 40 23 39 35\n",
            " 56 65 33 30 45 46 62 70 50 44 71 26 14 41 66 64 29 42 67 51 31 57 36 72\n",
            "  0]\n",
            "\n",
            "For 'Phone Service' \n",
            "the unique values listed :\n",
            "['Yes' 'No']\n",
            "\n",
            "For 'Multiple Lines' \n",
            "the unique values listed :\n",
            "['No' 'Yes' 'No phone service']\n",
            "\n",
            "For 'Internet Service' \n",
            "the unique values listed :\n",
            "['DSL' 'Fiber optic' 'No']\n",
            "\n",
            "For 'Online Security' \n",
            "the unique values listed :\n",
            "['Yes' 'No' 'No internet service']\n",
            "\n",
            "For 'Online Backup' \n",
            "the unique values listed :\n",
            "['Yes' 'No' 'No internet service']\n",
            "\n",
            "For 'Device Protection' \n",
            "the unique values listed :\n",
            "['No' 'Yes' 'No internet service']\n",
            "\n",
            "For 'Tech Support' \n",
            "the unique values listed :\n",
            "['No' 'Yes' 'No internet service']\n",
            "\n",
            "For 'Streaming TV' \n",
            "the unique values listed :\n",
            "['No' 'Yes' 'No internet service']\n",
            "\n",
            "For 'Streaming Movies' \n",
            "the unique values listed :\n",
            "['No' 'Yes' 'No internet service']\n",
            "\n",
            "For 'Contract' \n",
            "the unique values listed :\n",
            "['Month-to-month' 'Two year' 'One year']\n",
            "\n",
            "For 'Paperless Billing' \n",
            "the unique values listed :\n",
            "['Yes' 'No']\n",
            "\n",
            "For 'Payment Method' \n",
            "the unique values listed :\n",
            "['Mailed check' 'Electronic check' 'Bank transfer (automatic)'\n",
            " 'Credit card (automatic)']\n",
            "\n",
            "For 'Monthly Charges' \n",
            "the unique values listed :\n",
            "[ 53.85  70.7   99.65 ... 108.35  63.1   78.7 ]\n",
            "\n",
            "For 'Total Charges' \n",
            "the unique values listed :\n",
            "['108.15' '151.65' '820.5' ... '7362.9' '346.45' '6844.5']\n",
            "\n",
            "For 'Churn Label' \n",
            "the unique values listed :\n",
            "['Yes' 'No']\n",
            "\n",
            "For 'Churn Value' \n",
            "the unique values listed :\n",
            "[1 0]\n",
            "\n",
            "For 'Churn Score' \n",
            "the unique values listed :\n",
            "[ 86  67  84  89  78 100  92  77  97  74  66  65  70  90  82  69  81  96\n",
            "  87  88  75  76  95  99  80  73  94  83  98  71  85  68  91  93  72  79\n",
            "  27  61  43  51  58  39  35  57  53  21  38  40  41  22  25  64  49  62\n",
            "  52  59  29  33  20  30  26  54  56  55  28  37   9  60  24  63  23  47\n",
            "  32   8  46  42  48  36  34   7  50  44  31   5  45]\n",
            "\n",
            "For 'CLTV' \n",
            "the unique values listed :\n",
            "[3239 2701 5372 ... 2770 4645 5553]\n",
            "\n",
            "For 'Churn Reason' \n",
            "the unique values listed :\n",
            "['Competitor made better offer' 'Moved' 'Competitor had better devices'\n",
            " 'Competitor offered higher download speeds'\n",
            " 'Competitor offered more data' 'Price too high' 'Product dissatisfaction'\n",
            " 'Service dissatisfaction' 'Lack of self-service on Website'\n",
            " 'Network reliability' 'Limited range of services'\n",
            " 'Lack of affordable download/upload speed' 'Long distance charges'\n",
            " 'Extra data charges' \"Don't know\" 'Poor expertise of online support'\n",
            " 'Poor expertise of phone support' 'Attitude of service provider'\n",
            " 'Attitude of support person' 'Deceased' nan]\n",
            "\n"
          ],
          "name": "stdout"
        }
      ]
    },
    {
      "cell_type": "code",
      "metadata": {
        "id": "_isxP8sRmYeh",
        "colab_type": "code",
        "colab": {}
      },
      "source": [
        "df.drop(['Churn Label', 'Churn Score', 'CLTV', 'Churn Reason'], axis = 1, inplace = True)"
      ],
      "execution_count": 16,
      "outputs": []
    },
    {
      "cell_type": "code",
      "metadata": {
        "id": "UW9mlsS4wpMW",
        "colab_type": "code",
        "colab": {
          "base_uri": "https://localhost:8080/",
          "height": 510
        },
        "outputId": "77bdc93e-0cf8-4d21-9b74-ad3cf1b0f5dd"
      },
      "source": [
        "for i in df.columns:\n",
        "  print(i)"
      ],
      "execution_count": 17,
      "outputs": [
        {
          "output_type": "stream",
          "text": [
            "CustomerID\n",
            "Count\n",
            "Country\n",
            "State\n",
            "City\n",
            "Zip Code\n",
            "Lat Long\n",
            "Latitude\n",
            "Longitude\n",
            "Gender\n",
            "Senior Citizen\n",
            "Partner\n",
            "Dependents\n",
            "Tenure Months\n",
            "Phone Service\n",
            "Multiple Lines\n",
            "Internet Service\n",
            "Online Security\n",
            "Online Backup\n",
            "Device Protection\n",
            "Tech Support\n",
            "Streaming TV\n",
            "Streaming Movies\n",
            "Contract\n",
            "Paperless Billing\n",
            "Payment Method\n",
            "Monthly Charges\n",
            "Total Charges\n",
            "Churn Value\n"
          ],
          "name": "stdout"
        }
      ]
    },
    {
      "cell_type": "code",
      "metadata": {
        "id": "vULujeltvBg6",
        "colab_type": "code",
        "colab": {}
      },
      "source": [
        "df.drop(['CustomerID', 'Count', 'Country', 'State', 'Lat Long'], axis = 1, inplace = True)"
      ],
      "execution_count": 18,
      "outputs": []
    },
    {
      "cell_type": "code",
      "metadata": {
        "id": "xP7-Upc3vBqA",
        "colab_type": "code",
        "colab": {
          "base_uri": "https://localhost:8080/",
          "height": 230
        },
        "outputId": "674a43a5-67e4-48f3-b6c5-61e6e2fac681"
      },
      "source": [
        "df.head(3)"
      ],
      "execution_count": 19,
      "outputs": [
        {
          "output_type": "execute_result",
          "data": {
            "text/html": [
              "<div>\n",
              "<style scoped>\n",
              "    .dataframe tbody tr th:only-of-type {\n",
              "        vertical-align: middle;\n",
              "    }\n",
              "\n",
              "    .dataframe tbody tr th {\n",
              "        vertical-align: top;\n",
              "    }\n",
              "\n",
              "    .dataframe thead th {\n",
              "        text-align: right;\n",
              "    }\n",
              "</style>\n",
              "<table border=\"1\" class=\"dataframe\">\n",
              "  <thead>\n",
              "    <tr style=\"text-align: right;\">\n",
              "      <th></th>\n",
              "      <th>City</th>\n",
              "      <th>Zip Code</th>\n",
              "      <th>Latitude</th>\n",
              "      <th>Longitude</th>\n",
              "      <th>Gender</th>\n",
              "      <th>Senior Citizen</th>\n",
              "      <th>Partner</th>\n",
              "      <th>Dependents</th>\n",
              "      <th>Tenure Months</th>\n",
              "      <th>Phone Service</th>\n",
              "      <th>Multiple Lines</th>\n",
              "      <th>Internet Service</th>\n",
              "      <th>Online Security</th>\n",
              "      <th>Online Backup</th>\n",
              "      <th>Device Protection</th>\n",
              "      <th>Tech Support</th>\n",
              "      <th>Streaming TV</th>\n",
              "      <th>Streaming Movies</th>\n",
              "      <th>Contract</th>\n",
              "      <th>Paperless Billing</th>\n",
              "      <th>Payment Method</th>\n",
              "      <th>Monthly Charges</th>\n",
              "      <th>Total Charges</th>\n",
              "      <th>Churn Value</th>\n",
              "    </tr>\n",
              "  </thead>\n",
              "  <tbody>\n",
              "    <tr>\n",
              "      <th>0</th>\n",
              "      <td>Los Angeles</td>\n",
              "      <td>90003</td>\n",
              "      <td>33.964131</td>\n",
              "      <td>-118.272783</td>\n",
              "      <td>Male</td>\n",
              "      <td>No</td>\n",
              "      <td>No</td>\n",
              "      <td>No</td>\n",
              "      <td>2</td>\n",
              "      <td>Yes</td>\n",
              "      <td>No</td>\n",
              "      <td>DSL</td>\n",
              "      <td>Yes</td>\n",
              "      <td>Yes</td>\n",
              "      <td>No</td>\n",
              "      <td>No</td>\n",
              "      <td>No</td>\n",
              "      <td>No</td>\n",
              "      <td>Month-to-month</td>\n",
              "      <td>Yes</td>\n",
              "      <td>Mailed check</td>\n",
              "      <td>53.85</td>\n",
              "      <td>108.15</td>\n",
              "      <td>1</td>\n",
              "    </tr>\n",
              "    <tr>\n",
              "      <th>1</th>\n",
              "      <td>Los Angeles</td>\n",
              "      <td>90005</td>\n",
              "      <td>34.059281</td>\n",
              "      <td>-118.307420</td>\n",
              "      <td>Female</td>\n",
              "      <td>No</td>\n",
              "      <td>No</td>\n",
              "      <td>Yes</td>\n",
              "      <td>2</td>\n",
              "      <td>Yes</td>\n",
              "      <td>No</td>\n",
              "      <td>Fiber optic</td>\n",
              "      <td>No</td>\n",
              "      <td>No</td>\n",
              "      <td>No</td>\n",
              "      <td>No</td>\n",
              "      <td>No</td>\n",
              "      <td>No</td>\n",
              "      <td>Month-to-month</td>\n",
              "      <td>Yes</td>\n",
              "      <td>Electronic check</td>\n",
              "      <td>70.70</td>\n",
              "      <td>151.65</td>\n",
              "      <td>1</td>\n",
              "    </tr>\n",
              "    <tr>\n",
              "      <th>2</th>\n",
              "      <td>Los Angeles</td>\n",
              "      <td>90006</td>\n",
              "      <td>34.048013</td>\n",
              "      <td>-118.293953</td>\n",
              "      <td>Female</td>\n",
              "      <td>No</td>\n",
              "      <td>No</td>\n",
              "      <td>Yes</td>\n",
              "      <td>8</td>\n",
              "      <td>Yes</td>\n",
              "      <td>Yes</td>\n",
              "      <td>Fiber optic</td>\n",
              "      <td>No</td>\n",
              "      <td>No</td>\n",
              "      <td>Yes</td>\n",
              "      <td>No</td>\n",
              "      <td>Yes</td>\n",
              "      <td>Yes</td>\n",
              "      <td>Month-to-month</td>\n",
              "      <td>Yes</td>\n",
              "      <td>Electronic check</td>\n",
              "      <td>99.65</td>\n",
              "      <td>820.5</td>\n",
              "      <td>1</td>\n",
              "    </tr>\n",
              "  </tbody>\n",
              "</table>\n",
              "</div>"
            ],
            "text/plain": [
              "          City  Zip Code   Latitude  ...  Monthly Charges Total Charges Churn Value\n",
              "0  Los Angeles     90003  33.964131  ...            53.85        108.15           1\n",
              "1  Los Angeles     90005  34.059281  ...            70.70        151.65           1\n",
              "2  Los Angeles     90006  34.048013  ...            99.65         820.5           1\n",
              "\n",
              "[3 rows x 24 columns]"
            ]
          },
          "metadata": {
            "tags": []
          },
          "execution_count": 19
        }
      ]
    },
    {
      "cell_type": "code",
      "metadata": {
        "id": "z0VNkpdovBwG",
        "colab_type": "code",
        "colab": {
          "base_uri": "https://localhost:8080/",
          "height": 34
        },
        "outputId": "7e57c02a-8aa0-494a-e4fe-903ac3f15b43"
      },
      "source": [
        "df.shape"
      ],
      "execution_count": 20,
      "outputs": [
        {
          "output_type": "execute_result",
          "data": {
            "text/plain": [
              "(7043, 24)"
            ]
          },
          "metadata": {
            "tags": []
          },
          "execution_count": 20
        }
      ]
    },
    {
      "cell_type": "code",
      "metadata": {
        "id": "Ti-vvVBOvBzV",
        "colab_type": "code",
        "colab": {}
      },
      "source": [
        ""
      ],
      "execution_count": null,
      "outputs": []
    },
    {
      "cell_type": "code",
      "metadata": {
        "id": "jLcCrkjPxIUl",
        "colab_type": "code",
        "colab": {}
      },
      "source": [
        ""
      ],
      "execution_count": null,
      "outputs": []
    },
    {
      "cell_type": "markdown",
      "metadata": {
        "id": "7kmU4D2jxJib",
        "colab_type": "text"
      },
      "source": [
        "xgboost does not care what's your value or column name is, i.e., Los Angles is totally OK, but we will plot the tree later, for that plotting, we changed the name and value of space into a '_'."
      ]
    },
    {
      "cell_type": "code",
      "metadata": {
        "id": "K3UpuwYwxIvg",
        "colab_type": "code",
        "colab": {
          "base_uri": "https://localhost:8080/",
          "height": 51
        },
        "outputId": "1c521a04-5f50-43e1-c94f-9dd79ed217ea"
      },
      "source": [
        "df['City'].unique()"
      ],
      "execution_count": 21,
      "outputs": [
        {
          "output_type": "execute_result",
          "data": {
            "text/plain": [
              "array(['Los Angeles', 'Beverly Hills', 'Huntington Park', ..., 'Standish',\n",
              "       'Tulelake', 'Olympic Valley'], dtype=object)"
            ]
          },
          "metadata": {
            "tags": []
          },
          "execution_count": 21
        }
      ]
    },
    {
      "cell_type": "code",
      "metadata": {
        "id": "2M0aC0E8vB2N",
        "colab_type": "code",
        "colab": {}
      },
      "source": [
        "df['City'].replace(' ', '_', regex = True, inplace = True)"
      ],
      "execution_count": 22,
      "outputs": []
    },
    {
      "cell_type": "code",
      "metadata": {
        "id": "PHMK6lbixQLn",
        "colab_type": "code",
        "colab": {
          "base_uri": "https://localhost:8080/",
          "height": 51
        },
        "outputId": "1c6cda90-082f-4e5d-8668-6bc2a3a241b3"
      },
      "source": [
        "df['City'].unique()"
      ],
      "execution_count": 23,
      "outputs": [
        {
          "output_type": "execute_result",
          "data": {
            "text/plain": [
              "array(['Los_Angeles', 'Beverly_Hills', 'Huntington_Park', ..., 'Standish',\n",
              "       'Tulelake', 'Olympic_Valley'], dtype=object)"
            ]
          },
          "metadata": {
            "tags": []
          },
          "execution_count": 23
        }
      ]
    },
    {
      "cell_type": "code",
      "metadata": {
        "id": "mS4oo9-kxnMc",
        "colab_type": "code",
        "colab": {
          "base_uri": "https://localhost:8080/",
          "height": 136
        },
        "outputId": "32d7693d-af6b-499b-e894-79f675dbdc86"
      },
      "source": [
        "df.columns"
      ],
      "execution_count": 24,
      "outputs": [
        {
          "output_type": "execute_result",
          "data": {
            "text/plain": [
              "Index(['City', 'Zip Code', 'Latitude', 'Longitude', 'Gender', 'Senior Citizen',\n",
              "       'Partner', 'Dependents', 'Tenure Months', 'Phone Service',\n",
              "       'Multiple Lines', 'Internet Service', 'Online Security',\n",
              "       'Online Backup', 'Device Protection', 'Tech Support', 'Streaming TV',\n",
              "       'Streaming Movies', 'Contract', 'Paperless Billing', 'Payment Method',\n",
              "       'Monthly Charges', 'Total Charges', 'Churn Value'],\n",
              "      dtype='object')"
            ]
          },
          "metadata": {
            "tags": []
          },
          "execution_count": 24
        }
      ]
    },
    {
      "cell_type": "code",
      "metadata": {
        "id": "UuK7XI19xQPQ",
        "colab_type": "code",
        "colab": {}
      },
      "source": [
        "df.columns = df.columns.str.replace(' ', '_')"
      ],
      "execution_count": 25,
      "outputs": []
    },
    {
      "cell_type": "code",
      "metadata": {
        "id": "fUJrfg9yxa0_",
        "colab_type": "code",
        "colab": {
          "base_uri": "https://localhost:8080/",
          "height": 136
        },
        "outputId": "f66c746b-f428-4a88-e9ea-f14972435bf5"
      },
      "source": [
        "df.columns"
      ],
      "execution_count": 26,
      "outputs": [
        {
          "output_type": "execute_result",
          "data": {
            "text/plain": [
              "Index(['City', 'Zip_Code', 'Latitude', 'Longitude', 'Gender', 'Senior_Citizen',\n",
              "       'Partner', 'Dependents', 'Tenure_Months', 'Phone_Service',\n",
              "       'Multiple_Lines', 'Internet_Service', 'Online_Security',\n",
              "       'Online_Backup', 'Device_Protection', 'Tech_Support', 'Streaming_TV',\n",
              "       'Streaming_Movies', 'Contract', 'Paperless_Billing', 'Payment_Method',\n",
              "       'Monthly_Charges', 'Total_Charges', 'Churn_Value'],\n",
              "      dtype='object')"
            ]
          },
          "metadata": {
            "tags": []
          },
          "execution_count": 26
        }
      ]
    },
    {
      "cell_type": "code",
      "metadata": {
        "id": "HO_tL4AXxa3y",
        "colab_type": "code",
        "colab": {}
      },
      "source": [
        ""
      ],
      "execution_count": null,
      "outputs": []
    },
    {
      "cell_type": "code",
      "metadata": {
        "id": "P9kyj1Moxa6u",
        "colab_type": "code",
        "colab": {}
      },
      "source": [
        ""
      ],
      "execution_count": null,
      "outputs": []
    },
    {
      "cell_type": "code",
      "metadata": {
        "id": "6tnc6Q9TxQI9",
        "colab_type": "code",
        "colab": {}
      },
      "source": [
        ""
      ],
      "execution_count": null,
      "outputs": []
    },
    {
      "cell_type": "code",
      "metadata": {
        "id": "JqftKTf1mYhR",
        "colab_type": "code",
        "colab": {
          "base_uri": "https://localhost:8080/",
          "height": 708
        },
        "outputId": "1882716c-9000-45b6-e416-68d4ae455883"
      },
      "source": [
        "missingno.matrix(df)\n",
        "plt.show()"
      ],
      "execution_count": 27,
      "outputs": [
        {
          "output_type": "display_data",
          "data": {
            "image/png": "[encoded data removed]",
            "text/plain": [
              "<Figure size 1800x720 with 2 Axes>"
            ]
          },
          "metadata": {
            "tags": [],
            "needs_background": "light"
          }
        }
      ]
    },
    {
      "cell_type": "code",
      "metadata": {
        "id": "qkhtdf3vmEhw",
        "colab_type": "code",
        "colab": {
          "base_uri": "https://localhost:8080/",
          "height": 442
        },
        "outputId": "c0fd407e-d6e8-4e03-e037-d6c54ecd7d20"
      },
      "source": [
        "df.isna().sum()"
      ],
      "execution_count": 28,
      "outputs": [
        {
          "output_type": "execute_result",
          "data": {
            "text/plain": [
              "City                 0\n",
              "Zip_Code             0\n",
              "Latitude             0\n",
              "Longitude            0\n",
              "Gender               0\n",
              "Senior_Citizen       0\n",
              "Partner              0\n",
              "Dependents           0\n",
              "Tenure_Months        0\n",
              "Phone_Service        0\n",
              "Multiple_Lines       0\n",
              "Internet_Service     0\n",
              "Online_Security      0\n",
              "Online_Backup        0\n",
              "Device_Protection    0\n",
              "Tech_Support         0\n",
              "Streaming_TV         0\n",
              "Streaming_Movies     0\n",
              "Contract             0\n",
              "Paperless_Billing    0\n",
              "Payment_Method       0\n",
              "Monthly_Charges      0\n",
              "Total_Charges        0\n",
              "Churn_Value          0\n",
              "dtype: int64"
            ]
          },
          "metadata": {
            "tags": []
          },
          "execution_count": 28
        }
      ]
    },
    {
      "cell_type": "markdown",
      "metadata": {
        "id": "huUKmFLIp43o",
        "colab_type": "text"
      },
      "source": [
        "xgboost actually expecting NAs in a dataset, but we need to replace the NAs with 0s, one might question that how about the original values of 0s, the author of xgboost says that: it tackles this problem well enough to have our algorithm work."
      ]
    },
    {
      "cell_type": "code",
      "metadata": {
        "id": "jJLS2znnqDZK",
        "colab_type": "code",
        "colab": {
          "base_uri": "https://localhost:8080/",
          "height": 51
        },
        "outputId": "3fea094c-ba64-4bba-cbd4-16334b3e1605"
      },
      "source": [
        "df['Total_Charges'].unique()"
      ],
      "execution_count": 29,
      "outputs": [
        {
          "output_type": "execute_result",
          "data": {
            "text/plain": [
              "array(['108.15', '151.65', '820.5', ..., '7362.9', '346.45', '6844.5'],\n",
              "      dtype=object)"
            ]
          },
          "metadata": {
            "tags": []
          },
          "execution_count": 29
        }
      ]
    },
    {
      "cell_type": "code",
      "metadata": {
        "id": "p5z3-EK-qDey",
        "colab_type": "code",
        "colab": {
          "base_uri": "https://localhost:8080/",
          "height": 435
        },
        "outputId": "cd758795-67ce-443c-909e-ec11b49ebb1b"
      },
      "source": [
        "df['Total_Charges'] = pd.to_numeric(df['Total_Charges'])"
      ],
      "execution_count": 30,
      "outputs": [
        {
          "output_type": "error",
          "ename": "ValueError",
          "evalue": "ignored",
          "traceback": [
            "\u001b[0;31m---------------------------------------------------------------------------\u001b[0m",
            "\u001b[0;31mValueError\u001b[0m                                Traceback (most recent call last)",
            "\u001b[0;32mpandas/_libs/lib.pyx\u001b[0m in \u001b[0;36mpandas._libs.lib.maybe_convert_numeric\u001b[0;34m()\u001b[0m\n",
            "\u001b[0;31mValueError\u001b[0m: Unable to parse string \" \"",
            "\nDuring handling of the above exception, another exception occurred:\n",
            "\u001b[0;31mValueError\u001b[0m                                Traceback (most recent call last)",
            "\u001b[0;32m<ipython-input-30-eda391cc01c5>\u001b[0m in \u001b[0;36m<module>\u001b[0;34m()\u001b[0m\n\u001b[0;32m----> 1\u001b[0;31m \u001b[0mdf\u001b[0m\u001b[0;34m[\u001b[0m\u001b[0;34m'Total_Charges'\u001b[0m\u001b[0;34m]\u001b[0m \u001b[0;34m=\u001b[0m \u001b[0mpd\u001b[0m\u001b[0;34m.\u001b[0m\u001b[0mto_numeric\u001b[0m\u001b[0;34m(\u001b[0m\u001b[0mdf\u001b[0m\u001b[0;34m[\u001b[0m\u001b[0;34m'Total_Charges'\u001b[0m\u001b[0;34m]\u001b[0m\u001b[0;34m)\u001b[0m\u001b[0;34m\u001b[0m\u001b[0;34m\u001b[0m\u001b[0m\n\u001b[0m",
            "\u001b[0;32m/usr/local/lib/python3.6/dist-packages/pandas/core/tools/numeric.py\u001b[0m in \u001b[0;36mto_numeric\u001b[0;34m(arg, errors, downcast)\u001b[0m\n\u001b[1;32m    148\u001b[0m         \u001b[0;32mtry\u001b[0m\u001b[0;34m:\u001b[0m\u001b[0;34m\u001b[0m\u001b[0;34m\u001b[0m\u001b[0m\n\u001b[1;32m    149\u001b[0m             values = lib.maybe_convert_numeric(\n\u001b[0;32m--> 150\u001b[0;31m                 \u001b[0mvalues\u001b[0m\u001b[0;34m,\u001b[0m \u001b[0mset\u001b[0m\u001b[0;34m(\u001b[0m\u001b[0;34m)\u001b[0m\u001b[0;34m,\u001b[0m \u001b[0mcoerce_numeric\u001b[0m\u001b[0;34m=\u001b[0m\u001b[0mcoerce_numeric\u001b[0m\u001b[0;34m\u001b[0m\u001b[0;34m\u001b[0m\u001b[0m\n\u001b[0m\u001b[1;32m    151\u001b[0m             )\n\u001b[1;32m    152\u001b[0m         \u001b[0;32mexcept\u001b[0m \u001b[0;34m(\u001b[0m\u001b[0mValueError\u001b[0m\u001b[0;34m,\u001b[0m \u001b[0mTypeError\u001b[0m\u001b[0;34m)\u001b[0m\u001b[0;34m:\u001b[0m\u001b[0;34m\u001b[0m\u001b[0;34m\u001b[0m\u001b[0m\n",
            "\u001b[0;32mpandas/_libs/lib.pyx\u001b[0m in \u001b[0;36mpandas._libs.lib.maybe_convert_numeric\u001b[0;34m()\u001b[0m\n",
            "\u001b[0;31mValueError\u001b[0m: Unable to parse string \" \" at position 2234"
          ]
        }
      ]
    },
    {
      "cell_type": "code",
      "metadata": {
        "id": "4-KHrggYqDcT",
        "colab_type": "code",
        "colab": {
          "base_uri": "https://localhost:8080/",
          "height": 442
        },
        "outputId": "e14e77d1-6aa9-459f-8be2-427fa06df858"
      },
      "source": [
        "df.iloc[2234]"
      ],
      "execution_count": 31,
      "outputs": [
        {
          "output_type": "execute_result",
          "data": {
            "text/plain": [
              "City                            San_Bernardino\n",
              "Zip_Code                                 92408\n",
              "Latitude                               34.0849\n",
              "Longitude                             -117.258\n",
              "Gender                                  Female\n",
              "Senior_Citizen                              No\n",
              "Partner                                    Yes\n",
              "Dependents                                  No\n",
              "Tenure_Months                                0\n",
              "Phone_Service                               No\n",
              "Multiple_Lines                No phone service\n",
              "Internet_Service                           DSL\n",
              "Online_Security                            Yes\n",
              "Online_Backup                               No\n",
              "Device_Protection                          Yes\n",
              "Tech_Support                               Yes\n",
              "Streaming_TV                               Yes\n",
              "Streaming_Movies                            No\n",
              "Contract                              Two year\n",
              "Paperless_Billing                          Yes\n",
              "Payment_Method       Bank transfer (automatic)\n",
              "Monthly_Charges                          52.55\n",
              "Total_Charges                                 \n",
              "Churn_Value                                  0\n",
              "Name: 2234, dtype: object"
            ]
          },
          "metadata": {
            "tags": []
          },
          "execution_count": 31
        }
      ]
    },
    {
      "cell_type": "code",
      "metadata": {
        "id": "uSZT7GTPrcwL",
        "colab_type": "code",
        "colab": {
          "base_uri": "https://localhost:8080/",
          "height": 34
        },
        "outputId": "c4c34478-0f52-43ef-9f27-8ec1da5e6fa2"
      },
      "source": [
        "len(df[df['Total_Charges'] == ' '])"
      ],
      "execution_count": 32,
      "outputs": [
        {
          "output_type": "execute_result",
          "data": {
            "text/plain": [
              "11"
            ]
          },
          "metadata": {
            "tags": []
          },
          "execution_count": 32
        }
      ]
    },
    {
      "cell_type": "code",
      "metadata": {
        "id": "mgRbxvwSr4da",
        "colab_type": "code",
        "colab": {
          "base_uri": "https://localhost:8080/",
          "height": 563
        },
        "outputId": "f7ab3ee2-18ab-4d42-cbf7-7db8ecd14f9d"
      },
      "source": [
        "df[df['Total_Charges'] == ' ']"
      ],
      "execution_count": 33,
      "outputs": [
        {
          "output_type": "execute_result",
          "data": {
            "text/html": [
              "<div>\n",
              "<style scoped>\n",
              "    .dataframe tbody tr th:only-of-type {\n",
              "        vertical-align: middle;\n",
              "    }\n",
              "\n",
              "    .dataframe tbody tr th {\n",
              "        vertical-align: top;\n",
              "    }\n",
              "\n",
              "    .dataframe thead th {\n",
              "        text-align: right;\n",
              "    }\n",
              "</style>\n",
              "<table border=\"1\" class=\"dataframe\">\n",
              "  <thead>\n",
              "    <tr style=\"text-align: right;\">\n",
              "      <th></th>\n",
              "      <th>City</th>\n",
              "      <th>Zip_Code</th>\n",
              "      <th>Latitude</th>\n",
              "      <th>Longitude</th>\n",
              "      <th>Gender</th>\n",
              "      <th>Senior_Citizen</th>\n",
              "      <th>Partner</th>\n",
              "      <th>Dependents</th>\n",
              "      <th>Tenure_Months</th>\n",
              "      <th>Phone_Service</th>\n",
              "      <th>Multiple_Lines</th>\n",
              "      <th>Internet_Service</th>\n",
              "      <th>Online_Security</th>\n",
              "      <th>Online_Backup</th>\n",
              "      <th>Device_Protection</th>\n",
              "      <th>Tech_Support</th>\n",
              "      <th>Streaming_TV</th>\n",
              "      <th>Streaming_Movies</th>\n",
              "      <th>Contract</th>\n",
              "      <th>Paperless_Billing</th>\n",
              "      <th>Payment_Method</th>\n",
              "      <th>Monthly_Charges</th>\n",
              "      <th>Total_Charges</th>\n",
              "      <th>Churn_Value</th>\n",
              "    </tr>\n",
              "  </thead>\n",
              "  <tbody>\n",
              "    <tr>\n",
              "      <th>2234</th>\n",
              "      <td>San_Bernardino</td>\n",
              "      <td>92408</td>\n",
              "      <td>34.084909</td>\n",
              "      <td>-117.258107</td>\n",
              "      <td>Female</td>\n",
              "      <td>No</td>\n",
              "      <td>Yes</td>\n",
              "      <td>No</td>\n",
              "      <td>0</td>\n",
              "      <td>No</td>\n",
              "      <td>No phone service</td>\n",
              "      <td>DSL</td>\n",
              "      <td>Yes</td>\n",
              "      <td>No</td>\n",
              "      <td>Yes</td>\n",
              "      <td>Yes</td>\n",
              "      <td>Yes</td>\n",
              "      <td>No</td>\n",
              "      <td>Two year</td>\n",
              "      <td>Yes</td>\n",
              "      <td>Bank transfer (automatic)</td>\n",
              "      <td>52.55</td>\n",
              "      <td></td>\n",
              "      <td>0</td>\n",
              "    </tr>\n",
              "    <tr>\n",
              "      <th>2438</th>\n",
              "      <td>Independence</td>\n",
              "      <td>93526</td>\n",
              "      <td>36.869584</td>\n",
              "      <td>-118.189241</td>\n",
              "      <td>Male</td>\n",
              "      <td>No</td>\n",
              "      <td>No</td>\n",
              "      <td>No</td>\n",
              "      <td>0</td>\n",
              "      <td>Yes</td>\n",
              "      <td>No</td>\n",
              "      <td>No</td>\n",
              "      <td>No internet service</td>\n",
              "      <td>No internet service</td>\n",
              "      <td>No internet service</td>\n",
              "      <td>No internet service</td>\n",
              "      <td>No internet service</td>\n",
              "      <td>No internet service</td>\n",
              "      <td>Two year</td>\n",
              "      <td>No</td>\n",
              "      <td>Mailed check</td>\n",
              "      <td>20.25</td>\n",
              "      <td></td>\n",
              "      <td>0</td>\n",
              "    </tr>\n",
              "    <tr>\n",
              "      <th>2568</th>\n",
              "      <td>San_Mateo</td>\n",
              "      <td>94401</td>\n",
              "      <td>37.590421</td>\n",
              "      <td>-122.306467</td>\n",
              "      <td>Female</td>\n",
              "      <td>No</td>\n",
              "      <td>Yes</td>\n",
              "      <td>No</td>\n",
              "      <td>0</td>\n",
              "      <td>Yes</td>\n",
              "      <td>No</td>\n",
              "      <td>DSL</td>\n",
              "      <td>Yes</td>\n",
              "      <td>Yes</td>\n",
              "      <td>Yes</td>\n",
              "      <td>No</td>\n",
              "      <td>Yes</td>\n",
              "      <td>Yes</td>\n",
              "      <td>Two year</td>\n",
              "      <td>No</td>\n",
              "      <td>Mailed check</td>\n",
              "      <td>80.85</td>\n",
              "      <td></td>\n",
              "      <td>0</td>\n",
              "    </tr>\n",
              "    <tr>\n",
              "      <th>2667</th>\n",
              "      <td>Cupertino</td>\n",
              "      <td>95014</td>\n",
              "      <td>37.306612</td>\n",
              "      <td>-122.080621</td>\n",
              "      <td>Male</td>\n",
              "      <td>No</td>\n",
              "      <td>Yes</td>\n",
              "      <td>Yes</td>\n",
              "      <td>0</td>\n",
              "      <td>Yes</td>\n",
              "      <td>Yes</td>\n",
              "      <td>No</td>\n",
              "      <td>No internet service</td>\n",
              "      <td>No internet service</td>\n",
              "      <td>No internet service</td>\n",
              "      <td>No internet service</td>\n",
              "      <td>No internet service</td>\n",
              "      <td>No internet service</td>\n",
              "      <td>Two year</td>\n",
              "      <td>No</td>\n",
              "      <td>Mailed check</td>\n",
              "      <td>25.75</td>\n",
              "      <td></td>\n",
              "      <td>0</td>\n",
              "    </tr>\n",
              "    <tr>\n",
              "      <th>2856</th>\n",
              "      <td>Redcrest</td>\n",
              "      <td>95569</td>\n",
              "      <td>40.363446</td>\n",
              "      <td>-123.835041</td>\n",
              "      <td>Female</td>\n",
              "      <td>No</td>\n",
              "      <td>Yes</td>\n",
              "      <td>No</td>\n",
              "      <td>0</td>\n",
              "      <td>No</td>\n",
              "      <td>No phone service</td>\n",
              "      <td>DSL</td>\n",
              "      <td>Yes</td>\n",
              "      <td>Yes</td>\n",
              "      <td>Yes</td>\n",
              "      <td>Yes</td>\n",
              "      <td>Yes</td>\n",
              "      <td>No</td>\n",
              "      <td>Two year</td>\n",
              "      <td>No</td>\n",
              "      <td>Credit card (automatic)</td>\n",
              "      <td>56.05</td>\n",
              "      <td></td>\n",
              "      <td>0</td>\n",
              "    </tr>\n",
              "    <tr>\n",
              "      <th>4331</th>\n",
              "      <td>Los_Angeles</td>\n",
              "      <td>90029</td>\n",
              "      <td>34.089953</td>\n",
              "      <td>-118.294824</td>\n",
              "      <td>Male</td>\n",
              "      <td>No</td>\n",
              "      <td>Yes</td>\n",
              "      <td>Yes</td>\n",
              "      <td>0</td>\n",
              "      <td>Yes</td>\n",
              "      <td>No</td>\n",
              "      <td>No</td>\n",
              "      <td>No internet service</td>\n",
              "      <td>No internet service</td>\n",
              "      <td>No internet service</td>\n",
              "      <td>No internet service</td>\n",
              "      <td>No internet service</td>\n",
              "      <td>No internet service</td>\n",
              "      <td>Two year</td>\n",
              "      <td>No</td>\n",
              "      <td>Mailed check</td>\n",
              "      <td>19.85</td>\n",
              "      <td></td>\n",
              "      <td>0</td>\n",
              "    </tr>\n",
              "    <tr>\n",
              "      <th>4687</th>\n",
              "      <td>Sun_City</td>\n",
              "      <td>92585</td>\n",
              "      <td>33.739412</td>\n",
              "      <td>-117.173334</td>\n",
              "      <td>Male</td>\n",
              "      <td>No</td>\n",
              "      <td>Yes</td>\n",
              "      <td>Yes</td>\n",
              "      <td>0</td>\n",
              "      <td>Yes</td>\n",
              "      <td>Yes</td>\n",
              "      <td>No</td>\n",
              "      <td>No internet service</td>\n",
              "      <td>No internet service</td>\n",
              "      <td>No internet service</td>\n",
              "      <td>No internet service</td>\n",
              "      <td>No internet service</td>\n",
              "      <td>No internet service</td>\n",
              "      <td>Two year</td>\n",
              "      <td>No</td>\n",
              "      <td>Mailed check</td>\n",
              "      <td>25.35</td>\n",
              "      <td></td>\n",
              "      <td>0</td>\n",
              "    </tr>\n",
              "    <tr>\n",
              "      <th>5104</th>\n",
              "      <td>Ben_Lomond</td>\n",
              "      <td>95005</td>\n",
              "      <td>37.078873</td>\n",
              "      <td>-122.090386</td>\n",
              "      <td>Female</td>\n",
              "      <td>No</td>\n",
              "      <td>Yes</td>\n",
              "      <td>Yes</td>\n",
              "      <td>0</td>\n",
              "      <td>Yes</td>\n",
              "      <td>No</td>\n",
              "      <td>No</td>\n",
              "      <td>No internet service</td>\n",
              "      <td>No internet service</td>\n",
              "      <td>No internet service</td>\n",
              "      <td>No internet service</td>\n",
              "      <td>No internet service</td>\n",
              "      <td>No internet service</td>\n",
              "      <td>Two year</td>\n",
              "      <td>No</td>\n",
              "      <td>Mailed check</td>\n",
              "      <td>20.00</td>\n",
              "      <td></td>\n",
              "      <td>0</td>\n",
              "    </tr>\n",
              "    <tr>\n",
              "      <th>5719</th>\n",
              "      <td>La_Verne</td>\n",
              "      <td>91750</td>\n",
              "      <td>34.144703</td>\n",
              "      <td>-117.770299</td>\n",
              "      <td>Male</td>\n",
              "      <td>No</td>\n",
              "      <td>Yes</td>\n",
              "      <td>Yes</td>\n",
              "      <td>0</td>\n",
              "      <td>Yes</td>\n",
              "      <td>No</td>\n",
              "      <td>No</td>\n",
              "      <td>No internet service</td>\n",
              "      <td>No internet service</td>\n",
              "      <td>No internet service</td>\n",
              "      <td>No internet service</td>\n",
              "      <td>No internet service</td>\n",
              "      <td>No internet service</td>\n",
              "      <td>One year</td>\n",
              "      <td>Yes</td>\n",
              "      <td>Mailed check</td>\n",
              "      <td>19.70</td>\n",
              "      <td></td>\n",
              "      <td>0</td>\n",
              "    </tr>\n",
              "    <tr>\n",
              "      <th>6772</th>\n",
              "      <td>Bell</td>\n",
              "      <td>90201</td>\n",
              "      <td>33.970343</td>\n",
              "      <td>-118.171368</td>\n",
              "      <td>Female</td>\n",
              "      <td>No</td>\n",
              "      <td>Yes</td>\n",
              "      <td>Yes</td>\n",
              "      <td>0</td>\n",
              "      <td>Yes</td>\n",
              "      <td>Yes</td>\n",
              "      <td>DSL</td>\n",
              "      <td>No</td>\n",
              "      <td>Yes</td>\n",
              "      <td>Yes</td>\n",
              "      <td>Yes</td>\n",
              "      <td>Yes</td>\n",
              "      <td>No</td>\n",
              "      <td>Two year</td>\n",
              "      <td>No</td>\n",
              "      <td>Mailed check</td>\n",
              "      <td>73.35</td>\n",
              "      <td></td>\n",
              "      <td>0</td>\n",
              "    </tr>\n",
              "    <tr>\n",
              "      <th>6840</th>\n",
              "      <td>Wilmington</td>\n",
              "      <td>90744</td>\n",
              "      <td>33.782068</td>\n",
              "      <td>-118.262263</td>\n",
              "      <td>Male</td>\n",
              "      <td>No</td>\n",
              "      <td>No</td>\n",
              "      <td>Yes</td>\n",
              "      <td>0</td>\n",
              "      <td>Yes</td>\n",
              "      <td>Yes</td>\n",
              "      <td>DSL</td>\n",
              "      <td>Yes</td>\n",
              "      <td>Yes</td>\n",
              "      <td>No</td>\n",
              "      <td>Yes</td>\n",
              "      <td>No</td>\n",
              "      <td>No</td>\n",
              "      <td>Two year</td>\n",
              "      <td>Yes</td>\n",
              "      <td>Bank transfer (automatic)</td>\n",
              "      <td>61.90</td>\n",
              "      <td></td>\n",
              "      <td>0</td>\n",
              "    </tr>\n",
              "  </tbody>\n",
              "</table>\n",
              "</div>"
            ],
            "text/plain": [
              "                City  Zip_Code  ...  Total_Charges  Churn_Value\n",
              "2234  San_Bernardino     92408  ...                           0\n",
              "2438    Independence     93526  ...                           0\n",
              "2568       San_Mateo     94401  ...                           0\n",
              "2667       Cupertino     95014  ...                           0\n",
              "2856        Redcrest     95569  ...                           0\n",
              "4331     Los_Angeles     90029  ...                           0\n",
              "4687        Sun_City     92585  ...                           0\n",
              "5104      Ben_Lomond     95005  ...                           0\n",
              "5719        La_Verne     91750  ...                           0\n",
              "6772            Bell     90201  ...                           0\n",
              "6840      Wilmington     90744  ...                           0\n",
              "\n",
              "[11 rows x 24 columns]"
            ]
          },
          "metadata": {
            "tags": []
          },
          "execution_count": 33
        }
      ]
    },
    {
      "cell_type": "code",
      "metadata": {
        "id": "gWS8jMn3r-mQ",
        "colab_type": "code",
        "colab": {}
      },
      "source": [
        "df.loc[(df['Total_Charges'] == ' '), 'Total_Charges'] = 0"
      ],
      "execution_count": 34,
      "outputs": []
    },
    {
      "cell_type": "code",
      "metadata": {
        "id": "Vg6iwSHmsjei",
        "colab_type": "code",
        "colab": {
          "base_uri": "https://localhost:8080/",
          "height": 34
        },
        "outputId": "46073788-2fca-4ada-ccde-45c716ed8b12"
      },
      "source": [
        "len(df[df['Total_Charges'] == ' '])"
      ],
      "execution_count": 35,
      "outputs": [
        {
          "output_type": "execute_result",
          "data": {
            "text/plain": [
              "0"
            ]
          },
          "metadata": {
            "tags": []
          },
          "execution_count": 35
        }
      ]
    },
    {
      "cell_type": "code",
      "metadata": {
        "id": "XCBfZ_nJsmgZ",
        "colab_type": "code",
        "colab": {
          "base_uri": "https://localhost:8080/",
          "height": 34
        },
        "outputId": "2119a756-555f-404e-8195-781356771ad6"
      },
      "source": [
        "df['Total_Charges'].isna().sum()"
      ],
      "execution_count": 36,
      "outputs": [
        {
          "output_type": "execute_result",
          "data": {
            "text/plain": [
              "0"
            ]
          },
          "metadata": {
            "tags": []
          },
          "execution_count": 36
        }
      ]
    },
    {
      "cell_type": "code",
      "metadata": {
        "id": "qzraLxf1sp-W",
        "colab_type": "code",
        "colab": {
          "base_uri": "https://localhost:8080/",
          "height": 563
        },
        "outputId": "76239c0a-e352-4fe7-f5e4-70a8d6697275"
      },
      "source": [
        "df[df['Tenure_Months'] == 0]                         # cross check"
      ],
      "execution_count": 37,
      "outputs": [
        {
          "output_type": "execute_result",
          "data": {
            "text/html": [
              "<div>\n",
              "<style scoped>\n",
              "    .dataframe tbody tr th:only-of-type {\n",
              "        vertical-align: middle;\n",
              "    }\n",
              "\n",
              "    .dataframe tbody tr th {\n",
              "        vertical-align: top;\n",
              "    }\n",
              "\n",
              "    .dataframe thead th {\n",
              "        text-align: right;\n",
              "    }\n",
              "</style>\n",
              "<table border=\"1\" class=\"dataframe\">\n",
              "  <thead>\n",
              "    <tr style=\"text-align: right;\">\n",
              "      <th></th>\n",
              "      <th>City</th>\n",
              "      <th>Zip_Code</th>\n",
              "      <th>Latitude</th>\n",
              "      <th>Longitude</th>\n",
              "      <th>Gender</th>\n",
              "      <th>Senior_Citizen</th>\n",
              "      <th>Partner</th>\n",
              "      <th>Dependents</th>\n",
              "      <th>Tenure_Months</th>\n",
              "      <th>Phone_Service</th>\n",
              "      <th>Multiple_Lines</th>\n",
              "      <th>Internet_Service</th>\n",
              "      <th>Online_Security</th>\n",
              "      <th>Online_Backup</th>\n",
              "      <th>Device_Protection</th>\n",
              "      <th>Tech_Support</th>\n",
              "      <th>Streaming_TV</th>\n",
              "      <th>Streaming_Movies</th>\n",
              "      <th>Contract</th>\n",
              "      <th>Paperless_Billing</th>\n",
              "      <th>Payment_Method</th>\n",
              "      <th>Monthly_Charges</th>\n",
              "      <th>Total_Charges</th>\n",
              "      <th>Churn_Value</th>\n",
              "    </tr>\n",
              "  </thead>\n",
              "  <tbody>\n",
              "    <tr>\n",
              "      <th>2234</th>\n",
              "      <td>San_Bernardino</td>\n",
              "      <td>92408</td>\n",
              "      <td>34.084909</td>\n",
              "      <td>-117.258107</td>\n",
              "      <td>Female</td>\n",
              "      <td>No</td>\n",
              "      <td>Yes</td>\n",
              "      <td>No</td>\n",
              "      <td>0</td>\n",
              "      <td>No</td>\n",
              "      <td>No phone service</td>\n",
              "      <td>DSL</td>\n",
              "      <td>Yes</td>\n",
              "      <td>No</td>\n",
              "      <td>Yes</td>\n",
              "      <td>Yes</td>\n",
              "      <td>Yes</td>\n",
              "      <td>No</td>\n",
              "      <td>Two year</td>\n",
              "      <td>Yes</td>\n",
              "      <td>Bank transfer (automatic)</td>\n",
              "      <td>52.55</td>\n",
              "      <td>0</td>\n",
              "      <td>0</td>\n",
              "    </tr>\n",
              "    <tr>\n",
              "      <th>2438</th>\n",
              "      <td>Independence</td>\n",
              "      <td>93526</td>\n",
              "      <td>36.869584</td>\n",
              "      <td>-118.189241</td>\n",
              "      <td>Male</td>\n",
              "      <td>No</td>\n",
              "      <td>No</td>\n",
              "      <td>No</td>\n",
              "      <td>0</td>\n",
              "      <td>Yes</td>\n",
              "      <td>No</td>\n",
              "      <td>No</td>\n",
              "      <td>No internet service</td>\n",
              "      <td>No internet service</td>\n",
              "      <td>No internet service</td>\n",
              "      <td>No internet service</td>\n",
              "      <td>No internet service</td>\n",
              "      <td>No internet service</td>\n",
              "      <td>Two year</td>\n",
              "      <td>No</td>\n",
              "      <td>Mailed check</td>\n",
              "      <td>20.25</td>\n",
              "      <td>0</td>\n",
              "      <td>0</td>\n",
              "    </tr>\n",
              "    <tr>\n",
              "      <th>2568</th>\n",
              "      <td>San_Mateo</td>\n",
              "      <td>94401</td>\n",
              "      <td>37.590421</td>\n",
              "      <td>-122.306467</td>\n",
              "      <td>Female</td>\n",
              "      <td>No</td>\n",
              "      <td>Yes</td>\n",
              "      <td>No</td>\n",
              "      <td>0</td>\n",
              "      <td>Yes</td>\n",
              "      <td>No</td>\n",
              "      <td>DSL</td>\n",
              "      <td>Yes</td>\n",
              "      <td>Yes</td>\n",
              "      <td>Yes</td>\n",
              "      <td>No</td>\n",
              "      <td>Yes</td>\n",
              "      <td>Yes</td>\n",
              "      <td>Two year</td>\n",
              "      <td>No</td>\n",
              "      <td>Mailed check</td>\n",
              "      <td>80.85</td>\n",
              "      <td>0</td>\n",
              "      <td>0</td>\n",
              "    </tr>\n",
              "    <tr>\n",
              "      <th>2667</th>\n",
              "      <td>Cupertino</td>\n",
              "      <td>95014</td>\n",
              "      <td>37.306612</td>\n",
              "      <td>-122.080621</td>\n",
              "      <td>Male</td>\n",
              "      <td>No</td>\n",
              "      <td>Yes</td>\n",
              "      <td>Yes</td>\n",
              "      <td>0</td>\n",
              "      <td>Yes</td>\n",
              "      <td>Yes</td>\n",
              "      <td>No</td>\n",
              "      <td>No internet service</td>\n",
              "      <td>No internet service</td>\n",
              "      <td>No internet service</td>\n",
              "      <td>No internet service</td>\n",
              "      <td>No internet service</td>\n",
              "      <td>No internet service</td>\n",
              "      <td>Two year</td>\n",
              "      <td>No</td>\n",
              "      <td>Mailed check</td>\n",
              "      <td>25.75</td>\n",
              "      <td>0</td>\n",
              "      <td>0</td>\n",
              "    </tr>\n",
              "    <tr>\n",
              "      <th>2856</th>\n",
              "      <td>Redcrest</td>\n",
              "      <td>95569</td>\n",
              "      <td>40.363446</td>\n",
              "      <td>-123.835041</td>\n",
              "      <td>Female</td>\n",
              "      <td>No</td>\n",
              "      <td>Yes</td>\n",
              "      <td>No</td>\n",
              "      <td>0</td>\n",
              "      <td>No</td>\n",
              "      <td>No phone service</td>\n",
              "      <td>DSL</td>\n",
              "      <td>Yes</td>\n",
              "      <td>Yes</td>\n",
              "      <td>Yes</td>\n",
              "      <td>Yes</td>\n",
              "      <td>Yes</td>\n",
              "      <td>No</td>\n",
              "      <td>Two year</td>\n",
              "      <td>No</td>\n",
              "      <td>Credit card (automatic)</td>\n",
              "      <td>56.05</td>\n",
              "      <td>0</td>\n",
              "      <td>0</td>\n",
              "    </tr>\n",
              "    <tr>\n",
              "      <th>4331</th>\n",
              "      <td>Los_Angeles</td>\n",
              "      <td>90029</td>\n",
              "      <td>34.089953</td>\n",
              "      <td>-118.294824</td>\n",
              "      <td>Male</td>\n",
              "      <td>No</td>\n",
              "      <td>Yes</td>\n",
              "      <td>Yes</td>\n",
              "      <td>0</td>\n",
              "      <td>Yes</td>\n",
              "      <td>No</td>\n",
              "      <td>No</td>\n",
              "      <td>No internet service</td>\n",
              "      <td>No internet service</td>\n",
              "      <td>No internet service</td>\n",
              "      <td>No internet service</td>\n",
              "      <td>No internet service</td>\n",
              "      <td>No internet service</td>\n",
              "      <td>Two year</td>\n",
              "      <td>No</td>\n",
              "      <td>Mailed check</td>\n",
              "      <td>19.85</td>\n",
              "      <td>0</td>\n",
              "      <td>0</td>\n",
              "    </tr>\n",
              "    <tr>\n",
              "      <th>4687</th>\n",
              "      <td>Sun_City</td>\n",
              "      <td>92585</td>\n",
              "      <td>33.739412</td>\n",
              "      <td>-117.173334</td>\n",
              "      <td>Male</td>\n",
              "      <td>No</td>\n",
              "      <td>Yes</td>\n",
              "      <td>Yes</td>\n",
              "      <td>0</td>\n",
              "      <td>Yes</td>\n",
              "      <td>Yes</td>\n",
              "      <td>No</td>\n",
              "      <td>No internet service</td>\n",
              "      <td>No internet service</td>\n",
              "      <td>No internet service</td>\n",
              "      <td>No internet service</td>\n",
              "      <td>No internet service</td>\n",
              "      <td>No internet service</td>\n",
              "      <td>Two year</td>\n",
              "      <td>No</td>\n",
              "      <td>Mailed check</td>\n",
              "      <td>25.35</td>\n",
              "      <td>0</td>\n",
              "      <td>0</td>\n",
              "    </tr>\n",
              "    <tr>\n",
              "      <th>5104</th>\n",
              "      <td>Ben_Lomond</td>\n",
              "      <td>95005</td>\n",
              "      <td>37.078873</td>\n",
              "      <td>-122.090386</td>\n",
              "      <td>Female</td>\n",
              "      <td>No</td>\n",
              "      <td>Yes</td>\n",
              "      <td>Yes</td>\n",
              "      <td>0</td>\n",
              "      <td>Yes</td>\n",
              "      <td>No</td>\n",
              "      <td>No</td>\n",
              "      <td>No internet service</td>\n",
              "      <td>No internet service</td>\n",
              "      <td>No internet service</td>\n",
              "      <td>No internet service</td>\n",
              "      <td>No internet service</td>\n",
              "      <td>No internet service</td>\n",
              "      <td>Two year</td>\n",
              "      <td>No</td>\n",
              "      <td>Mailed check</td>\n",
              "      <td>20.00</td>\n",
              "      <td>0</td>\n",
              "      <td>0</td>\n",
              "    </tr>\n",
              "    <tr>\n",
              "      <th>5719</th>\n",
              "      <td>La_Verne</td>\n",
              "      <td>91750</td>\n",
              "      <td>34.144703</td>\n",
              "      <td>-117.770299</td>\n",
              "      <td>Male</td>\n",
              "      <td>No</td>\n",
              "      <td>Yes</td>\n",
              "      <td>Yes</td>\n",
              "      <td>0</td>\n",
              "      <td>Yes</td>\n",
              "      <td>No</td>\n",
              "      <td>No</td>\n",
              "      <td>No internet service</td>\n",
              "      <td>No internet service</td>\n",
              "      <td>No internet service</td>\n",
              "      <td>No internet service</td>\n",
              "      <td>No internet service</td>\n",
              "      <td>No internet service</td>\n",
              "      <td>One year</td>\n",
              "      <td>Yes</td>\n",
              "      <td>Mailed check</td>\n",
              "      <td>19.70</td>\n",
              "      <td>0</td>\n",
              "      <td>0</td>\n",
              "    </tr>\n",
              "    <tr>\n",
              "      <th>6772</th>\n",
              "      <td>Bell</td>\n",
              "      <td>90201</td>\n",
              "      <td>33.970343</td>\n",
              "      <td>-118.171368</td>\n",
              "      <td>Female</td>\n",
              "      <td>No</td>\n",
              "      <td>Yes</td>\n",
              "      <td>Yes</td>\n",
              "      <td>0</td>\n",
              "      <td>Yes</td>\n",
              "      <td>Yes</td>\n",
              "      <td>DSL</td>\n",
              "      <td>No</td>\n",
              "      <td>Yes</td>\n",
              "      <td>Yes</td>\n",
              "      <td>Yes</td>\n",
              "      <td>Yes</td>\n",
              "      <td>No</td>\n",
              "      <td>Two year</td>\n",
              "      <td>No</td>\n",
              "      <td>Mailed check</td>\n",
              "      <td>73.35</td>\n",
              "      <td>0</td>\n",
              "      <td>0</td>\n",
              "    </tr>\n",
              "    <tr>\n",
              "      <th>6840</th>\n",
              "      <td>Wilmington</td>\n",
              "      <td>90744</td>\n",
              "      <td>33.782068</td>\n",
              "      <td>-118.262263</td>\n",
              "      <td>Male</td>\n",
              "      <td>No</td>\n",
              "      <td>No</td>\n",
              "      <td>Yes</td>\n",
              "      <td>0</td>\n",
              "      <td>Yes</td>\n",
              "      <td>Yes</td>\n",
              "      <td>DSL</td>\n",
              "      <td>Yes</td>\n",
              "      <td>Yes</td>\n",
              "      <td>No</td>\n",
              "      <td>Yes</td>\n",
              "      <td>No</td>\n",
              "      <td>No</td>\n",
              "      <td>Two year</td>\n",
              "      <td>Yes</td>\n",
              "      <td>Bank transfer (automatic)</td>\n",
              "      <td>61.90</td>\n",
              "      <td>0</td>\n",
              "      <td>0</td>\n",
              "    </tr>\n",
              "  </tbody>\n",
              "</table>\n",
              "</div>"
            ],
            "text/plain": [
              "                City  Zip_Code  ...  Total_Charges  Churn_Value\n",
              "2234  San_Bernardino     92408  ...              0            0\n",
              "2438    Independence     93526  ...              0            0\n",
              "2568       San_Mateo     94401  ...              0            0\n",
              "2667       Cupertino     95014  ...              0            0\n",
              "2856        Redcrest     95569  ...              0            0\n",
              "4331     Los_Angeles     90029  ...              0            0\n",
              "4687        Sun_City     92585  ...              0            0\n",
              "5104      Ben_Lomond     95005  ...              0            0\n",
              "5719        La_Verne     91750  ...              0            0\n",
              "6772            Bell     90201  ...              0            0\n",
              "6840      Wilmington     90744  ...              0            0\n",
              "\n",
              "[11 rows x 24 columns]"
            ]
          },
          "metadata": {
            "tags": []
          },
          "execution_count": 37
        }
      ]
    },
    {
      "cell_type": "code",
      "metadata": {
        "id": "btz-QrCftF1v",
        "colab_type": "code",
        "colab": {
          "base_uri": "https://localhost:8080/",
          "height": 34
        },
        "outputId": "8f6aff95-6904-4951-cfb2-0d05fc3fd1e6"
      },
      "source": [
        "df['Total_Charges'].dtype"
      ],
      "execution_count": 38,
      "outputs": [
        {
          "output_type": "execute_result",
          "data": {
            "text/plain": [
              "dtype('O')"
            ]
          },
          "metadata": {
            "tags": []
          },
          "execution_count": 38
        }
      ]
    },
    {
      "cell_type": "code",
      "metadata": {
        "id": "cBXz5Ae6thsh",
        "colab_type": "code",
        "colab": {}
      },
      "source": [
        "df['Total_Charges'] = pd.to_numeric(df['Total_Charges'])"
      ],
      "execution_count": 39,
      "outputs": []
    },
    {
      "cell_type": "code",
      "metadata": {
        "id": "QJ83m0k1trfP",
        "colab_type": "code",
        "colab": {
          "base_uri": "https://localhost:8080/",
          "height": 34
        },
        "outputId": "4e1f5fc5-a666-44c1-9fc5-b6e3e90adaa9"
      },
      "source": [
        "df['Total_Charges'].dtype"
      ],
      "execution_count": 40,
      "outputs": [
        {
          "output_type": "execute_result",
          "data": {
            "text/plain": [
              "dtype('float64')"
            ]
          },
          "metadata": {
            "tags": []
          },
          "execution_count": 40
        }
      ]
    },
    {
      "cell_type": "code",
      "metadata": {
        "id": "n7OZHLkatsoL",
        "colab_type": "code",
        "colab": {
          "base_uri": "https://localhost:8080/",
          "height": 34
        },
        "outputId": "d9e54625-6a8f-4488-ba5a-d54100f1c7a6"
      },
      "source": [
        "df['Churn_Value'].unique()"
      ],
      "execution_count": 41,
      "outputs": [
        {
          "output_type": "execute_result",
          "data": {
            "text/plain": [
              "array([1, 0])"
            ]
          },
          "metadata": {
            "tags": []
          },
          "execution_count": 41
        }
      ]
    },
    {
      "cell_type": "code",
      "metadata": {
        "id": "OB481HVuyukh",
        "colab_type": "code",
        "colab": {
          "base_uri": "https://localhost:8080/",
          "height": 213
        },
        "outputId": "7512e975-4553-45c8-fe15-bff2a8a901a7"
      },
      "source": [
        "df.head(3)"
      ],
      "execution_count": 42,
      "outputs": [
        {
          "output_type": "execute_result",
          "data": {
            "text/html": [
              "<div>\n",
              "<style scoped>\n",
              "    .dataframe tbody tr th:only-of-type {\n",
              "        vertical-align: middle;\n",
              "    }\n",
              "\n",
              "    .dataframe tbody tr th {\n",
              "        vertical-align: top;\n",
              "    }\n",
              "\n",
              "    .dataframe thead th {\n",
              "        text-align: right;\n",
              "    }\n",
              "</style>\n",
              "<table border=\"1\" class=\"dataframe\">\n",
              "  <thead>\n",
              "    <tr style=\"text-align: right;\">\n",
              "      <th></th>\n",
              "      <th>City</th>\n",
              "      <th>Zip_Code</th>\n",
              "      <th>Latitude</th>\n",
              "      <th>Longitude</th>\n",
              "      <th>Gender</th>\n",
              "      <th>Senior_Citizen</th>\n",
              "      <th>Partner</th>\n",
              "      <th>Dependents</th>\n",
              "      <th>Tenure_Months</th>\n",
              "      <th>Phone_Service</th>\n",
              "      <th>Multiple_Lines</th>\n",
              "      <th>Internet_Service</th>\n",
              "      <th>Online_Security</th>\n",
              "      <th>Online_Backup</th>\n",
              "      <th>Device_Protection</th>\n",
              "      <th>Tech_Support</th>\n",
              "      <th>Streaming_TV</th>\n",
              "      <th>Streaming_Movies</th>\n",
              "      <th>Contract</th>\n",
              "      <th>Paperless_Billing</th>\n",
              "      <th>Payment_Method</th>\n",
              "      <th>Monthly_Charges</th>\n",
              "      <th>Total_Charges</th>\n",
              "      <th>Churn_Value</th>\n",
              "    </tr>\n",
              "  </thead>\n",
              "  <tbody>\n",
              "    <tr>\n",
              "      <th>0</th>\n",
              "      <td>Los_Angeles</td>\n",
              "      <td>90003</td>\n",
              "      <td>33.964131</td>\n",
              "      <td>-118.272783</td>\n",
              "      <td>Male</td>\n",
              "      <td>No</td>\n",
              "      <td>No</td>\n",
              "      <td>No</td>\n",
              "      <td>2</td>\n",
              "      <td>Yes</td>\n",
              "      <td>No</td>\n",
              "      <td>DSL</td>\n",
              "      <td>Yes</td>\n",
              "      <td>Yes</td>\n",
              "      <td>No</td>\n",
              "      <td>No</td>\n",
              "      <td>No</td>\n",
              "      <td>No</td>\n",
              "      <td>Month-to-month</td>\n",
              "      <td>Yes</td>\n",
              "      <td>Mailed check</td>\n",
              "      <td>53.85</td>\n",
              "      <td>108.15</td>\n",
              "      <td>1</td>\n",
              "    </tr>\n",
              "    <tr>\n",
              "      <th>1</th>\n",
              "      <td>Los_Angeles</td>\n",
              "      <td>90005</td>\n",
              "      <td>34.059281</td>\n",
              "      <td>-118.307420</td>\n",
              "      <td>Female</td>\n",
              "      <td>No</td>\n",
              "      <td>No</td>\n",
              "      <td>Yes</td>\n",
              "      <td>2</td>\n",
              "      <td>Yes</td>\n",
              "      <td>No</td>\n",
              "      <td>Fiber optic</td>\n",
              "      <td>No</td>\n",
              "      <td>No</td>\n",
              "      <td>No</td>\n",
              "      <td>No</td>\n",
              "      <td>No</td>\n",
              "      <td>No</td>\n",
              "      <td>Month-to-month</td>\n",
              "      <td>Yes</td>\n",
              "      <td>Electronic check</td>\n",
              "      <td>70.70</td>\n",
              "      <td>151.65</td>\n",
              "      <td>1</td>\n",
              "    </tr>\n",
              "    <tr>\n",
              "      <th>2</th>\n",
              "      <td>Los_Angeles</td>\n",
              "      <td>90006</td>\n",
              "      <td>34.048013</td>\n",
              "      <td>-118.293953</td>\n",
              "      <td>Female</td>\n",
              "      <td>No</td>\n",
              "      <td>No</td>\n",
              "      <td>Yes</td>\n",
              "      <td>8</td>\n",
              "      <td>Yes</td>\n",
              "      <td>Yes</td>\n",
              "      <td>Fiber optic</td>\n",
              "      <td>No</td>\n",
              "      <td>No</td>\n",
              "      <td>Yes</td>\n",
              "      <td>No</td>\n",
              "      <td>Yes</td>\n",
              "      <td>Yes</td>\n",
              "      <td>Month-to-month</td>\n",
              "      <td>Yes</td>\n",
              "      <td>Electronic check</td>\n",
              "      <td>99.65</td>\n",
              "      <td>820.50</td>\n",
              "      <td>1</td>\n",
              "    </tr>\n",
              "  </tbody>\n",
              "</table>\n",
              "</div>"
            ],
            "text/plain": [
              "          City  Zip_Code  ...  Total_Charges  Churn_Value\n",
              "0  Los_Angeles     90003  ...         108.15            1\n",
              "1  Los_Angeles     90005  ...         151.65            1\n",
              "2  Los_Angeles     90006  ...         820.50            1\n",
              "\n",
              "[3 rows x 24 columns]"
            ]
          },
          "metadata": {
            "tags": []
          },
          "execution_count": 42
        }
      ]
    },
    {
      "cell_type": "code",
      "metadata": {
        "id": "p2fRwZHUueoi",
        "colab_type": "code",
        "colab": {}
      },
      "source": [
        "df.replace(' ', '_', regex = True, inplace = True)"
      ],
      "execution_count": 43,
      "outputs": []
    },
    {
      "cell_type": "code",
      "metadata": {
        "id": "--hzvSZTyih1",
        "colab_type": "code",
        "colab": {
          "base_uri": "https://localhost:8080/",
          "height": 213
        },
        "outputId": "98cc339b-5eaa-4c4f-ce66-5ca5c4ddf227"
      },
      "source": [
        "df.head(3)"
      ],
      "execution_count": 44,
      "outputs": [
        {
          "output_type": "execute_result",
          "data": {
            "text/html": [
              "<div>\n",
              "<style scoped>\n",
              "    .dataframe tbody tr th:only-of-type {\n",
              "        vertical-align: middle;\n",
              "    }\n",
              "\n",
              "    .dataframe tbody tr th {\n",
              "        vertical-align: top;\n",
              "    }\n",
              "\n",
              "    .dataframe thead th {\n",
              "        text-align: right;\n",
              "    }\n",
              "</style>\n",
              "<table border=\"1\" class=\"dataframe\">\n",
              "  <thead>\n",
              "    <tr style=\"text-align: right;\">\n",
              "      <th></th>\n",
              "      <th>City</th>\n",
              "      <th>Zip_Code</th>\n",
              "      <th>Latitude</th>\n",
              "      <th>Longitude</th>\n",
              "      <th>Gender</th>\n",
              "      <th>Senior_Citizen</th>\n",
              "      <th>Partner</th>\n",
              "      <th>Dependents</th>\n",
              "      <th>Tenure_Months</th>\n",
              "      <th>Phone_Service</th>\n",
              "      <th>Multiple_Lines</th>\n",
              "      <th>Internet_Service</th>\n",
              "      <th>Online_Security</th>\n",
              "      <th>Online_Backup</th>\n",
              "      <th>Device_Protection</th>\n",
              "      <th>Tech_Support</th>\n",
              "      <th>Streaming_TV</th>\n",
              "      <th>Streaming_Movies</th>\n",
              "      <th>Contract</th>\n",
              "      <th>Paperless_Billing</th>\n",
              "      <th>Payment_Method</th>\n",
              "      <th>Monthly_Charges</th>\n",
              "      <th>Total_Charges</th>\n",
              "      <th>Churn_Value</th>\n",
              "    </tr>\n",
              "  </thead>\n",
              "  <tbody>\n",
              "    <tr>\n",
              "      <th>0</th>\n",
              "      <td>Los_Angeles</td>\n",
              "      <td>90003</td>\n",
              "      <td>33.964131</td>\n",
              "      <td>-118.272783</td>\n",
              "      <td>Male</td>\n",
              "      <td>No</td>\n",
              "      <td>No</td>\n",
              "      <td>No</td>\n",
              "      <td>2</td>\n",
              "      <td>Yes</td>\n",
              "      <td>No</td>\n",
              "      <td>DSL</td>\n",
              "      <td>Yes</td>\n",
              "      <td>Yes</td>\n",
              "      <td>No</td>\n",
              "      <td>No</td>\n",
              "      <td>No</td>\n",
              "      <td>No</td>\n",
              "      <td>Month-to-month</td>\n",
              "      <td>Yes</td>\n",
              "      <td>Mailed_check</td>\n",
              "      <td>53.85</td>\n",
              "      <td>108.15</td>\n",
              "      <td>1</td>\n",
              "    </tr>\n",
              "    <tr>\n",
              "      <th>1</th>\n",
              "      <td>Los_Angeles</td>\n",
              "      <td>90005</td>\n",
              "      <td>34.059281</td>\n",
              "      <td>-118.307420</td>\n",
              "      <td>Female</td>\n",
              "      <td>No</td>\n",
              "      <td>No</td>\n",
              "      <td>Yes</td>\n",
              "      <td>2</td>\n",
              "      <td>Yes</td>\n",
              "      <td>No</td>\n",
              "      <td>Fiber_optic</td>\n",
              "      <td>No</td>\n",
              "      <td>No</td>\n",
              "      <td>No</td>\n",
              "      <td>No</td>\n",
              "      <td>No</td>\n",
              "      <td>No</td>\n",
              "      <td>Month-to-month</td>\n",
              "      <td>Yes</td>\n",
              "      <td>Electronic_check</td>\n",
              "      <td>70.70</td>\n",
              "      <td>151.65</td>\n",
              "      <td>1</td>\n",
              "    </tr>\n",
              "    <tr>\n",
              "      <th>2</th>\n",
              "      <td>Los_Angeles</td>\n",
              "      <td>90006</td>\n",
              "      <td>34.048013</td>\n",
              "      <td>-118.293953</td>\n",
              "      <td>Female</td>\n",
              "      <td>No</td>\n",
              "      <td>No</td>\n",
              "      <td>Yes</td>\n",
              "      <td>8</td>\n",
              "      <td>Yes</td>\n",
              "      <td>Yes</td>\n",
              "      <td>Fiber_optic</td>\n",
              "      <td>No</td>\n",
              "      <td>No</td>\n",
              "      <td>Yes</td>\n",
              "      <td>No</td>\n",
              "      <td>Yes</td>\n",
              "      <td>Yes</td>\n",
              "      <td>Month-to-month</td>\n",
              "      <td>Yes</td>\n",
              "      <td>Electronic_check</td>\n",
              "      <td>99.65</td>\n",
              "      <td>820.50</td>\n",
              "      <td>1</td>\n",
              "    </tr>\n",
              "  </tbody>\n",
              "</table>\n",
              "</div>"
            ],
            "text/plain": [
              "          City  Zip_Code  ...  Total_Charges  Churn_Value\n",
              "0  Los_Angeles     90003  ...         108.15            1\n",
              "1  Los_Angeles     90005  ...         151.65            1\n",
              "2  Los_Angeles     90006  ...         820.50            1\n",
              "\n",
              "[3 rows x 24 columns]"
            ]
          },
          "metadata": {
            "tags": []
          },
          "execution_count": 44
        }
      ]
    },
    {
      "cell_type": "code",
      "metadata": {
        "id": "f0m0eK96yiky",
        "colab_type": "code",
        "colab": {}
      },
      "source": [
        ""
      ],
      "execution_count": 44,
      "outputs": []
    },
    {
      "cell_type": "code",
      "metadata": {
        "id": "tz8kDBcWy3cv",
        "colab_type": "code",
        "colab": {}
      },
      "source": [
        ""
      ],
      "execution_count": 44,
      "outputs": []
    },
    {
      "cell_type": "code",
      "metadata": {
        "id": "8l-POrnFy3fN",
        "colab_type": "code",
        "colab": {
          "base_uri": "https://localhost:8080/",
          "height": 213
        },
        "outputId": "e94c5084-7e66-4d70-ac01-f5bed1f84c60"
      },
      "source": [
        "X = df.drop('Churn_Value', axis = 1).copy()\n",
        "X.head(3)"
      ],
      "execution_count": 45,
      "outputs": [
        {
          "output_type": "execute_result",
          "data": {
            "text/html": [
              "<div>\n",
              "<style scoped>\n",
              "    .dataframe tbody tr th:only-of-type {\n",
              "        vertical-align: middle;\n",
              "    }\n",
              "\n",
              "    .dataframe tbody tr th {\n",
              "        vertical-align: top;\n",
              "    }\n",
              "\n",
              "    .dataframe thead th {\n",
              "        text-align: right;\n",
              "    }\n",
              "</style>\n",
              "<table border=\"1\" class=\"dataframe\">\n",
              "  <thead>\n",
              "    <tr style=\"text-align: right;\">\n",
              "      <th></th>\n",
              "      <th>City</th>\n",
              "      <th>Zip_Code</th>\n",
              "      <th>Latitude</th>\n",
              "      <th>Longitude</th>\n",
              "      <th>Gender</th>\n",
              "      <th>Senior_Citizen</th>\n",
              "      <th>Partner</th>\n",
              "      <th>Dependents</th>\n",
              "      <th>Tenure_Months</th>\n",
              "      <th>Phone_Service</th>\n",
              "      <th>Multiple_Lines</th>\n",
              "      <th>Internet_Service</th>\n",
              "      <th>Online_Security</th>\n",
              "      <th>Online_Backup</th>\n",
              "      <th>Device_Protection</th>\n",
              "      <th>Tech_Support</th>\n",
              "      <th>Streaming_TV</th>\n",
              "      <th>Streaming_Movies</th>\n",
              "      <th>Contract</th>\n",
              "      <th>Paperless_Billing</th>\n",
              "      <th>Payment_Method</th>\n",
              "      <th>Monthly_Charges</th>\n",
              "      <th>Total_Charges</th>\n",
              "    </tr>\n",
              "  </thead>\n",
              "  <tbody>\n",
              "    <tr>\n",
              "      <th>0</th>\n",
              "      <td>Los_Angeles</td>\n",
              "      <td>90003</td>\n",
              "      <td>33.964131</td>\n",
              "      <td>-118.272783</td>\n",
              "      <td>Male</td>\n",
              "      <td>No</td>\n",
              "      <td>No</td>\n",
              "      <td>No</td>\n",
              "      <td>2</td>\n",
              "      <td>Yes</td>\n",
              "      <td>No</td>\n",
              "      <td>DSL</td>\n",
              "      <td>Yes</td>\n",
              "      <td>Yes</td>\n",
              "      <td>No</td>\n",
              "      <td>No</td>\n",
              "      <td>No</td>\n",
              "      <td>No</td>\n",
              "      <td>Month-to-month</td>\n",
              "      <td>Yes</td>\n",
              "      <td>Mailed_check</td>\n",
              "      <td>53.85</td>\n",
              "      <td>108.15</td>\n",
              "    </tr>\n",
              "    <tr>\n",
              "      <th>1</th>\n",
              "      <td>Los_Angeles</td>\n",
              "      <td>90005</td>\n",
              "      <td>34.059281</td>\n",
              "      <td>-118.307420</td>\n",
              "      <td>Female</td>\n",
              "      <td>No</td>\n",
              "      <td>No</td>\n",
              "      <td>Yes</td>\n",
              "      <td>2</td>\n",
              "      <td>Yes</td>\n",
              "      <td>No</td>\n",
              "      <td>Fiber_optic</td>\n",
              "      <td>No</td>\n",
              "      <td>No</td>\n",
              "      <td>No</td>\n",
              "      <td>No</td>\n",
              "      <td>No</td>\n",
              "      <td>No</td>\n",
              "      <td>Month-to-month</td>\n",
              "      <td>Yes</td>\n",
              "      <td>Electronic_check</td>\n",
              "      <td>70.70</td>\n",
              "      <td>151.65</td>\n",
              "    </tr>\n",
              "    <tr>\n",
              "      <th>2</th>\n",
              "      <td>Los_Angeles</td>\n",
              "      <td>90006</td>\n",
              "      <td>34.048013</td>\n",
              "      <td>-118.293953</td>\n",
              "      <td>Female</td>\n",
              "      <td>No</td>\n",
              "      <td>No</td>\n",
              "      <td>Yes</td>\n",
              "      <td>8</td>\n",
              "      <td>Yes</td>\n",
              "      <td>Yes</td>\n",
              "      <td>Fiber_optic</td>\n",
              "      <td>No</td>\n",
              "      <td>No</td>\n",
              "      <td>Yes</td>\n",
              "      <td>No</td>\n",
              "      <td>Yes</td>\n",
              "      <td>Yes</td>\n",
              "      <td>Month-to-month</td>\n",
              "      <td>Yes</td>\n",
              "      <td>Electronic_check</td>\n",
              "      <td>99.65</td>\n",
              "      <td>820.50</td>\n",
              "    </tr>\n",
              "  </tbody>\n",
              "</table>\n",
              "</div>"
            ],
            "text/plain": [
              "          City  Zip_Code  ...  Monthly_Charges  Total_Charges\n",
              "0  Los_Angeles     90003  ...            53.85         108.15\n",
              "1  Los_Angeles     90005  ...            70.70         151.65\n",
              "2  Los_Angeles     90006  ...            99.65         820.50\n",
              "\n",
              "[3 rows x 23 columns]"
            ]
          },
          "metadata": {
            "tags": []
          },
          "execution_count": 45
        }
      ]
    },
    {
      "cell_type": "code",
      "metadata": {
        "id": "DNZEx-USy3ih",
        "colab_type": "code",
        "colab": {}
      },
      "source": [
        "y = df['Churn_Value'].copy()"
      ],
      "execution_count": 46,
      "outputs": []
    },
    {
      "cell_type": "code",
      "metadata": {
        "id": "vr81IFn6y3a4",
        "colab_type": "code",
        "colab": {
          "base_uri": "https://localhost:8080/",
          "height": 221
        },
        "outputId": "e61ea43c-79b9-44c5-cddb-692e1164bee4"
      },
      "source": [
        "y"
      ],
      "execution_count": 47,
      "outputs": [
        {
          "output_type": "execute_result",
          "data": {
            "text/plain": [
              "0       1\n",
              "1       1\n",
              "2       1\n",
              "3       1\n",
              "4       1\n",
              "       ..\n",
              "7038    0\n",
              "7039    0\n",
              "7040    0\n",
              "7041    0\n",
              "7042    0\n",
              "Name: Churn_Value, Length: 7043, dtype: int64"
            ]
          },
          "metadata": {
            "tags": []
          },
          "execution_count": 47
        }
      ]
    },
    {
      "cell_type": "code",
      "metadata": {
        "id": "jJXayGUvCalL",
        "colab_type": "code",
        "colab": {}
      },
      "source": [
        ""
      ],
      "execution_count": null,
      "outputs": []
    },
    {
      "cell_type": "code",
      "metadata": {
        "id": "XTiENya8EEPh",
        "colab_type": "code",
        "colab": {}
      },
      "source": [
        ""
      ],
      "execution_count": null,
      "outputs": []
    },
    {
      "cell_type": "code",
      "metadata": {
        "id": "8gCZRyhrCjoD",
        "colab_type": "code",
        "colab": {
          "base_uri": "https://localhost:8080/",
          "height": 425
        },
        "outputId": "a4f83bff-4a9f-45ed-a140-dccd823bf269"
      },
      "source": [
        "X.dtypes"
      ],
      "execution_count": 48,
      "outputs": [
        {
          "output_type": "execute_result",
          "data": {
            "text/plain": [
              "City                  object\n",
              "Zip_Code               int64\n",
              "Latitude             float64\n",
              "Longitude            float64\n",
              "Gender                object\n",
              "Senior_Citizen        object\n",
              "Partner               object\n",
              "Dependents            object\n",
              "Tenure_Months          int64\n",
              "Phone_Service         object\n",
              "Multiple_Lines        object\n",
              "Internet_Service      object\n",
              "Online_Security       object\n",
              "Online_Backup         object\n",
              "Device_Protection     object\n",
              "Tech_Support          object\n",
              "Streaming_TV          object\n",
              "Streaming_Movies      object\n",
              "Contract              object\n",
              "Paperless_Billing     object\n",
              "Payment_Method        object\n",
              "Monthly_Charges      float64\n",
              "Total_Charges        float64\n",
              "dtype: object"
            ]
          },
          "metadata": {
            "tags": []
          },
          "execution_count": 48
        }
      ]
    },
    {
      "cell_type": "code",
      "metadata": {
        "id": "sSNreOXuCjrD",
        "colab_type": "code",
        "colab": {}
      },
      "source": [
        "X_encoded = pd.get_dummies(X, columns = ['City',\n",
        "                                         'Gender',\n",
        "                                         'Senior_Citizen',\n",
        "                                         'Partner',\n",
        "                                         'Dependents',\n",
        "                                         'Phone_Service',\n",
        "                                         'Multiple_Lines',\n",
        "                                         'Internet_Service',\n",
        "                                         'Online_Security',\n",
        "                                         'Online_Backup',\n",
        "                                         'Device_Protection',\n",
        "                                         'Tech_Support',\n",
        "                                         'Streaming_TV',\n",
        "                                         'Streaming_Movies',\n",
        "                                         'Contract',\n",
        "                                         'Paperless_Billing',\n",
        "                                         'Payment_Method'])"
      ],
      "execution_count": 49,
      "outputs": []
    },
    {
      "cell_type": "code",
      "metadata": {
        "id": "In1WbKLzCjt7",
        "colab_type": "code",
        "colab": {
          "base_uri": "https://localhost:8080/",
          "height": 208
        },
        "outputId": "51ac118b-1c29-4449-86de-d9b1d1a03cfb"
      },
      "source": [
        "X_encoded.head(3)"
      ],
      "execution_count": 50,
      "outputs": [
        {
          "output_type": "execute_result",
          "data": {
            "text/html": [
              "<div>\n",
              "<style scoped>\n",
              "    .dataframe tbody tr th:only-of-type {\n",
              "        vertical-align: middle;\n",
              "    }\n",
              "\n",
              "    .dataframe tbody tr th {\n",
              "        vertical-align: top;\n",
              "    }\n",
              "\n",
              "    .dataframe thead th {\n",
              "        text-align: right;\n",
              "    }\n",
              "</style>\n",
              "<table border=\"1\" class=\"dataframe\">\n",
              "  <thead>\n",
              "    <tr style=\"text-align: right;\">\n",
              "      <th></th>\n",
              "      <th>Zip_Code</th>\n",
              "      <th>Latitude</th>\n",
              "      <th>Longitude</th>\n",
              "      <th>Tenure_Months</th>\n",
              "      <th>Monthly_Charges</th>\n",
              "      <th>Total_Charges</th>\n",
              "      <th>City_Acampo</th>\n",
              "      <th>City_Acton</th>\n",
              "      <th>City_Adelanto</th>\n",
              "      <th>City_Adin</th>\n",
              "      <th>City_Agoura_Hills</th>\n",
              "      <th>City_Aguanga</th>\n",
              "      <th>City_Ahwahnee</th>\n",
              "      <th>City_Alameda</th>\n",
              "      <th>City_Alamo</th>\n",
              "      <th>City_Albany</th>\n",
              "      <th>City_Albion</th>\n",
              "      <th>City_Alderpoint</th>\n",
              "      <th>City_Alhambra</th>\n",
              "      <th>City_Aliso_Viejo</th>\n",
              "      <th>City_Alleghany</th>\n",
              "      <th>City_Alpaugh</th>\n",
              "      <th>City_Alpine</th>\n",
              "      <th>City_Alta</th>\n",
              "      <th>City_Altadena</th>\n",
              "      <th>City_Alturas</th>\n",
              "      <th>City_Alviso</th>\n",
              "      <th>City_Amador_City</th>\n",
              "      <th>City_Amboy</th>\n",
              "      <th>City_Anaheim</th>\n",
              "      <th>City_Anderson</th>\n",
              "      <th>City_Angels_Camp</th>\n",
              "      <th>City_Angelus_Oaks</th>\n",
              "      <th>City_Angwin</th>\n",
              "      <th>City_Annapolis</th>\n",
              "      <th>City_Antelope</th>\n",
              "      <th>City_Antioch</th>\n",
              "      <th>City_Anza</th>\n",
              "      <th>City_Apple_Valley</th>\n",
              "      <th>City_Applegate</th>\n",
              "      <th>...</th>\n",
              "      <th>Senior_Citizen_Yes</th>\n",
              "      <th>Partner_No</th>\n",
              "      <th>Partner_Yes</th>\n",
              "      <th>Dependents_No</th>\n",
              "      <th>Dependents_Yes</th>\n",
              "      <th>Phone_Service_No</th>\n",
              "      <th>Phone_Service_Yes</th>\n",
              "      <th>Multiple_Lines_No</th>\n",
              "      <th>Multiple_Lines_No_phone_service</th>\n",
              "      <th>Multiple_Lines_Yes</th>\n",
              "      <th>Internet_Service_DSL</th>\n",
              "      <th>Internet_Service_Fiber_optic</th>\n",
              "      <th>Internet_Service_No</th>\n",
              "      <th>Online_Security_No</th>\n",
              "      <th>Online_Security_No_internet_service</th>\n",
              "      <th>Online_Security_Yes</th>\n",
              "      <th>Online_Backup_No</th>\n",
              "      <th>Online_Backup_No_internet_service</th>\n",
              "      <th>Online_Backup_Yes</th>\n",
              "      <th>Device_Protection_No</th>\n",
              "      <th>Device_Protection_No_internet_service</th>\n",
              "      <th>Device_Protection_Yes</th>\n",
              "      <th>Tech_Support_No</th>\n",
              "      <th>Tech_Support_No_internet_service</th>\n",
              "      <th>Tech_Support_Yes</th>\n",
              "      <th>Streaming_TV_No</th>\n",
              "      <th>Streaming_TV_No_internet_service</th>\n",
              "      <th>Streaming_TV_Yes</th>\n",
              "      <th>Streaming_Movies_No</th>\n",
              "      <th>Streaming_Movies_No_internet_service</th>\n",
              "      <th>Streaming_Movies_Yes</th>\n",
              "      <th>Contract_Month-to-month</th>\n",
              "      <th>Contract_One_year</th>\n",
              "      <th>Contract_Two_year</th>\n",
              "      <th>Paperless_Billing_No</th>\n",
              "      <th>Paperless_Billing_Yes</th>\n",
              "      <th>Payment_Method_Bank_transfer_(automatic)</th>\n",
              "      <th>Payment_Method_Credit_card_(automatic)</th>\n",
              "      <th>Payment_Method_Electronic_check</th>\n",
              "      <th>Payment_Method_Mailed_check</th>\n",
              "    </tr>\n",
              "  </thead>\n",
              "  <tbody>\n",
              "    <tr>\n",
              "      <th>0</th>\n",
              "      <td>90003</td>\n",
              "      <td>33.964131</td>\n",
              "      <td>-118.272783</td>\n",
              "      <td>2</td>\n",
              "      <td>53.85</td>\n",
              "      <td>108.15</td>\n",
              "      <td>0</td>\n",
              "      <td>0</td>\n",
              "      <td>0</td>\n",
              "      <td>0</td>\n",
              "      <td>0</td>\n",
              "      <td>0</td>\n",
              "      <td>0</td>\n",
              "      <td>0</td>\n",
              "      <td>0</td>\n",
              "      <td>0</td>\n",
              "      <td>0</td>\n",
              "      <td>0</td>\n",
              "      <td>0</td>\n",
              "      <td>0</td>\n",
              "      <td>0</td>\n",
              "      <td>0</td>\n",
              "      <td>0</td>\n",
              "      <td>0</td>\n",
              "      <td>0</td>\n",
              "      <td>0</td>\n",
              "      <td>0</td>\n",
              "      <td>0</td>\n",
              "      <td>0</td>\n",
              "      <td>0</td>\n",
              "      <td>0</td>\n",
              "      <td>0</td>\n",
              "      <td>0</td>\n",
              "      <td>0</td>\n",
              "      <td>0</td>\n",
              "      <td>0</td>\n",
              "      <td>0</td>\n",
              "      <td>0</td>\n",
              "      <td>0</td>\n",
              "      <td>0</td>\n",
              "      <td>...</td>\n",
              "      <td>0</td>\n",
              "      <td>1</td>\n",
              "      <td>0</td>\n",
              "      <td>1</td>\n",
              "      <td>0</td>\n",
              "      <td>0</td>\n",
              "      <td>1</td>\n",
              "      <td>1</td>\n",
              "      <td>0</td>\n",
              "      <td>0</td>\n",
              "      <td>1</td>\n",
              "      <td>0</td>\n",
              "      <td>0</td>\n",
              "      <td>0</td>\n",
              "      <td>0</td>\n",
              "      <td>1</td>\n",
              "      <td>0</td>\n",
              "      <td>0</td>\n",
              "      <td>1</td>\n",
              "      <td>1</td>\n",
              "      <td>0</td>\n",
              "      <td>0</td>\n",
              "      <td>1</td>\n",
              "      <td>0</td>\n",
              "      <td>0</td>\n",
              "      <td>1</td>\n",
              "      <td>0</td>\n",
              "      <td>0</td>\n",
              "      <td>1</td>\n",
              "      <td>0</td>\n",
              "      <td>0</td>\n",
              "      <td>1</td>\n",
              "      <td>0</td>\n",
              "      <td>0</td>\n",
              "      <td>0</td>\n",
              "      <td>1</td>\n",
              "      <td>0</td>\n",
              "      <td>0</td>\n",
              "      <td>0</td>\n",
              "      <td>1</td>\n",
              "    </tr>\n",
              "    <tr>\n",
              "      <th>1</th>\n",
              "      <td>90005</td>\n",
              "      <td>34.059281</td>\n",
              "      <td>-118.307420</td>\n",
              "      <td>2</td>\n",
              "      <td>70.70</td>\n",
              "      <td>151.65</td>\n",
              "      <td>0</td>\n",
              "      <td>0</td>\n",
              "      <td>0</td>\n",
              "      <td>0</td>\n",
              "      <td>0</td>\n",
              "      <td>0</td>\n",
              "      <td>0</td>\n",
              "      <td>0</td>\n",
              "      <td>0</td>\n",
              "      <td>0</td>\n",
              "      <td>0</td>\n",
              "      <td>0</td>\n",
              "      <td>0</td>\n",
              "      <td>0</td>\n",
              "      <td>0</td>\n",
              "      <td>0</td>\n",
              "      <td>0</td>\n",
              "      <td>0</td>\n",
              "      <td>0</td>\n",
              "      <td>0</td>\n",
              "      <td>0</td>\n",
              "      <td>0</td>\n",
              "      <td>0</td>\n",
              "      <td>0</td>\n",
              "      <td>0</td>\n",
              "      <td>0</td>\n",
              "      <td>0</td>\n",
              "      <td>0</td>\n",
              "      <td>0</td>\n",
              "      <td>0</td>\n",
              "      <td>0</td>\n",
              "      <td>0</td>\n",
              "      <td>0</td>\n",
              "      <td>0</td>\n",
              "      <td>...</td>\n",
              "      <td>0</td>\n",
              "      <td>1</td>\n",
              "      <td>0</td>\n",
              "      <td>0</td>\n",
              "      <td>1</td>\n",
              "      <td>0</td>\n",
              "      <td>1</td>\n",
              "      <td>1</td>\n",
              "      <td>0</td>\n",
              "      <td>0</td>\n",
              "      <td>0</td>\n",
              "      <td>1</td>\n",
              "      <td>0</td>\n",
              "      <td>1</td>\n",
              "      <td>0</td>\n",
              "      <td>0</td>\n",
              "      <td>1</td>\n",
              "      <td>0</td>\n",
              "      <td>0</td>\n",
              "      <td>1</td>\n",
              "      <td>0</td>\n",
              "      <td>0</td>\n",
              "      <td>1</td>\n",
              "      <td>0</td>\n",
              "      <td>0</td>\n",
              "      <td>1</td>\n",
              "      <td>0</td>\n",
              "      <td>0</td>\n",
              "      <td>1</td>\n",
              "      <td>0</td>\n",
              "      <td>0</td>\n",
              "      <td>1</td>\n",
              "      <td>0</td>\n",
              "      <td>0</td>\n",
              "      <td>0</td>\n",
              "      <td>1</td>\n",
              "      <td>0</td>\n",
              "      <td>0</td>\n",
              "      <td>1</td>\n",
              "      <td>0</td>\n",
              "    </tr>\n",
              "    <tr>\n",
              "      <th>2</th>\n",
              "      <td>90006</td>\n",
              "      <td>34.048013</td>\n",
              "      <td>-118.293953</td>\n",
              "      <td>8</td>\n",
              "      <td>99.65</td>\n",
              "      <td>820.50</td>\n",
              "      <td>0</td>\n",
              "      <td>0</td>\n",
              "      <td>0</td>\n",
              "      <td>0</td>\n",
              "      <td>0</td>\n",
              "      <td>0</td>\n",
              "      <td>0</td>\n",
              "      <td>0</td>\n",
              "      <td>0</td>\n",
              "      <td>0</td>\n",
              "      <td>0</td>\n",
              "      <td>0</td>\n",
              "      <td>0</td>\n",
              "      <td>0</td>\n",
              "      <td>0</td>\n",
              "      <td>0</td>\n",
              "      <td>0</td>\n",
              "      <td>0</td>\n",
              "      <td>0</td>\n",
              "      <td>0</td>\n",
              "      <td>0</td>\n",
              "      <td>0</td>\n",
              "      <td>0</td>\n",
              "      <td>0</td>\n",
              "      <td>0</td>\n",
              "      <td>0</td>\n",
              "      <td>0</td>\n",
              "      <td>0</td>\n",
              "      <td>0</td>\n",
              "      <td>0</td>\n",
              "      <td>0</td>\n",
              "      <td>0</td>\n",
              "      <td>0</td>\n",
              "      <td>0</td>\n",
              "      <td>...</td>\n",
              "      <td>0</td>\n",
              "      <td>1</td>\n",
              "      <td>0</td>\n",
              "      <td>0</td>\n",
              "      <td>1</td>\n",
              "      <td>0</td>\n",
              "      <td>1</td>\n",
              "      <td>0</td>\n",
              "      <td>0</td>\n",
              "      <td>1</td>\n",
              "      <td>0</td>\n",
              "      <td>1</td>\n",
              "      <td>0</td>\n",
              "      <td>1</td>\n",
              "      <td>0</td>\n",
              "      <td>0</td>\n",
              "      <td>1</td>\n",
              "      <td>0</td>\n",
              "      <td>0</td>\n",
              "      <td>0</td>\n",
              "      <td>0</td>\n",
              "      <td>1</td>\n",
              "      <td>1</td>\n",
              "      <td>0</td>\n",
              "      <td>0</td>\n",
              "      <td>0</td>\n",
              "      <td>0</td>\n",
              "      <td>1</td>\n",
              "      <td>0</td>\n",
              "      <td>0</td>\n",
              "      <td>1</td>\n",
              "      <td>1</td>\n",
              "      <td>0</td>\n",
              "      <td>0</td>\n",
              "      <td>0</td>\n",
              "      <td>1</td>\n",
              "      <td>0</td>\n",
              "      <td>0</td>\n",
              "      <td>1</td>\n",
              "      <td>0</td>\n",
              "    </tr>\n",
              "  </tbody>\n",
              "</table>\n",
              "<p>3 rows × 1178 columns</p>\n",
              "</div>"
            ],
            "text/plain": [
              "   Zip_Code  ...  Payment_Method_Mailed_check\n",
              "0     90003  ...                            1\n",
              "1     90005  ...                            0\n",
              "2     90006  ...                            0\n",
              "\n",
              "[3 rows x 1178 columns]"
            ]
          },
          "metadata": {
            "tags": []
          },
          "execution_count": 50
        }
      ]
    },
    {
      "cell_type": "code",
      "metadata": {
        "id": "HMRsY6bICjyc",
        "colab_type": "code",
        "colab": {
          "base_uri": "https://localhost:8080/",
          "height": 34
        },
        "outputId": "29479d81-b1f9-4cee-b689-b6eae43cb5c2"
      },
      "source": [
        "X_encoded.shape"
      ],
      "execution_count": 51,
      "outputs": [
        {
          "output_type": "execute_result",
          "data": {
            "text/plain": [
              "(7043, 1178)"
            ]
          },
          "metadata": {
            "tags": []
          },
          "execution_count": 51
        }
      ]
    },
    {
      "cell_type": "code",
      "metadata": {
        "id": "yI3fgwfoFI7-",
        "colab_type": "code",
        "colab": {
          "base_uri": "https://localhost:8080/",
          "height": 34
        },
        "outputId": "f2602618-04f4-41dc-ab0c-45a8c336f9b5"
      },
      "source": [
        "y.unique()"
      ],
      "execution_count": 52,
      "outputs": [
        {
          "output_type": "execute_result",
          "data": {
            "text/plain": [
              "array([1, 0])"
            ]
          },
          "metadata": {
            "tags": []
          },
          "execution_count": 52
        }
      ]
    },
    {
      "cell_type": "code",
      "metadata": {
        "id": "PQDoWFoCFl0i",
        "colab_type": "code",
        "colab": {}
      },
      "source": [
        ""
      ],
      "execution_count": null,
      "outputs": []
    },
    {
      "cell_type": "code",
      "metadata": {
        "id": "toQDeAHeFnc6",
        "colab_type": "code",
        "colab": {}
      },
      "source": [
        ""
      ],
      "execution_count": null,
      "outputs": []
    },
    {
      "cell_type": "markdown",
      "metadata": {
        "id": "j-OtCna0GFL0",
        "colab_type": "text"
      },
      "source": [
        "https://www.youtube.com/watch?v=GrJP9FLV3FE"
      ]
    },
    {
      "cell_type": "markdown",
      "metadata": {
        "id": "BEfeGax_GJA5",
        "colab_type": "text"
      },
      "source": [
        "35'18'' explains how missing values can be handled with xgboost algorithm"
      ]
    },
    {
      "cell_type": "markdown",
      "metadata": {
        "id": "9Iz6ffDWGfDE",
        "colab_type": "text"
      },
      "source": [
        "sparse matrices, only tracks 1s, do not allocate memory on 0s, this how xgboost dealing with missings while being efficient at the same time!"
      ]
    },
    {
      "cell_type": "code",
      "metadata": {
        "id": "Ce3xUDJJGIXj",
        "colab_type": "code",
        "colab": {}
      },
      "source": [
        ""
      ],
      "execution_count": null,
      "outputs": []
    },
    {
      "cell_type": "code",
      "metadata": {
        "id": "DpUZkfBKFnjy",
        "colab_type": "code",
        "colab": {}
      },
      "source": [
        ""
      ],
      "execution_count": null,
      "outputs": []
    },
    {
      "cell_type": "code",
      "metadata": {
        "id": "pIqQN3aHFniP",
        "colab_type": "code",
        "colab": {
          "base_uri": "https://localhost:8080/",
          "height": 34
        },
        "outputId": "d9524027-af2b-4dc1-918e-c6d05112c34e"
      },
      "source": [
        "sum(y) / len(y)"
      ],
      "execution_count": 53,
      "outputs": [
        {
          "output_type": "execute_result",
          "data": {
            "text/plain": [
              "0.2653698707936959"
            ]
          },
          "metadata": {
            "tags": []
          },
          "execution_count": 53
        }
      ]
    },
    {
      "cell_type": "code",
      "metadata": {
        "id": "qFSVjww2HTGW",
        "colab_type": "code",
        "colab": {}
      },
      "source": [
        "X_train, X_test, y_train, y_test = train_test_split(X_encoded, y, random_state = 42, stratify = y)"
      ],
      "execution_count": 54,
      "outputs": []
    },
    {
      "cell_type": "code",
      "metadata": {
        "id": "4-bKq-kqHT3L",
        "colab_type": "code",
        "colab": {
          "base_uri": "https://localhost:8080/",
          "height": 34
        },
        "outputId": "e41dd1e1-b908-4266-86c1-83236b418379"
      },
      "source": [
        "sum(y_train) / len(y_train)"
      ],
      "execution_count": 55,
      "outputs": [
        {
          "output_type": "execute_result",
          "data": {
            "text/plain": [
              "0.2654297614539947"
            ]
          },
          "metadata": {
            "tags": []
          },
          "execution_count": 55
        }
      ]
    },
    {
      "cell_type": "code",
      "metadata": {
        "id": "hmOJaZikHT6I",
        "colab_type": "code",
        "colab": {
          "base_uri": "https://localhost:8080/",
          "height": 34
        },
        "outputId": "767aa277-1284-4ab8-e3d1-de2acf334dbb"
      },
      "source": [
        "sum(y_test) / len(y_test)"
      ],
      "execution_count": 56,
      "outputs": [
        {
          "output_type": "execute_result",
          "data": {
            "text/plain": [
              "0.26519023282226006"
            ]
          },
          "metadata": {
            "tags": []
          },
          "execution_count": 56
        }
      ]
    },
    {
      "cell_type": "code",
      "metadata": {
        "id": "kNcf2HW2HT_6",
        "colab_type": "code",
        "colab": {}
      },
      "source": [
        ""
      ],
      "execution_count": null,
      "outputs": []
    },
    {
      "cell_type": "code",
      "metadata": {
        "id": "2TOOmLQLHUDK",
        "colab_type": "code",
        "colab": {}
      },
      "source": [
        ""
      ],
      "execution_count": null,
      "outputs": []
    },
    {
      "cell_type": "code",
      "metadata": {
        "id": "JEP10vZHHT9e",
        "colab_type": "code",
        "colab": {
          "base_uri": "https://localhost:8080/",
          "height": 1000
        },
        "outputId": "4f696462-5cce-4e93-b68a-7ded7b70dd99"
      },
      "source": [
        "clf_xgb = xgb.XGBClassifier(objective = 'binary:logistic', missing = None, seed = 42)\n",
        "\n",
        "clf_xgb.fit(X_train,\n",
        "            y_train,\n",
        "            verbose = True,\n",
        "            early_stopping_rounds = 10,                 # at certain training epoch, results will halt, give it 10 rounds more to check\n",
        "            eval_metric = 'aucpr',\n",
        "            eval_set = [(X_test, y_test)])"
      ],
      "execution_count": 57,
      "outputs": [
        {
          "output_type": "stream",
          "text": [
            "[0]\tvalidation_0-aucpr:0.578392\n",
            "Will train until validation_0-aucpr hasn't improved in 10 rounds.\n",
            "[1]\tvalidation_0-aucpr:0.580597\n",
            "[2]\tvalidation_0-aucpr:0.590099\n",
            "[3]\tvalidation_0-aucpr:0.601636\n",
            "[4]\tvalidation_0-aucpr:0.608932\n",
            "[5]\tvalidation_0-aucpr:0.603821\n",
            "[6]\tvalidation_0-aucpr:0.618314\n",
            "[7]\tvalidation_0-aucpr:0.610906\n",
            "[8]\tvalidation_0-aucpr:0.620122\n",
            "[9]\tvalidation_0-aucpr:0.62495\n",
            "[10]\tvalidation_0-aucpr:0.629252\n",
            "[11]\tvalidation_0-aucpr:0.628517\n",
            "[12]\tvalidation_0-aucpr:0.650051\n",
            "[13]\tvalidation_0-aucpr:0.649035\n",
            "[14]\tvalidation_0-aucpr:0.650546\n",
            "[15]\tvalidation_0-aucpr:0.652876\n",
            "[16]\tvalidation_0-aucpr:0.654922\n",
            "[17]\tvalidation_0-aucpr:0.655347\n",
            "[18]\tvalidation_0-aucpr:0.655818\n",
            "[19]\tvalidation_0-aucpr:0.655958\n",
            "[20]\tvalidation_0-aucpr:0.656236\n",
            "[21]\tvalidation_0-aucpr:0.655564\n",
            "[22]\tvalidation_0-aucpr:0.656688\n",
            "[23]\tvalidation_0-aucpr:0.657409\n",
            "[24]\tvalidation_0-aucpr:0.656236\n",
            "[25]\tvalidation_0-aucpr:0.655347\n",
            "[26]\tvalidation_0-aucpr:0.656541\n",
            "[27]\tvalidation_0-aucpr:0.657225\n",
            "[28]\tvalidation_0-aucpr:0.656978\n",
            "[29]\tvalidation_0-aucpr:0.657309\n",
            "[30]\tvalidation_0-aucpr:0.65767\n",
            "[31]\tvalidation_0-aucpr:0.658044\n",
            "[32]\tvalidation_0-aucpr:0.659631\n",
            "[33]\tvalidation_0-aucpr:0.660315\n",
            "[34]\tvalidation_0-aucpr:0.659643\n",
            "[35]\tvalidation_0-aucpr:0.660104\n",
            "[36]\tvalidation_0-aucpr:0.659014\n",
            "[37]\tvalidation_0-aucpr:0.659666\n",
            "[38]\tvalidation_0-aucpr:0.661717\n",
            "[39]\tvalidation_0-aucpr:0.662989\n",
            "[40]\tvalidation_0-aucpr:0.663667\n",
            "[41]\tvalidation_0-aucpr:0.662927\n",
            "[42]\tvalidation_0-aucpr:0.663886\n",
            "[43]\tvalidation_0-aucpr:0.664187\n",
            "[44]\tvalidation_0-aucpr:0.6642\n",
            "[45]\tvalidation_0-aucpr:0.665552\n",
            "[46]\tvalidation_0-aucpr:0.665049\n",
            "[47]\tvalidation_0-aucpr:0.664782\n",
            "[48]\tvalidation_0-aucpr:0.66522\n",
            "[49]\tvalidation_0-aucpr:0.665371\n",
            "[50]\tvalidation_0-aucpr:0.664722\n",
            "[51]\tvalidation_0-aucpr:0.664562\n",
            "[52]\tvalidation_0-aucpr:0.665216\n",
            "[53]\tvalidation_0-aucpr:0.665086\n",
            "[54]\tvalidation_0-aucpr:0.664534\n",
            "[55]\tvalidation_0-aucpr:0.664162\n",
            "Stopping. Best iteration:\n",
            "[45]\tvalidation_0-aucpr:0.665552\n",
            "\n"
          ],
          "name": "stdout"
        },
        {
          "output_type": "execute_result",
          "data": {
            "text/plain": [
              "XGBClassifier(base_score=0.5, booster='gbtree', colsample_bylevel=1,\n",
              "              colsample_bynode=1, colsample_bytree=1, gamma=0,\n",
              "              learning_rate=0.1, max_delta_step=0, max_depth=3,\n",
              "              min_child_weight=1, missing=None, n_estimators=100, n_jobs=1,\n",
              "              nthread=None, objective='binary:logistic', random_state=0,\n",
              "              reg_alpha=0, reg_lambda=1, scale_pos_weight=1, seed=42,\n",
              "              silent=None, subsample=1, verbosity=1)"
            ]
          },
          "metadata": {
            "tags": []
          },
          "execution_count": 57
        }
      ]
    },
    {
      "cell_type": "markdown",
      "metadata": {
        "id": "B6jlaQb_KldR",
        "colab_type": "text"
      },
      "source": [
        "above says that stopped at 55th tree, so, the best is at 45th."
      ]
    },
    {
      "cell_type": "code",
      "metadata": {
        "id": "SdOsPVYOJTHa",
        "colab_type": "code",
        "colab": {
          "base_uri": "https://localhost:8080/",
          "height": 296
        },
        "outputId": "6adb0ef2-c646-4788-ac80-78460df9b210"
      },
      "source": [
        "plot_confusion_matrix(clf_xgb,\n",
        "                      X_test,\n",
        "                      y_test,\n",
        "                      values_format = 'd',\n",
        "                      display_labels = ['Did not leave', 'Left'])"
      ],
      "execution_count": 58,
      "outputs": [
        {
          "output_type": "execute_result",
          "data": {
            "text/plain": [
              "<sklearn.metrics._plot.confusion_matrix.ConfusionMatrixDisplay at 0x7f5a17e3b208>"
            ]
          },
          "metadata": {
            "tags": []
          },
          "execution_count": 58
        },
        {
          "output_type": "display_data",
          "data": {
            "image/png": "[encoded data removed]",
            "text/plain": [
              "<Figure size 432x288 with 2 Axes>"
            ]
          },
          "metadata": {
            "tags": [],
            "needs_background": "light"
          }
        }
      ]
    },
    {
      "cell_type": "markdown",
      "metadata": {
        "id": "kfvJZgavLfNP",
        "colab_type": "text"
      },
      "source": [
        "Not so good becoz the ppl who have left was only predicted 51% correctly"
      ]
    },
    {
      "cell_type": "code",
      "metadata": {
        "id": "jVEuToiLLCQg",
        "colab_type": "code",
        "colab": {}
      },
      "source": [
        ""
      ],
      "execution_count": 58,
      "outputs": []
    },
    {
      "cell_type": "code",
      "metadata": {
        "id": "45u_ZXJ3LngG",
        "colab_type": "code",
        "colab": {}
      },
      "source": [
        ""
      ],
      "execution_count": 58,
      "outputs": []
    },
    {
      "cell_type": "code",
      "metadata": {
        "id": "2Y8-Ya0jLnlu",
        "colab_type": "code",
        "colab": {}
      },
      "source": [
        "param_grid_1 ={\n",
        "    'max_depth': [3, 4, 5],\n",
        "    'learning _rate': [0.1, 0.01, 0.05],\n",
        "    'gamma': [0, 0.25, 1.0],\n",
        "    'reg_lambda': [0, 1.0, 10.0],\n",
        "    'scale_pos_weight': [1, 3, 5]}"
      ],
      "execution_count": 59,
      "outputs": []
    },
    {
      "cell_type": "code",
      "metadata": {
        "id": "WCEvhVELN5TN",
        "colab_type": "code",
        "colab": {}
      },
      "source": [
        "optimal_params_1 = GridSearchCV(\n",
        "    estimator = xgb.XGBClassifier(objective = 'binary:logistic',\n",
        "                                  seed = 42,\n",
        "                                  subsample = 0.9,\n",
        "                                  colsample_bytree = 0.5),\n",
        "    param_grid = param_grid_1,\n",
        "    scoring = 'roc_auc',\n",
        "    verbose = 0,\n",
        "    n_jobs =10,\n",
        "    cv = 3)"
      ],
      "execution_count": 60,
      "outputs": []
    },
    {
      "cell_type": "code",
      "metadata": {
        "id": "utRqHkFpN5dH",
        "colab_type": "code",
        "colab": {
          "base_uri": "https://localhost:8080/",
          "height": 323
        },
        "outputId": "9c948c1b-a2ce-4ffa-80d9-5008e9bda2ed"
      },
      "source": [
        "optimal_params_1"
      ],
      "execution_count": 61,
      "outputs": [
        {
          "output_type": "execute_result",
          "data": {
            "text/plain": [
              "GridSearchCV(cv=3, error_score=nan,\n",
              "             estimator=XGBClassifier(base_score=0.5, booster='gbtree',\n",
              "                                     colsample_bylevel=1, colsample_bynode=1,\n",
              "                                     colsample_bytree=0.5, gamma=0,\n",
              "                                     learning_rate=0.1, max_delta_step=0,\n",
              "                                     max_depth=3, min_child_weight=1,\n",
              "                                     missing=None, n_estimators=100, n_jobs=1,\n",
              "                                     nthread=None, objective='binary:logistic',\n",
              "                                     random_state=0, reg_alpha=0, reg_lambda=1,\n",
              "                                     scale_pos_weight=1, seed=42, silent=None,\n",
              "                                     subsample=0.9, verbosity=1),\n",
              "             iid='deprecated', n_jobs=10,\n",
              "             param_grid={'gamma': [0, 0.25, 1.0],\n",
              "                         'learning _rate': [0.1, 0.01, 0.05],\n",
              "                         'max_depth': [3, 4, 5], 'reg_lambda': [0, 1.0, 10.0],\n",
              "                         'scale_pos_weight': [1, 3, 5]},\n",
              "             pre_dispatch='2*n_jobs', refit=True, return_train_score=False,\n",
              "             scoring='roc_auc', verbose=0)"
            ]
          },
          "metadata": {
            "tags": []
          },
          "execution_count": 61
        }
      ]
    },
    {
      "cell_type": "markdown",
      "metadata": {
        "id": "gptzbBmBgfzM",
        "colab_type": "text"
      },
      "source": [
        "%time\n",
        "optimal_params_1.fit(X_train,\n",
        "                     y_train,\n",
        "                     verbose = False,\n",
        "                     early_stopping_rounds = 10,                 # at certain training epoch, results will halt, give it 10 rounds more to check\n",
        "                     eval_metric = 'auc',\n",
        "                     eval_set = [(X_test, y_test)])"
      ]
    },
    {
      "cell_type": "code",
      "metadata": {
        "id": "eZEoGkFyLnjY",
        "colab_type": "code",
        "colab": {}
      },
      "source": [
        "param_grid_2 ={\n",
        "    'max_depth': [4],\n",
        "    'learning _rate': [0.1, 0.5, 1],\n",
        "    'gamma': [0.25],\n",
        "    'reg_lambda': [10.0, 20, 100],\n",
        "    'scale_pos_weight': [3]}"
      ],
      "execution_count": 62,
      "outputs": []
    },
    {
      "cell_type": "code",
      "metadata": {
        "id": "Ovi0NP4_Yf_N",
        "colab_type": "code",
        "colab": {
          "base_uri": "https://localhost:8080/",
          "height": 102
        },
        "outputId": "cff92d00-00e0-419e-9636-bdd327cbfdda"
      },
      "source": [
        "param_grid_2"
      ],
      "execution_count": 63,
      "outputs": [
        {
          "output_type": "execute_result",
          "data": {
            "text/plain": [
              "{'gamma': [0.25],\n",
              " 'learning _rate': [0.1, 0.5, 1],\n",
              " 'max_depth': [4],\n",
              " 'reg_lambda': [10.0, 20, 100],\n",
              " 'scale_pos_weight': [3]}"
            ]
          },
          "metadata": {
            "tags": []
          },
          "execution_count": 63
        }
      ]
    },
    {
      "cell_type": "code",
      "metadata": {
        "id": "R22s26KNLndq",
        "colab_type": "code",
        "colab": {}
      },
      "source": [
        "optimal_params_2 = GridSearchCV(\n",
        "    estimator = xgb.XGBClassifier(objective = 'binary:logistic',\n",
        "                                  seed = 42,\n",
        "                                  subsample = 0.9,\n",
        "                                  colsample_bytree = 0.5),\n",
        "    param_grid = param_grid_2,\n",
        "    scoring = 'roc_auc',\n",
        "    verbose = 0,\n",
        "    n_jobs =10,\n",
        "    cv = 3)"
      ],
      "execution_count": 64,
      "outputs": []
    },
    {
      "cell_type": "code",
      "metadata": {
        "id": "UmdWZacdYkAs",
        "colab_type": "code",
        "colab": {
          "base_uri": "https://localhost:8080/",
          "height": 306
        },
        "outputId": "c8d1207f-caea-4fd0-d1c8-363175a24501"
      },
      "source": [
        "optimal_params_2"
      ],
      "execution_count": 65,
      "outputs": [
        {
          "output_type": "execute_result",
          "data": {
            "text/plain": [
              "GridSearchCV(cv=3, error_score=nan,\n",
              "             estimator=XGBClassifier(base_score=0.5, booster='gbtree',\n",
              "                                     colsample_bylevel=1, colsample_bynode=1,\n",
              "                                     colsample_bytree=0.5, gamma=0,\n",
              "                                     learning_rate=0.1, max_delta_step=0,\n",
              "                                     max_depth=3, min_child_weight=1,\n",
              "                                     missing=None, n_estimators=100, n_jobs=1,\n",
              "                                     nthread=None, objective='binary:logistic',\n",
              "                                     random_state=0, reg_alpha=0, reg_lambda=1,\n",
              "                                     scale_pos_weight=1, seed=42, silent=None,\n",
              "                                     subsample=0.9, verbosity=1),\n",
              "             iid='deprecated', n_jobs=10,\n",
              "             param_grid={'gamma': [0.25], 'learning _rate': [0.1, 0.5, 1],\n",
              "                         'max_depth': [4], 'reg_lambda': [10.0, 20, 100],\n",
              "                         'scale_pos_weight': [3]},\n",
              "             pre_dispatch='2*n_jobs', refit=True, return_train_score=False,\n",
              "             scoring='roc_auc', verbose=0)"
            ]
          },
          "metadata": {
            "tags": []
          },
          "execution_count": 65
        }
      ]
    },
    {
      "cell_type": "code",
      "metadata": {
        "id": "Ovvb2oGTRFrZ",
        "colab_type": "code",
        "colab": {
          "base_uri": "https://localhost:8080/",
          "height": 340
        },
        "outputId": "b52cb763-740f-48b2-beae-d39d8951d73c"
      },
      "source": [
        "%time\n",
        "optimal_params_2.fit(X_train,\n",
        "                     y_train,\n",
        "                     verbose = False,\n",
        "                     early_stopping_rounds = 10,                 \n",
        "                     eval_metric = 'auc',\n",
        "                     eval_set = [(X_test, y_test)])"
      ],
      "execution_count": 66,
      "outputs": [
        {
          "output_type": "stream",
          "text": [
            "CPU times: user 4 µs, sys: 1e+03 ns, total: 5 µs\n",
            "Wall time: 7.15 µs\n"
          ],
          "name": "stdout"
        },
        {
          "output_type": "execute_result",
          "data": {
            "text/plain": [
              "GridSearchCV(cv=3, error_score=nan,\n",
              "             estimator=XGBClassifier(base_score=0.5, booster='gbtree',\n",
              "                                     colsample_bylevel=1, colsample_bynode=1,\n",
              "                                     colsample_bytree=0.5, gamma=0,\n",
              "                                     learning_rate=0.1, max_delta_step=0,\n",
              "                                     max_depth=3, min_child_weight=1,\n",
              "                                     missing=None, n_estimators=100, n_jobs=1,\n",
              "                                     nthread=None, objective='binary:logistic',\n",
              "                                     random_state=0, reg_alpha=0, reg_lambda=1,\n",
              "                                     scale_pos_weight=1, seed=42, silent=None,\n",
              "                                     subsample=0.9, verbosity=1),\n",
              "             iid='deprecated', n_jobs=10,\n",
              "             param_grid={'gamma': [0.25], 'learning _rate': [0.1, 0.5, 1],\n",
              "                         'max_depth': [4], 'reg_lambda': [10.0, 20, 100],\n",
              "                         'scale_pos_weight': [3]},\n",
              "             pre_dispatch='2*n_jobs', refit=True, return_train_score=False,\n",
              "             scoring='roc_auc', verbose=0)"
            ]
          },
          "metadata": {
            "tags": []
          },
          "execution_count": 66
        }
      ]
    },
    {
      "cell_type": "code",
      "metadata": {
        "id": "ukC3dwGigqow",
        "colab_type": "code",
        "colab": {
          "base_uri": "https://localhost:8080/",
          "height": 102
        },
        "outputId": "c005346f-c12c-44ba-d534-2e7bb3eb998a"
      },
      "source": [
        "optimal_params_2.best_params_"
      ],
      "execution_count": 67,
      "outputs": [
        {
          "output_type": "execute_result",
          "data": {
            "text/plain": [
              "{'gamma': 0.25,\n",
              " 'learning _rate': 0.1,\n",
              " 'max_depth': 4,\n",
              " 'reg_lambda': 100,\n",
              " 'scale_pos_weight': 3}"
            ]
          },
          "metadata": {
            "tags": []
          },
          "execution_count": 67
        }
      ]
    },
    {
      "cell_type": "code",
      "metadata": {
        "id": "eGN37BhVgrgd",
        "colab_type": "code",
        "colab": {}
      },
      "source": [
        ""
      ],
      "execution_count": null,
      "outputs": []
    },
    {
      "cell_type": "code",
      "metadata": {
        "id": "-hsYuQxwgrj1",
        "colab_type": "code",
        "colab": {}
      },
      "source": [
        "clf_xgb = xgb.XGBClassifier(objective = 'binary:logistic', \n",
        "                            seed = 42,\n",
        "                            gamma = 0.25,\n",
        "                            learn_rate = 0.1,\n",
        "                            max_depth = 4,\n",
        "                            reg_lambda = 100,\n",
        "                            scale_pos_weight = 3,\n",
        "                            subsample = 0.9,\n",
        "                            colsample_bytree = 0.5\n",
        "                            )"
      ],
      "execution_count": 68,
      "outputs": []
    },
    {
      "cell_type": "code",
      "metadata": {
        "id": "MRWpuPMAgrmu",
        "colab_type": "code",
        "colab": {
          "base_uri": "https://localhost:8080/",
          "height": 918
        },
        "outputId": "ed0fc14e-8a54-44d0-b920-d10d4bf58ada"
      },
      "source": [
        "clf_xgb.fit(X_train,\n",
        "            y_train,\n",
        "            verbose = True,\n",
        "            early_stopping_rounds = 10,                 \n",
        "            eval_metric = 'aucpr',\n",
        "            eval_set = [(X_test, y_test)])"
      ],
      "execution_count": 69,
      "outputs": [
        {
          "output_type": "stream",
          "text": [
            "[0]\tvalidation_0-aucpr:0.477919\n",
            "Will train until validation_0-aucpr hasn't improved in 10 rounds.\n",
            "[1]\tvalidation_0-aucpr:0.569095\n",
            "[2]\tvalidation_0-aucpr:0.602628\n",
            "[3]\tvalidation_0-aucpr:0.61737\n",
            "[4]\tvalidation_0-aucpr:0.613356\n",
            "[5]\tvalidation_0-aucpr:0.612386\n",
            "[6]\tvalidation_0-aucpr:0.619889\n",
            "[7]\tvalidation_0-aucpr:0.621884\n",
            "[8]\tvalidation_0-aucpr:0.621506\n",
            "[9]\tvalidation_0-aucpr:0.62228\n",
            "[10]\tvalidation_0-aucpr:0.622495\n",
            "[11]\tvalidation_0-aucpr:0.623476\n",
            "[12]\tvalidation_0-aucpr:0.622852\n",
            "[13]\tvalidation_0-aucpr:0.62548\n",
            "[14]\tvalidation_0-aucpr:0.626154\n",
            "[15]\tvalidation_0-aucpr:0.626782\n",
            "[16]\tvalidation_0-aucpr:0.627242\n",
            "[17]\tvalidation_0-aucpr:0.627662\n",
            "[18]\tvalidation_0-aucpr:0.628065\n",
            "[19]\tvalidation_0-aucpr:0.63012\n",
            "[20]\tvalidation_0-aucpr:0.630483\n",
            "[21]\tvalidation_0-aucpr:0.632459\n",
            "[22]\tvalidation_0-aucpr:0.632998\n",
            "[23]\tvalidation_0-aucpr:0.639247\n",
            "[24]\tvalidation_0-aucpr:0.639287\n",
            "[25]\tvalidation_0-aucpr:0.639345\n",
            "[26]\tvalidation_0-aucpr:0.640048\n",
            "[27]\tvalidation_0-aucpr:0.644362\n",
            "[28]\tvalidation_0-aucpr:0.644204\n",
            "[29]\tvalidation_0-aucpr:0.645861\n",
            "[30]\tvalidation_0-aucpr:0.646304\n",
            "[31]\tvalidation_0-aucpr:0.652024\n",
            "[32]\tvalidation_0-aucpr:0.651871\n",
            "[33]\tvalidation_0-aucpr:0.651746\n",
            "[34]\tvalidation_0-aucpr:0.650648\n",
            "[35]\tvalidation_0-aucpr:0.650092\n",
            "[36]\tvalidation_0-aucpr:0.649862\n",
            "[37]\tvalidation_0-aucpr:0.650337\n",
            "[38]\tvalidation_0-aucpr:0.647404\n",
            "[39]\tvalidation_0-aucpr:0.648093\n",
            "[40]\tvalidation_0-aucpr:0.647074\n",
            "[41]\tvalidation_0-aucpr:0.646349\n",
            "Stopping. Best iteration:\n",
            "[31]\tvalidation_0-aucpr:0.652024\n",
            "\n"
          ],
          "name": "stdout"
        },
        {
          "output_type": "execute_result",
          "data": {
            "text/plain": [
              "XGBClassifier(base_score=0.5, booster='gbtree', colsample_bylevel=1,\n",
              "              colsample_bynode=1, colsample_bytree=0.5, gamma=0.25,\n",
              "              learn_rate=0.1, learning_rate=0.1, max_delta_step=0, max_depth=4,\n",
              "              min_child_weight=1, missing=None, n_estimators=100, n_jobs=1,\n",
              "              nthread=None, objective='binary:logistic', random_state=0,\n",
              "              reg_alpha=0, reg_lambda=100, scale_pos_weight=3, seed=42,\n",
              "              silent=None, subsample=0.9, verbosity=1)"
            ]
          },
          "metadata": {
            "tags": []
          },
          "execution_count": 69
        }
      ]
    },
    {
      "cell_type": "code",
      "metadata": {
        "id": "e_BXO70ugrp8",
        "colab_type": "code",
        "colab": {
          "base_uri": "https://localhost:8080/",
          "height": 296
        },
        "outputId": "aba8642d-7e8c-43a4-9fbc-4b9883413df5"
      },
      "source": [
        "plot_confusion_matrix(clf_xgb,\n",
        "                      X_test,\n",
        "                      y_test,\n",
        "                      values_format = 'd',\n",
        "                      display_labels = ['Did not leave', 'Left'])"
      ],
      "execution_count": 70,
      "outputs": [
        {
          "output_type": "execute_result",
          "data": {
            "text/plain": [
              "<sklearn.metrics._plot.confusion_matrix.ConfusionMatrixDisplay at 0x7f5a173864e0>"
            ]
          },
          "metadata": {
            "tags": []
          },
          "execution_count": 70
        },
        {
          "output_type": "display_data",
          "data": {
            "image/png": "[encoded data removed]",
            "text/plain": [
              "<Figure size 432x288 with 2 Axes>"
            ]
          },
          "metadata": {
            "tags": [],
            "needs_background": "light"
          }
        }
      ]
    },
    {
      "cell_type": "markdown",
      "metadata": {
        "id": "nvdHGvbaidut",
        "colab_type": "text"
      },
      "source": [
        "This time, 80%+ of left ppl were correctly predicted, at the expense of worsening the correct prediction of the ppl not leaving, but the ppl who left is the core problem of this business settings, so we were better off."
      ]
    },
    {
      "cell_type": "code",
      "metadata": {
        "id": "iC8Ou89JiXvn",
        "colab_type": "code",
        "colab": {}
      },
      "source": [
        ""
      ],
      "execution_count": null,
      "outputs": []
    },
    {
      "cell_type": "code",
      "metadata": {
        "id": "UxmDNuzZjcpV",
        "colab_type": "code",
        "colab": {}
      },
      "source": [
        ""
      ],
      "execution_count": null,
      "outputs": []
    },
    {
      "cell_type": "code",
      "metadata": {
        "id": "9zYG8G_Cjcnm",
        "colab_type": "code",
        "colab": {}
      },
      "source": [
        "clf_xgb_plt = xgb.XGBClassifier(objective = 'binary:logistic', \n",
        "                            seed = 42,\n",
        "                            gamma = 0.25,\n",
        "                            learn_rate = 0.1,\n",
        "                            max_depth = 4,\n",
        "                            reg_lambda = 10,\n",
        "                            scale_pos_weight = 3,\n",
        "                            subsample = 0.9,\n",
        "                            colsample_bytree = 0.5,\n",
        "                            n_estimators = 1 # get only the first tree, to see gain, cover etc.\n",
        "                            )"
      ],
      "execution_count": 71,
      "outputs": []
    },
    {
      "cell_type": "code",
      "metadata": {
        "id": "bJ4AFAhUjcjH",
        "colab_type": "code",
        "colab": {
          "base_uri": "https://localhost:8080/",
          "height": 136
        },
        "outputId": "9174a5ac-7e8b-4050-a549-32dcf06e261c"
      },
      "source": [
        "clf_xgb_plt.fit(X_train, y_train)"
      ],
      "execution_count": 72,
      "outputs": [
        {
          "output_type": "execute_result",
          "data": {
            "text/plain": [
              "XGBClassifier(base_score=0.5, booster='gbtree', colsample_bylevel=1,\n",
              "              colsample_bynode=1, colsample_bytree=0.5, gamma=0.25,\n",
              "              learn_rate=0.1, learning_rate=0.1, max_delta_step=0, max_depth=4,\n",
              "              min_child_weight=1, missing=None, n_estimators=1, n_jobs=1,\n",
              "              nthread=None, objective='binary:logistic', random_state=0,\n",
              "              reg_alpha=0, reg_lambda=10, scale_pos_weight=3, seed=42,\n",
              "              silent=None, subsample=0.9, verbosity=1)"
            ]
          },
          "metadata": {
            "tags": []
          },
          "execution_count": 72
        }
      ]
    },
    {
      "cell_type": "code",
      "metadata": {
        "id": "TXhBV0mPjqhG",
        "colab_type": "code",
        "colab": {}
      },
      "source": [
        "bst = clf_xgb_plt.get_booster()"
      ],
      "execution_count": 73,
      "outputs": []
    },
    {
      "cell_type": "code",
      "metadata": {
        "id": "XZTnzhKqj5Cj",
        "colab_type": "code",
        "colab": {
          "base_uri": "https://localhost:8080/",
          "height": 34
        },
        "outputId": "a3c22e86-132a-4a98-c6c3-4610eec36426"
      },
      "source": [
        "bst"
      ],
      "execution_count": 74,
      "outputs": [
        {
          "output_type": "execute_result",
          "data": {
            "text/plain": [
              "<xgboost.core.Booster at 0x7f5a17be1358>"
            ]
          },
          "metadata": {
            "tags": []
          },
          "execution_count": 74
        }
      ]
    },
    {
      "cell_type": "code",
      "metadata": {
        "id": "dccpq3CFj5FW",
        "colab_type": "code",
        "colab": {
          "base_uri": "https://localhost:8080/",
          "height": 122
        },
        "outputId": "320246ce-67c5-4ea3-81df-13a3be82c504"
      },
      "source": [
        "for importance_type in ('weight', 'gain', 'cover', 'total_gain', 'total_cover'):\n",
        "  print('%s: ' % importance_type, bst.get_score(importance_type = importance_type))"
      ],
      "execution_count": 75,
      "outputs": [
        {
          "output_type": "stream",
          "text": [
            "weight:  {'Contract_Month-to-month': 1, 'Streaming_Movies_Yes': 1, 'Payment_Method_Electronic_check': 2, 'Zip_Code': 2, 'Tech_Support_Yes': 3, 'Paperless_Billing_No': 1, 'Longitude': 3, 'Online_Security_No_internet_service': 1, 'Gender_Female': 1}\n",
            "gain:  {'Contract_Month-to-month': 1631.77637, 'Streaming_Movies_Yes': 67.3808594, 'Payment_Method_Electronic_check': 50.922088650000006, 'Zip_Code': 5.201111790000001, 'Tech_Support_Yes': 23.726112366666666, 'Paperless_Billing_No': 9.83537102, 'Longitude': 6.548796336666666, 'Online_Security_No_internet_service': 213.820374, 'Gender_Female': 1.0939008}\n",
            "cover:  {'Contract_Month-to-month': 1820.25, 'Streaming_Movies_Yes': 609.5, 'Payment_Method_Electronic_check': 701.25, 'Zip_Code': 153.5, 'Tech_Support_Yes': 466.0, 'Paperless_Billing_No': 111.5, 'Longitude': 138.5, 'Online_Security_No_internet_service': 1210.75, 'Gender_Female': 6.0}\n",
            "total_gain:  {'Contract_Month-to-month': 1631.77637, 'Streaming_Movies_Yes': 67.3808594, 'Payment_Method_Electronic_check': 101.84417730000001, 'Zip_Code': 10.402223580000001, 'Tech_Support_Yes': 71.1783371, 'Paperless_Billing_No': 9.83537102, 'Longitude': 19.64638901, 'Online_Security_No_internet_service': 213.820374, 'Gender_Female': 1.0939008}\n",
            "total_cover:  {'Contract_Month-to-month': 1820.25, 'Streaming_Movies_Yes': 609.5, 'Payment_Method_Electronic_check': 1402.5, 'Zip_Code': 307.0, 'Tech_Support_Yes': 1398.0, 'Paperless_Billing_No': 111.5, 'Longitude': 415.5, 'Online_Security_No_internet_service': 1210.75, 'Gender_Female': 6.0}\n"
          ],
          "name": "stdout"
        }
      ]
    },
    {
      "cell_type": "code",
      "metadata": {
        "id": "9Kt_Z3A9kXCC",
        "colab_type": "code",
        "colab": {}
      },
      "source": [
        "node_params = {'shape': 'box',\n",
        "               'style': 'filled, rounded',\n",
        "               'fillcolor': '#78cbe'}"
      ],
      "execution_count": 76,
      "outputs": []
    },
    {
      "cell_type": "code",
      "metadata": {
        "id": "8L-kNst0kqla",
        "colab_type": "code",
        "colab": {}
      },
      "source": [
        "leaf_params = {'shape': 'box',\n",
        "               'style': 'filled',\n",
        "               'fillcolor': '#e48038'}"
      ],
      "execution_count": 77,
      "outputs": []
    },
    {
      "cell_type": "code",
      "metadata": {
        "id": "mPqEfTCukxbj",
        "colab_type": "code",
        "colab": {
          "base_uri": "https://localhost:8080/",
          "height": 178
        },
        "outputId": "281cd8c0-8765-424b-930d-72fab9a3ccf0"
      },
      "source": [
        "xgb.to_graphviz(clf_xgb_plt,\n",
        "                num_trees = 0,\n",
        "                size = \"10, 10\",\n",
        "                condition_node_params = node_params,\n",
        "                leaf_node_params = leaf_params)"
      ],
      "execution_count": 78,
      "outputs": [
        {
          "output_type": "execute_result",
          "data": {
            "text/plain": [
              "<graphviz.dot.Digraph at 0x7f5a17386550>"
            ],
            "image/svg+xml": "<?xml version=\"1.0\" encoding=\"UTF-8\" standalone=\"no\"?>\n<!DOCTYPE svg PUBLIC \"-//W3C//DTD SVG 1.1//EN\"\n \"http://www.w3.org/Graphics/SVG/1.1/DTD/svg11.dtd\">\n<!-- Generated by graphviz version 2.40.1 (20161225.0304)\n -->\n<!-- Title: %3 Pages: 1 -->\n<svg width=\"720pt\" height=\"118pt\"\n viewBox=\"0.00 0.00 720.00 118.09\" xmlns=\"http://www.w3.org/2000/svg\" xmlns:xlink=\"http://www.w3.org/1999/xlink\">\n<g id=\"graph0\" class=\"graph\" transform=\"scale(.3013 .3013) rotate(0) translate(4 388)\">\n<title>%3</title>\n<polygon fill=\"#ffffff\" stroke=\"transparent\" points=\"-4,4 -4,-388 2386,-388 2386,4 -4,4\"/>\n<!-- 0 -->\n<g id=\"node1\" class=\"node\">\n<title>0</title>\n<path fill=\"#78cb0e\" stroke=\"#000000\" d=\"M1181,-384C1181,-384 1020,-384 1020,-384 1014,-384 1008,-378 1008,-372 1008,-372 1008,-360 1008,-360 1008,-354 1014,-348 1020,-348 1020,-348 1181,-348 1181,-348 1187,-348 1193,-354 1193,-360 1193,-360 1193,-372 1193,-372 1193,-378 1187,-384 1181,-384\"/>\n<text text-anchor=\"middle\" x=\"1100.5\" y=\"-362.3\" font-family=\"Times,serif\" font-size=\"14.00\" fill=\"#000000\">Contract_Month&#45;to&#45;month&lt;1</text>\n</g>\n<!-- 1 -->\n<g id=\"node2\" class=\"node\">\n<title>1</title>\n<path fill=\"#78cb0e\" stroke=\"#000000\" d=\"M971,-297C971,-297 826,-297 826,-297 820,-297 814,-291 814,-285 814,-285 814,-273 814,-273 814,-267 820,-261 826,-261 826,-261 971,-261 971,-261 977,-261 983,-267 983,-273 983,-273 983,-285 983,-285 983,-291 977,-297 971,-297\"/>\n<text text-anchor=\"middle\" x=\"898.5\" y=\"-275.3\" font-family=\"Times,serif\" font-size=\"14.00\" fill=\"#000000\">Streaming_Movies_Yes&lt;1</text>\n</g>\n<!-- 0&#45;&gt;1 -->\n<g id=\"edge1\" class=\"edge\">\n<title>0&#45;&gt;1</title>\n<path fill=\"none\" stroke=\"#0000ff\" d=\"M1058.6455,-347.9735C1026.9566,-334.3254 983.2741,-315.5116 949.5351,-300.9805\"/>\n<polygon fill=\"#0000ff\" stroke=\"#0000ff\" points=\"950.8698,-297.7445 940.3009,-297.0034 948.1008,-304.1736 950.8698,-297.7445\"/>\n<text text-anchor=\"middle\" x=\"1048\" y=\"-318.8\" font-family=\"Times,serif\" font-size=\"14.00\" fill=\"#000000\">yes, missing</text>\n</g>\n<!-- 2 -->\n<g id=\"node3\" class=\"node\">\n<title>2</title>\n<path fill=\"#78cb0e\" stroke=\"#000000\" d=\"M1619.5,-297C1619.5,-297 1395.5,-297 1395.5,-297 1389.5,-297 1383.5,-291 1383.5,-285 1383.5,-285 1383.5,-273 1383.5,-273 1383.5,-267 1389.5,-261 1395.5,-261 1395.5,-261 1619.5,-261 1619.5,-261 1625.5,-261 1631.5,-267 1631.5,-273 1631.5,-273 1631.5,-285 1631.5,-285 1631.5,-291 1625.5,-297 1619.5,-297\"/>\n<text text-anchor=\"middle\" x=\"1507.5\" y=\"-275.3\" font-family=\"Times,serif\" font-size=\"14.00\" fill=\"#000000\">Online_Security_No_internet_service&lt;1</text>\n</g>\n<!-- 0&#45;&gt;2 -->\n<g id=\"edge2\" class=\"edge\">\n<title>0&#45;&gt;2</title>\n<path fill=\"none\" stroke=\"#ff0000\" d=\"M1184.8307,-347.9735C1251.4076,-333.7421 1344.2594,-313.8942 1413.2738,-299.1417\"/>\n<polygon fill=\"#ff0000\" stroke=\"#ff0000\" points=\"1414.2299,-302.5165 1423.2774,-297.0034 1412.7666,-295.6711 1414.2299,-302.5165\"/>\n<text text-anchor=\"middle\" x=\"1336.5\" y=\"-318.8\" font-family=\"Times,serif\" font-size=\"14.00\" fill=\"#000000\">no</text>\n</g>\n<!-- 3 -->\n<g id=\"node4\" class=\"node\">\n<title>3</title>\n<path fill=\"#78cb0e\" stroke=\"#000000\" d=\"M579,-210C579,-210 362,-210 362,-210 356,-210 350,-204 350,-198 350,-198 350,-186 350,-186 350,-180 356,-174 362,-174 362,-174 579,-174 579,-174 585,-174 591,-180 591,-186 591,-186 591,-198 591,-198 591,-204 585,-210 579,-210\"/>\n<text text-anchor=\"middle\" x=\"470.5\" y=\"-188.3\" font-family=\"Times,serif\" font-size=\"14.00\" fill=\"#000000\">Payment_Method_Electronic_check&lt;1</text>\n</g>\n<!-- 1&#45;&gt;3 -->\n<g id=\"edge3\" class=\"edge\">\n<title>1&#45;&gt;3</title>\n<path fill=\"none\" stroke=\"#0000ff\" d=\"M813.941,-261.8116C743.5297,-247.499 643.1721,-227.0992 569.1146,-212.0455\"/>\n<polygon fill=\"#0000ff\" stroke=\"#0000ff\" points=\"569.8005,-208.6134 559.3037,-210.0512 568.406,-215.4731 569.8005,-208.6134\"/>\n<text text-anchor=\"middle\" x=\"746\" y=\"-231.8\" font-family=\"Times,serif\" font-size=\"14.00\" fill=\"#000000\">yes, missing</text>\n</g>\n<!-- 4 -->\n<g id=\"node5\" class=\"node\">\n<title>4</title>\n<path fill=\"#78cb0e\" stroke=\"#000000\" d=\"M957.5,-210C957.5,-210 839.5,-210 839.5,-210 833.5,-210 827.5,-204 827.5,-198 827.5,-198 827.5,-186 827.5,-186 827.5,-180 833.5,-174 839.5,-174 839.5,-174 957.5,-174 957.5,-174 963.5,-174 969.5,-180 969.5,-186 969.5,-186 969.5,-198 969.5,-198 969.5,-204 963.5,-210 957.5,-210\"/>\n<text text-anchor=\"middle\" x=\"898.5\" y=\"-188.3\" font-family=\"Times,serif\" font-size=\"14.00\" fill=\"#000000\">Tech_Support_Yes&lt;1</text>\n</g>\n<!-- 1&#45;&gt;4 -->\n<g id=\"edge4\" class=\"edge\">\n<title>1&#45;&gt;4</title>\n<path fill=\"none\" stroke=\"#ff0000\" d=\"M898.5,-260.9735C898.5,-249.1918 898.5,-233.5607 898.5,-220.1581\"/>\n<polygon fill=\"#ff0000\" stroke=\"#ff0000\" points=\"902.0001,-220.0033 898.5,-210.0034 895.0001,-220.0034 902.0001,-220.0033\"/>\n<text text-anchor=\"middle\" x=\"906.5\" y=\"-231.8\" font-family=\"Times,serif\" font-size=\"14.00\" fill=\"#000000\">no</text>\n</g>\n<!-- 5 -->\n<g id=\"node18\" class=\"node\">\n<title>5</title>\n<path fill=\"#78cb0e\" stroke=\"#000000\" d=\"M1616,-210C1616,-210 1399,-210 1399,-210 1393,-210 1387,-204 1387,-198 1387,-198 1387,-186 1387,-186 1387,-180 1393,-174 1399,-174 1399,-174 1616,-174 1616,-174 1622,-174 1628,-180 1628,-186 1628,-186 1628,-198 1628,-198 1628,-204 1622,-210 1616,-210\"/>\n<text text-anchor=\"middle\" x=\"1507.5\" y=\"-188.3\" font-family=\"Times,serif\" font-size=\"14.00\" fill=\"#000000\">Payment_Method_Electronic_check&lt;1</text>\n</g>\n<!-- 2&#45;&gt;5 -->\n<g id=\"edge17\" class=\"edge\">\n<title>2&#45;&gt;5</title>\n<path fill=\"none\" stroke=\"#0000ff\" d=\"M1507.5,-260.9735C1507.5,-249.1918 1507.5,-233.5607 1507.5,-220.1581\"/>\n<polygon fill=\"#0000ff\" stroke=\"#0000ff\" points=\"1511.0001,-220.0033 1507.5,-210.0034 1504.0001,-220.0034 1511.0001,-220.0033\"/>\n<text text-anchor=\"middle\" x=\"1543\" y=\"-231.8\" font-family=\"Times,serif\" font-size=\"14.00\" fill=\"#000000\">yes, missing</text>\n</g>\n<!-- 6 -->\n<g id=\"node19\" class=\"node\">\n<title>6</title>\n<path fill=\"#78cb0e\" stroke=\"#000000\" d=\"M1980,-210C1980,-210 1843,-210 1843,-210 1837,-210 1831,-204 1831,-198 1831,-198 1831,-186 1831,-186 1831,-180 1837,-174 1843,-174 1843,-174 1980,-174 1980,-174 1986,-174 1992,-180 1992,-186 1992,-186 1992,-198 1992,-198 1992,-204 1986,-210 1980,-210\"/>\n<text text-anchor=\"middle\" x=\"1911.5\" y=\"-188.3\" font-family=\"Times,serif\" font-size=\"14.00\" fill=\"#000000\">Longitude&lt;&#45;123.596039</text>\n</g>\n<!-- 2&#45;&gt;6 -->\n<g id=\"edge18\" class=\"edge\">\n<title>2&#45;&gt;6</title>\n<path fill=\"none\" stroke=\"#ff0000\" d=\"M1591.2091,-260.9735C1658.2866,-246.5286 1752.2336,-226.2975 1821.035,-211.4813\"/>\n<polygon fill=\"#ff0000\" stroke=\"#ff0000\" points=\"1821.9583,-214.8628 1830.9974,-209.336 1820.4846,-208.0197 1821.9583,-214.8628\"/>\n<text text-anchor=\"middle\" x=\"1742.5\" y=\"-231.8\" font-family=\"Times,serif\" font-size=\"14.00\" fill=\"#000000\">no</text>\n</g>\n<!-- 7 -->\n<g id=\"node6\" class=\"node\">\n<title>7</title>\n<path fill=\"#78cb0e\" stroke=\"#000000\" d=\"M270,-123C270,-123 173,-123 173,-123 167,-123 161,-117 161,-111 161,-111 161,-99 161,-99 161,-93 167,-87 173,-87 173,-87 270,-87 270,-87 276,-87 282,-93 282,-99 282,-99 282,-111 282,-111 282,-117 276,-123 270,-123\"/>\n<text text-anchor=\"middle\" x=\"221.5\" y=\"-101.3\" font-family=\"Times,serif\" font-size=\"14.00\" fill=\"#000000\">Zip_Code&lt;90003</text>\n</g>\n<!-- 3&#45;&gt;7 -->\n<g id=\"edge5\" class=\"edge\">\n<title>3&#45;&gt;7</title>\n<path fill=\"none\" stroke=\"#0000ff\" d=\"M418.907,-173.9735C379.2607,-160.1212 324.3847,-140.9477 282.5518,-126.3313\"/>\n<polygon fill=\"#0000ff\" stroke=\"#0000ff\" points=\"283.6217,-122.9977 273.0269,-123.0034 281.3128,-129.606 283.6217,-122.9977\"/>\n<text text-anchor=\"middle\" x=\"397\" y=\"-144.8\" font-family=\"Times,serif\" font-size=\"14.00\" fill=\"#000000\">yes, missing</text>\n</g>\n<!-- 8 -->\n<g id=\"node7\" class=\"node\">\n<title>8</title>\n<path fill=\"#78cb0e\" stroke=\"#000000\" d=\"M519,-123C519,-123 422,-123 422,-123 416,-123 410,-117 410,-111 410,-111 410,-99 410,-99 410,-93 416,-87 422,-87 422,-87 519,-87 519,-87 525,-87 531,-93 531,-99 531,-99 531,-111 531,-111 531,-117 525,-123 519,-123\"/>\n<text text-anchor=\"middle\" x=\"470.5\" y=\"-101.3\" font-family=\"Times,serif\" font-size=\"14.00\" fill=\"#000000\">Zip_Code&lt;91254</text>\n</g>\n<!-- 3&#45;&gt;8 -->\n<g id=\"edge6\" class=\"edge\">\n<title>3&#45;&gt;8</title>\n<path fill=\"none\" stroke=\"#ff0000\" d=\"M470.5,-173.9735C470.5,-162.1918 470.5,-146.5607 470.5,-133.1581\"/>\n<polygon fill=\"#ff0000\" stroke=\"#ff0000\" points=\"474.0001,-133.0033 470.5,-123.0034 467.0001,-133.0034 474.0001,-133.0033\"/>\n<text text-anchor=\"middle\" x=\"478.5\" y=\"-144.8\" font-family=\"Times,serif\" font-size=\"14.00\" fill=\"#000000\">no</text>\n</g>\n<!-- 9 -->\n<g id=\"node12\" class=\"node\">\n<title>9</title>\n<path fill=\"#78cb0e\" stroke=\"#000000\" d=\"M876.5,-123C876.5,-123 742.5,-123 742.5,-123 736.5,-123 730.5,-117 730.5,-111 730.5,-111 730.5,-99 730.5,-99 730.5,-93 736.5,-87 742.5,-87 742.5,-87 876.5,-87 876.5,-87 882.5,-87 888.5,-93 888.5,-99 888.5,-99 888.5,-111 888.5,-111 888.5,-117 882.5,-123 876.5,-123\"/>\n<text text-anchor=\"middle\" x=\"809.5\" y=\"-101.3\" font-family=\"Times,serif\" font-size=\"14.00\" fill=\"#000000\">Paperless_Billing_No&lt;1</text>\n</g>\n<!-- 4&#45;&gt;9 -->\n<g id=\"edge11\" class=\"edge\">\n<title>4&#45;&gt;9</title>\n<path fill=\"none\" stroke=\"#0000ff\" d=\"M880.0591,-173.9735C867.0519,-161.2586 849.4582,-144.0603 835.0934,-130.0183\"/>\n<polygon fill=\"#0000ff\" stroke=\"#0000ff\" points=\"837.5148,-127.4908 827.9172,-123.0034 832.6216,-132.4965 837.5148,-127.4908\"/>\n<text text-anchor=\"middle\" x=\"895\" y=\"-144.8\" font-family=\"Times,serif\" font-size=\"14.00\" fill=\"#000000\">yes, missing</text>\n</g>\n<!-- 10 -->\n<g id=\"node13\" class=\"node\">\n<title>10</title>\n<path fill=\"#78cb0e\" stroke=\"#000000\" d=\"M1056,-123C1056,-123 919,-123 919,-123 913,-123 907,-117 907,-111 907,-111 907,-99 907,-99 907,-93 913,-87 919,-87 919,-87 1056,-87 1056,-87 1062,-87 1068,-93 1068,-99 1068,-99 1068,-111 1068,-111 1068,-117 1062,-123 1056,-123\"/>\n<text text-anchor=\"middle\" x=\"987.5\" y=\"-101.3\" font-family=\"Times,serif\" font-size=\"14.00\" fill=\"#000000\">Longitude&lt;&#45;123.818764</text>\n</g>\n<!-- 4&#45;&gt;10 -->\n<g id=\"edge12\" class=\"edge\">\n<title>4&#45;&gt;10</title>\n<path fill=\"none\" stroke=\"#ff0000\" d=\"M916.9409,-173.9735C929.9481,-161.2586 947.5418,-144.0603 961.9066,-130.0183\"/>\n<polygon fill=\"#ff0000\" stroke=\"#ff0000\" points=\"964.3784,-132.4965 969.0828,-123.0034 959.4852,-127.4908 964.3784,-132.4965\"/>\n<text text-anchor=\"middle\" x=\"956.5\" y=\"-144.8\" font-family=\"Times,serif\" font-size=\"14.00\" fill=\"#000000\">no</text>\n</g>\n<!-- 15 -->\n<g id=\"node8\" class=\"node\">\n<title>15</title>\n<polygon fill=\"#e48038\" stroke=\"#000000\" points=\"139,-36 0,-36 0,0 139,0 139,-36\"/>\n<text text-anchor=\"middle\" x=\"69.5\" y=\"-14.3\" font-family=\"Times,serif\" font-size=\"14.00\" fill=\"#000000\">leaf=0.00909090973</text>\n</g>\n<!-- 7&#45;&gt;15 -->\n<g id=\"edge7\" class=\"edge\">\n<title>7&#45;&gt;15</title>\n<path fill=\"none\" stroke=\"#0000ff\" d=\"M181.2751,-86.9432C169.87,-81.4886 157.5535,-75.274 146.5,-69 131.9725,-60.7541 116.5171,-50.7735 103.2948,-41.8356\"/>\n<polygon fill=\"#0000ff\" stroke=\"#0000ff\" points=\"105.1919,-38.8929 94.9605,-36.1415 101.243,-44.6727 105.1919,-38.8929\"/>\n<text text-anchor=\"middle\" x=\"182\" y=\"-57.8\" font-family=\"Times,serif\" font-size=\"14.00\" fill=\"#000000\">yes, missing</text>\n</g>\n<!-- 16 -->\n<g id=\"node9\" class=\"node\">\n<title>16</title>\n<polygon fill=\"#e48038\" stroke=\"#000000\" points=\"285.5,-36 157.5,-36 157.5,0 285.5,0 285.5,-36\"/>\n<text text-anchor=\"middle\" x=\"221.5\" y=\"-14.3\" font-family=\"Times,serif\" font-size=\"14.00\" fill=\"#000000\">leaf=&#45;0.169340476</text>\n</g>\n<!-- 7&#45;&gt;16 -->\n<g id=\"edge8\" class=\"edge\">\n<title>7&#45;&gt;16</title>\n<path fill=\"none\" stroke=\"#ff0000\" d=\"M221.5,-86.9735C221.5,-75.1918 221.5,-59.5607 221.5,-46.1581\"/>\n<polygon fill=\"#ff0000\" stroke=\"#ff0000\" points=\"225.0001,-46.0033 221.5,-36.0034 218.0001,-46.0034 225.0001,-46.0033\"/>\n<text text-anchor=\"middle\" x=\"229.5\" y=\"-57.8\" font-family=\"Times,serif\" font-size=\"14.00\" fill=\"#000000\">no</text>\n</g>\n<!-- 17 -->\n<g id=\"node10\" class=\"node\">\n<title>17</title>\n<polygon fill=\"#e48038\" stroke=\"#000000\" points=\"443,-36 304,-36 304,0 443,0 443,-36\"/>\n<text text-anchor=\"middle\" x=\"373.5\" y=\"-14.3\" font-family=\"Times,serif\" font-size=\"14.00\" fill=\"#000000\">leaf=0.00317460345</text>\n</g>\n<!-- 8&#45;&gt;17 -->\n<g id=\"edge9\" class=\"edge\">\n<title>8&#45;&gt;17</title>\n<path fill=\"none\" stroke=\"#0000ff\" d=\"M441.7694,-86.9452C433.9321,-81.5375 425.6395,-75.3468 418.5,-69 410.0733,-61.509 401.6724,-52.5111 394.4503,-44.1724\"/>\n<polygon fill=\"#0000ff\" stroke=\"#0000ff\" points=\"397.0527,-41.8294 387.9248,-36.4504 391.706,-46.3475 397.0527,-41.8294\"/>\n<text text-anchor=\"middle\" x=\"454\" y=\"-57.8\" font-family=\"Times,serif\" font-size=\"14.00\" fill=\"#000000\">yes, missing</text>\n</g>\n<!-- 18 -->\n<g id=\"node11\" class=\"node\">\n<title>18</title>\n<polygon fill=\"#e48038\" stroke=\"#000000\" points=\"582,-36 461,-36 461,0 582,0 582,-36\"/>\n<text text-anchor=\"middle\" x=\"521.5\" y=\"-14.3\" font-family=\"Times,serif\" font-size=\"14.00\" fill=\"#000000\">leaf=&#45;0.08176101</text>\n</g>\n<!-- 8&#45;&gt;18 -->\n<g id=\"edge10\" class=\"edge\">\n<title>8&#45;&gt;18</title>\n<path fill=\"none\" stroke=\"#ff0000\" d=\"M481.0672,-86.9735C488.1789,-74.8418 497.6832,-58.6287 505.6901,-44.9698\"/>\n<polygon fill=\"#ff0000\" stroke=\"#ff0000\" points=\"508.9085,-46.4004 510.9463,-36.0034 502.8696,-42.8603 508.9085,-46.4004\"/>\n<text text-anchor=\"middle\" x=\"507.5\" y=\"-57.8\" font-family=\"Times,serif\" font-size=\"14.00\" fill=\"#000000\">no</text>\n</g>\n<!-- 19 -->\n<g id=\"node14\" class=\"node\">\n<title>19</title>\n<polygon fill=\"#e48038\" stroke=\"#000000\" points=\"736.5,-36 600.5,-36 600.5,0 736.5,0 736.5,-36\"/>\n<text text-anchor=\"middle\" x=\"668.5\" y=\"-14.3\" font-family=\"Times,serif\" font-size=\"14.00\" fill=\"#000000\">leaf=&#45;0.0234636869</text>\n</g>\n<!-- 9&#45;&gt;19 -->\n<g id=\"edge13\" class=\"edge\">\n<title>9&#45;&gt;19</title>\n<path fill=\"none\" stroke=\"#0000ff\" d=\"M772.4624,-86.8483C761.9692,-81.3922 750.6454,-75.2006 740.5,-69 727.013,-60.7572 712.7007,-50.8733 700.4197,-42.0106\"/>\n<polygon fill=\"#0000ff\" stroke=\"#0000ff\" points=\"702.4186,-39.1365 692.2771,-36.0707 698.2932,-44.7917 702.4186,-39.1365\"/>\n<text text-anchor=\"middle\" x=\"776\" y=\"-57.8\" font-family=\"Times,serif\" font-size=\"14.00\" fill=\"#000000\">yes, missing</text>\n</g>\n<!-- 20 -->\n<g id=\"node15\" class=\"node\">\n<title>20</title>\n<polygon fill=\"#e48038\" stroke=\"#000000\" points=\"890.5,-36 754.5,-36 754.5,0 890.5,0 890.5,-36\"/>\n<text text-anchor=\"middle\" x=\"822.5\" y=\"-14.3\" font-family=\"Times,serif\" font-size=\"14.00\" fill=\"#000000\">leaf=&#45;0.0880952403</text>\n</g>\n<!-- 9&#45;&gt;20 -->\n<g id=\"edge14\" class=\"edge\">\n<title>9&#45;&gt;20</title>\n<path fill=\"none\" stroke=\"#ff0000\" d=\"M812.1936,-86.9735C813.9541,-75.1918 816.2898,-59.5607 818.2925,-46.1581\"/>\n<polygon fill=\"#ff0000\" stroke=\"#ff0000\" points=\"821.7935,-46.4108 819.8098,-36.0034 814.8703,-45.3763 821.7935,-46.4108\"/>\n<text text-anchor=\"middle\" x=\"825.5\" y=\"-57.8\" font-family=\"Times,serif\" font-size=\"14.00\" fill=\"#000000\">no</text>\n</g>\n<!-- 21 -->\n<g id=\"node16\" class=\"node\">\n<title>21</title>\n<polygon fill=\"#e48038\" stroke=\"#000000\" points=\"1040,-36 909,-36 909,0 1040,0 1040,-36\"/>\n<text text-anchor=\"middle\" x=\"974.5\" y=\"-14.3\" font-family=\"Times,serif\" font-size=\"14.00\" fill=\"#000000\">leaf=0.0064516128</text>\n</g>\n<!-- 10&#45;&gt;21 -->\n<g id=\"edge15\" class=\"edge\">\n<title>10&#45;&gt;21</title>\n<path fill=\"none\" stroke=\"#0000ff\" d=\"M984.8064,-86.9735C983.0459,-75.1918 980.7102,-59.5607 978.7075,-46.1581\"/>\n<polygon fill=\"#0000ff\" stroke=\"#0000ff\" points=\"982.1297,-45.3763 977.1902,-36.0034 975.2065,-46.4108 982.1297,-45.3763\"/>\n<text text-anchor=\"middle\" x=\"1018\" y=\"-57.8\" font-family=\"Times,serif\" font-size=\"14.00\" fill=\"#000000\">yes, missing</text>\n</g>\n<!-- 22 -->\n<g id=\"node17\" class=\"node\">\n<title>22</title>\n<polygon fill=\"#e48038\" stroke=\"#000000\" points=\"1186.5,-36 1058.5,-36 1058.5,0 1186.5,0 1186.5,-36\"/>\n<text text-anchor=\"middle\" x=\"1122.5\" y=\"-14.3\" font-family=\"Times,serif\" font-size=\"14.00\" fill=\"#000000\">leaf=&#45;0.109974422</text>\n</g>\n<!-- 10&#45;&gt;22 -->\n<g id=\"edge16\" class=\"edge\">\n<title>10&#45;&gt;22</title>\n<path fill=\"none\" stroke=\"#ff0000\" d=\"M1026.0198,-86.8507C1036.4604,-81.4877 1047.6065,-75.3435 1057.5,-69 1069.8163,-61.103 1082.637,-51.4026 1093.6048,-42.5895\"/>\n<polygon fill=\"#ff0000\" stroke=\"#ff0000\" points=\"1096.0598,-45.1035 1101.5918,-36.0676 1091.6324,-39.6815 1096.0598,-45.1035\"/>\n<text text-anchor=\"middle\" x=\"1086.5\" y=\"-57.8\" font-family=\"Times,serif\" font-size=\"14.00\" fill=\"#000000\">no</text>\n</g>\n<!-- 11 -->\n<g id=\"node20\" class=\"node\">\n<title>11</title>\n<path fill=\"#78cb0e\" stroke=\"#000000\" d=\"M1470.5,-123C1470.5,-123 1352.5,-123 1352.5,-123 1346.5,-123 1340.5,-117 1340.5,-111 1340.5,-111 1340.5,-99 1340.5,-99 1340.5,-93 1346.5,-87 1352.5,-87 1352.5,-87 1470.5,-87 1470.5,-87 1476.5,-87 1482.5,-93 1482.5,-99 1482.5,-99 1482.5,-111 1482.5,-111 1482.5,-117 1476.5,-123 1470.5,-123\"/>\n<text text-anchor=\"middle\" x=\"1411.5\" y=\"-101.3\" font-family=\"Times,serif\" font-size=\"14.00\" fill=\"#000000\">Tech_Support_Yes&lt;1</text>\n</g>\n<!-- 5&#45;&gt;11 -->\n<g id=\"edge19\" class=\"edge\">\n<title>5&#45;&gt;11</title>\n<path fill=\"none\" stroke=\"#0000ff\" d=\"M1483.1403,-173.8946C1476.0083,-168.34 1468.3031,-162.0842 1461.5,-156 1452.5839,-148.026 1443.2874,-138.8197 1435.1633,-130.442\"/>\n<polygon fill=\"#0000ff\" stroke=\"#0000ff\" points=\"1437.5205,-127.843 1428.0766,-123.0404 1432.4643,-132.684 1437.5205,-127.843\"/>\n<text text-anchor=\"middle\" x=\"1497\" y=\"-144.8\" font-family=\"Times,serif\" font-size=\"14.00\" fill=\"#000000\">yes, missing</text>\n</g>\n<!-- 12 -->\n<g id=\"node21\" class=\"node\">\n<title>12</title>\n<path fill=\"#78cb0e\" stroke=\"#000000\" d=\"M1630.5,-123C1630.5,-123 1512.5,-123 1512.5,-123 1506.5,-123 1500.5,-117 1500.5,-111 1500.5,-111 1500.5,-99 1500.5,-99 1500.5,-93 1506.5,-87 1512.5,-87 1512.5,-87 1630.5,-87 1630.5,-87 1636.5,-87 1642.5,-93 1642.5,-99 1642.5,-99 1642.5,-111 1642.5,-111 1642.5,-117 1636.5,-123 1630.5,-123\"/>\n<text text-anchor=\"middle\" x=\"1571.5\" y=\"-101.3\" font-family=\"Times,serif\" font-size=\"14.00\" fill=\"#000000\">Tech_Support_Yes&lt;1</text>\n</g>\n<!-- 5&#45;&gt;12 -->\n<g id=\"edge20\" class=\"edge\">\n<title>5&#45;&gt;12</title>\n<path fill=\"none\" stroke=\"#ff0000\" d=\"M1520.7608,-173.9735C1529.857,-161.6085 1542.0721,-145.0036 1552.2377,-131.1847\"/>\n<polygon fill=\"#ff0000\" stroke=\"#ff0000\" points=\"1555.1498,-133.1326 1558.2561,-123.0034 1549.5111,-128.9846 1555.1498,-133.1326\"/>\n<text text-anchor=\"middle\" x=\"1551.5\" y=\"-144.8\" font-family=\"Times,serif\" font-size=\"14.00\" fill=\"#000000\">no</text>\n</g>\n<!-- 13 -->\n<g id=\"node26\" class=\"node\">\n<title>13</title>\n<path fill=\"#78cb0e\" stroke=\"#000000\" d=\"M1961,-123C1961,-123 1862,-123 1862,-123 1856,-123 1850,-117 1850,-111 1850,-111 1850,-99 1850,-99 1850,-93 1856,-87 1862,-87 1862,-87 1961,-87 1961,-87 1967,-87 1973,-93 1973,-99 1973,-99 1973,-111 1973,-111 1973,-117 1967,-123 1961,-123\"/>\n<text text-anchor=\"middle\" x=\"1911.5\" y=\"-101.3\" font-family=\"Times,serif\" font-size=\"14.00\" fill=\"#000000\">Gender_Female&lt;1</text>\n</g>\n<!-- 6&#45;&gt;13 -->\n<g id=\"edge25\" class=\"edge\">\n<title>6&#45;&gt;13</title>\n<path fill=\"none\" stroke=\"#0000ff\" d=\"M1911.5,-173.9735C1911.5,-162.1918 1911.5,-146.5607 1911.5,-133.1581\"/>\n<polygon fill=\"#0000ff\" stroke=\"#0000ff\" points=\"1915.0001,-133.0033 1911.5,-123.0034 1908.0001,-133.0034 1915.0001,-133.0033\"/>\n<text text-anchor=\"middle\" x=\"1947\" y=\"-144.8\" font-family=\"Times,serif\" font-size=\"14.00\" fill=\"#000000\">yes, missing</text>\n</g>\n<!-- 14 -->\n<g id=\"node27\" class=\"node\">\n<title>14</title>\n<path fill=\"#78cb0e\" stroke=\"#000000\" d=\"M2232.5,-123C2232.5,-123 2096.5,-123 2096.5,-123 2090.5,-123 2084.5,-117 2084.5,-111 2084.5,-111 2084.5,-99 2084.5,-99 2084.5,-93 2090.5,-87 2096.5,-87 2096.5,-87 2232.5,-87 2232.5,-87 2238.5,-87 2244.5,-93 2244.5,-99 2244.5,-99 2244.5,-111 2244.5,-111 2244.5,-117 2238.5,-123 2232.5,-123\"/>\n<text text-anchor=\"middle\" x=\"2164.5\" y=\"-101.3\" font-family=\"Times,serif\" font-size=\"14.00\" fill=\"#000000\">Longitude&lt;&#45;116.598206</text>\n</g>\n<!-- 6&#45;&gt;14 -->\n<g id=\"edge26\" class=\"edge\">\n<title>6&#45;&gt;14</title>\n<path fill=\"none\" stroke=\"#ff0000\" d=\"M1963.9218,-173.9735C2004.205,-160.1212 2059.9626,-140.9477 2102.4675,-126.3313\"/>\n<polygon fill=\"#ff0000\" stroke=\"#ff0000\" points=\"2103.827,-129.5651 2112.1454,-123.0034 2101.5507,-122.9455 2103.827,-129.5651\"/>\n<text text-anchor=\"middle\" x=\"2061.5\" y=\"-144.8\" font-family=\"Times,serif\" font-size=\"14.00\" fill=\"#000000\">no</text>\n</g>\n<!-- 23 -->\n<g id=\"node22\" class=\"node\">\n<title>23</title>\n<polygon fill=\"#e48038\" stroke=\"#000000\" points=\"1336,-36 1205,-36 1205,0 1336,0 1336,-36\"/>\n<text text-anchor=\"middle\" x=\"1270.5\" y=\"-14.3\" font-family=\"Times,serif\" font-size=\"14.00\" fill=\"#000000\">leaf=0.0651872382</text>\n</g>\n<!-- 11&#45;&gt;23 -->\n<g id=\"edge21\" class=\"edge\">\n<title>11&#45;&gt;23</title>\n<path fill=\"none\" stroke=\"#0000ff\" d=\"M1372.9329,-86.8567C1362.2385,-81.4481 1350.7539,-75.2791 1340.5,-69 1327.3955,-60.9754 1313.5984,-51.2302 1301.75,-42.417\"/>\n<polygon fill=\"#0000ff\" stroke=\"#0000ff\" points=\"1303.597,-39.4264 1293.5047,-36.2023 1299.3837,-45.0163 1303.597,-39.4264\"/>\n<text text-anchor=\"middle\" x=\"1376\" y=\"-57.8\" font-family=\"Times,serif\" font-size=\"14.00\" fill=\"#000000\">yes, missing</text>\n</g>\n<!-- 24 -->\n<g id=\"node23\" class=\"node\">\n<title>24</title>\n<polygon fill=\"#e48038\" stroke=\"#000000\" points=\"1485,-36 1354,-36 1354,0 1485,0 1485,-36\"/>\n<text text-anchor=\"middle\" x=\"1419.5\" y=\"-14.3\" font-family=\"Times,serif\" font-size=\"14.00\" fill=\"#000000\">leaf=0.0022573364</text>\n</g>\n<!-- 11&#45;&gt;24 -->\n<g id=\"edge22\" class=\"edge\">\n<title>11&#45;&gt;24</title>\n<path fill=\"none\" stroke=\"#ff0000\" d=\"M1413.1576,-86.9735C1414.241,-75.1918 1415.6783,-59.5607 1416.9108,-46.1581\"/>\n<polygon fill=\"#ff0000\" stroke=\"#ff0000\" points=\"1420.414,-46.2819 1417.8445,-36.0034 1413.4435,-45.6408 1420.414,-46.2819\"/>\n<text text-anchor=\"middle\" x=\"1424.5\" y=\"-57.8\" font-family=\"Times,serif\" font-size=\"14.00\" fill=\"#000000\">no</text>\n</g>\n<!-- 25 -->\n<g id=\"node24\" class=\"node\">\n<title>25</title>\n<polygon fill=\"#e48038\" stroke=\"#000000\" points=\"1626,-36 1503,-36 1503,0 1626,0 1626,-36\"/>\n<text text-anchor=\"middle\" x=\"1564.5\" y=\"-14.3\" font-family=\"Times,serif\" font-size=\"14.00\" fill=\"#000000\">leaf=0.118599556</text>\n</g>\n<!-- 12&#45;&gt;25 -->\n<g id=\"edge23\" class=\"edge\">\n<title>12&#45;&gt;25</title>\n<path fill=\"none\" stroke=\"#0000ff\" d=\"M1570.0496,-86.9735C1569.1016,-75.1918 1567.844,-59.5607 1566.7656,-46.1581\"/>\n<polygon fill=\"#0000ff\" stroke=\"#0000ff\" points=\"1570.2394,-45.6904 1565.9485,-36.0034 1563.2619,-46.2519 1570.2394,-45.6904\"/>\n<text text-anchor=\"middle\" x=\"1604\" y=\"-57.8\" font-family=\"Times,serif\" font-size=\"14.00\" fill=\"#000000\">yes, missing</text>\n</g>\n<!-- 26 -->\n<g id=\"node25\" class=\"node\">\n<title>26</title>\n<polygon fill=\"#e48038\" stroke=\"#000000\" points=\"1775,-36 1644,-36 1644,0 1775,0 1775,-36\"/>\n<text text-anchor=\"middle\" x=\"1709.5\" y=\"-14.3\" font-family=\"Times,serif\" font-size=\"14.00\" fill=\"#000000\">leaf=0.0537634455</text>\n</g>\n<!-- 12&#45;&gt;26 -->\n<g id=\"edge24\" class=\"edge\">\n<title>12&#45;&gt;26</title>\n<path fill=\"none\" stroke=\"#ff0000\" d=\"M1611.1178,-86.9149C1621.8567,-81.5522 1633.3219,-75.3921 1643.5,-69 1656.0082,-61.1446 1669.0265,-51.4526 1680.1629,-42.6346\"/>\n<polygon fill=\"#ff0000\" stroke=\"#ff0000\" points=\"1682.6773,-45.1037 1688.2724,-36.1067 1678.2879,-39.6508 1682.6773,-45.1037\"/>\n<text text-anchor=\"middle\" x=\"1672.5\" y=\"-57.8\" font-family=\"Times,serif\" font-size=\"14.00\" fill=\"#000000\">no</text>\n</g>\n<!-- 27 -->\n<g id=\"node28\" class=\"node\">\n<title>27</title>\n<polygon fill=\"#e48038\" stroke=\"#000000\" points=\"1924,-36 1793,-36 1793,0 1924,0 1924,-36\"/>\n<text text-anchor=\"middle\" x=\"1858.5\" y=\"-14.3\" font-family=\"Times,serif\" font-size=\"14.00\" fill=\"#000000\">leaf=0.0327272713</text>\n</g>\n<!-- 13&#45;&gt;27 -->\n<g id=\"edge27\" class=\"edge\">\n<title>13&#45;&gt;27</title>\n<path fill=\"none\" stroke=\"#0000ff\" d=\"M1900.5184,-86.9735C1893.0567,-74.7252 1883.0606,-58.3165 1874.6903,-44.5766\"/>\n<polygon fill=\"#0000ff\" stroke=\"#0000ff\" points=\"1877.6592,-42.7225 1869.4676,-36.0034 1871.6812,-46.3644 1877.6592,-42.7225\"/>\n<text text-anchor=\"middle\" x=\"1924\" y=\"-57.8\" font-family=\"Times,serif\" font-size=\"14.00\" fill=\"#000000\">yes, missing</text>\n</g>\n<!-- 28 -->\n<g id=\"node29\" class=\"node\">\n<title>28</title>\n<polygon fill=\"#e48038\" stroke=\"#000000\" points=\"2078.5,-36 1942.5,-36 1942.5,0 2078.5,0 2078.5,-36\"/>\n<text text-anchor=\"middle\" x=\"2010.5\" y=\"-14.3\" font-family=\"Times,serif\" font-size=\"14.00\" fill=\"#000000\">leaf=&#45;0.0122448979</text>\n</g>\n<!-- 13&#45;&gt;28 -->\n<g id=\"edge28\" class=\"edge\">\n<title>13&#45;&gt;28</title>\n<path fill=\"none\" stroke=\"#ff0000\" d=\"M1940.1414,-86.8438C1947.9778,-81.4351 1956.2923,-75.2692 1963.5,-69 1972.1747,-61.4549 1980.9169,-52.4432 1988.4694,-44.1085\"/>\n<polygon fill=\"#ff0000\" stroke=\"#ff0000\" points=\"1991.2921,-46.2006 1995.3049,-36.3951 1986.0531,-41.5579 1991.2921,-46.2006\"/>\n<text text-anchor=\"middle\" x=\"1987.5\" y=\"-57.8\" font-family=\"Times,serif\" font-size=\"14.00\" fill=\"#000000\">no</text>\n</g>\n<!-- 29 -->\n<g id=\"node30\" class=\"node\">\n<title>29</title>\n<polygon fill=\"#e48038\" stroke=\"#000000\" points=\"2232.5,-36 2096.5,-36 2096.5,0 2232.5,0 2232.5,-36\"/>\n<text text-anchor=\"middle\" x=\"2164.5\" y=\"-14.3\" font-family=\"Times,serif\" font-size=\"14.00\" fill=\"#000000\">leaf=&#45;0.0615053773</text>\n</g>\n<!-- 14&#45;&gt;29 -->\n<g id=\"edge29\" class=\"edge\">\n<title>14&#45;&gt;29</title>\n<path fill=\"none\" stroke=\"#0000ff\" d=\"M2164.5,-86.9735C2164.5,-75.1918 2164.5,-59.5607 2164.5,-46.1581\"/>\n<polygon fill=\"#0000ff\" stroke=\"#0000ff\" points=\"2168.0001,-46.0033 2164.5,-36.0034 2161.0001,-46.0034 2168.0001,-46.0033\"/>\n<text text-anchor=\"middle\" x=\"2200\" y=\"-57.8\" font-family=\"Times,serif\" font-size=\"14.00\" fill=\"#000000\">yes, missing</text>\n</g>\n<!-- 30 -->\n<g id=\"node31\" class=\"node\">\n<title>30</title>\n<polygon fill=\"#e48038\" stroke=\"#000000\" points=\"2382,-36 2251,-36 2251,0 2382,0 2382,-36\"/>\n<text text-anchor=\"middle\" x=\"2316.5\" y=\"-14.3\" font-family=\"Times,serif\" font-size=\"14.00\" fill=\"#000000\">leaf=0.0230769236</text>\n</g>\n<!-- 14&#45;&gt;30 -->\n<g id=\"edge30\" class=\"edge\">\n<title>14&#45;&gt;30</title>\n<path fill=\"none\" stroke=\"#ff0000\" d=\"M2204.7249,-86.9432C2216.13,-81.4886 2228.4465,-75.274 2239.5,-69 2254.0275,-60.7541 2269.4829,-50.7735 2282.7052,-41.8356\"/>\n<polygon fill=\"#ff0000\" stroke=\"#ff0000\" points=\"2284.757,-44.6727 2291.0395,-36.1415 2280.8081,-38.8929 2284.757,-44.6727\"/>\n<text text-anchor=\"middle\" x=\"2270.5\" y=\"-57.8\" font-family=\"Times,serif\" font-size=\"14.00\" fill=\"#000000\">no</text>\n</g>\n</g>\n</svg>\n"
          },
          "metadata": {
            "tags": []
          },
          "execution_count": 78
        }
      ]
    },
    {
      "cell_type": "code",
      "metadata": {
        "id": "1D_tpSOFnbiw",
        "colab_type": "code",
        "colab": {
          "base_uri": "https://localhost:8080/",
          "height": 714
        },
        "outputId": "4f30cd09-5850-40bc-8dfa-e51f761151ef"
      },
      "source": [
        "experiment.end()"
      ],
      "execution_count": 79,
      "outputs": [
        {
          "output_type": "stream",
          "text": [
            "COMET INFO: ---------------------------\n",
            "COMET INFO: Comet.ml Experiment Summary\n",
            "COMET INFO: ---------------------------\n",
            "COMET INFO:   Data:\n",
            "COMET INFO:     display_summary_level : 1\n",
            "COMET INFO:     url                   : https://www.comet.ml/sooner0931/xgboost/5fc52cc0a47a4087898685d2122b8f4e\n",
            "COMET INFO:   Metrics [count] (min, max):\n",
            "COMET INFO:     validation_0_auc [100]  : (0.770266, 0.861775)\n",
            "COMET INFO:     validation_0_aucpr [96] : (0.477919, 0.665552)\n",
            "COMET INFO:   Parameters:\n",
            "COMET INFO:     base_score        : 0.5\n",
            "COMET INFO:     booster           : gbtree\n",
            "COMET INFO:     colsample_bylevel : 1\n",
            "COMET INFO:     colsample_bynode  : 1\n",
            "COMET INFO:     colsample_bytree  : 1\n",
            "COMET INFO:     eval_metric       : aucpr\n",
            "COMET INFO:     gamma             : 1\n",
            "COMET INFO:     learning_rate     : 0.1\n",
            "COMET INFO:     max_delta_step    : 1\n",
            "COMET INFO:     max_depth         : 3\n",
            "COMET INFO:     min_child_weight  : 1\n",
            "COMET INFO:     n_estimators      : 100\n",
            "COMET INFO:     nthread           : 1\n",
            "COMET INFO:     objective         : binary:logistic\n",
            "COMET INFO:     reg_alpha         : 1\n",
            "COMET INFO:     reg_lambda        : 1\n",
            "COMET INFO:     scale_pos_weight  : 1\n",
            "COMET INFO:     seed              : 42\n",
            "COMET INFO:     subsample         : 1\n",
            "COMET INFO:     verbosity         : 1\n",
            "COMET INFO:   Uploads:\n",
            "COMET INFO:     code                : 1 (8 KB)\n",
            "COMET INFO:     environment details : 1\n",
            "COMET INFO:     filename            : 1\n",
            "COMET INFO:     installed packages  : 1\n",
            "COMET INFO:     notebook            : 1\n",
            "COMET INFO:     os packages         : 1\n",
            "COMET INFO: ---------------------------\n",
            "COMET INFO: Uploading stats to Comet before program termination (may take several seconds)\n",
            "COMET INFO: Waiting for completion of the file uploads (may take several seconds)\n",
            "COMET INFO: Still uploading\n"
          ],
          "name": "stderr"
        }
      ]
    }
  ]
}